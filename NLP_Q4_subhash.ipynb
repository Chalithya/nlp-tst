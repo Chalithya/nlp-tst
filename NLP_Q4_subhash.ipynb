{
  "cells": [
    {
      "cell_type": "code",
      "execution_count": 3,
      "id": "bd25b06d-75c0-43e8-bf5e-24f07167c3f8",
      "metadata": {
        "tags": [],
        "id": "bd25b06d-75c0-43e8-bf5e-24f07167c3f8"
      },
      "outputs": [],
      "source": [
        "import pandas as pd\n",
        "import numpy as np\n",
        "import matplotlib.pyplot as plt\n",
        "\n",
        "import seaborn as sns\n",
        "import nltk\n",
        "from tqdm import tqdm\n",
        "tqdm.pandas()\n",
        "\n",
        "from sklearn.metrics import classification_report, accuracy_score, f1_score, roc_auc_score, confusion_matrix, roc_curve, auc\n",
        "\n",
        "import re\n",
        "# import emoji\n",
        "import multiprocessing\n",
        "\n",
        "from multiprocessing import Pool\n",
        "\n",
        "from sklearn.model_selection import train_test_split\n",
        "from tensorflow.keras.preprocessing.text import Tokenizer\n",
        "from tensorflow.keras.preprocessing.sequence import pad_sequences\n",
        "import os\n",
        "import warnings\n",
        "\n",
        "\n",
        "#os.environ['TF_CPP_MIN_LOG_LEVEL'] = '3'\n",
        "warnings.filterwarnings('ignore')\n",
        "\n",
        "import tensorflow as tf\n"
      ]
    },
    {
      "cell_type": "code",
      "source": [
        "import numpy as np\n",
        "import pandas as pd\n",
        "import tensorflow as tf\n",
        "from tensorflow.keras.models import Model\n",
        "from tensorflow.keras.layers import (Input, Embedding, Dropout, Dense, LayerNormalization,\n",
        "                                     MultiHeadAttention, GlobalAveragePooling1D, Lambda)\n",
        "from tensorflow.keras.preprocessing.text import Tokenizer\n",
        "from tensorflow.keras.preprocessing.sequence import pad_sequences\n",
        "from sklearn.metrics import classification_report\n",
        "from gensim.models import KeyedVectors\n",
        "import gensim.downloader as api\n",
        "import matplotlib.pyplot as plt"
      ],
      "metadata": {
        "id": "u4EfXac1pHqq"
      },
      "id": "u4EfXac1pHqq",
      "execution_count": 26,
      "outputs": []
    },
    {
      "cell_type": "code",
      "execution_count": 2,
      "id": "61bc0b70-2e95-472f-86bf-62a6da65506d",
      "metadata": {
        "tags": [],
        "colab": {
          "base_uri": "https://localhost:8080/"
        },
        "id": "61bc0b70-2e95-472f-86bf-62a6da65506d",
        "outputId": "ef435427-de45-435d-c173-6b14656bbaf0"
      },
      "outputs": [
        {
          "output_type": "stream",
          "name": "stdout",
          "text": [
            "Requirement already satisfied: tqdm in /usr/local/lib/python3.11/dist-packages (4.67.1)\n"
          ]
        }
      ],
      "source": [
        "pip install tqdm"
      ]
    },
    {
      "cell_type": "markdown",
      "source": [
        "# Pre trained word2vec model with 300D"
      ],
      "metadata": {
        "id": "V8obQMhFARRq"
      },
      "id": "V8obQMhFARRq"
    },
    {
      "cell_type": "code",
      "source": [
        "pip install Gensim"
      ],
      "metadata": {
        "colab": {
          "base_uri": "https://localhost:8080/",
          "height": 618
        },
        "id": "BVcUzt7If-mj",
        "outputId": "4cad6591-395d-4b73-b47f-26b1dd91eefb"
      },
      "id": "BVcUzt7If-mj",
      "execution_count": 21,
      "outputs": [
        {
          "output_type": "stream",
          "name": "stdout",
          "text": [
            "Collecting Gensim\n",
            "  Downloading gensim-4.3.3-cp311-cp311-manylinux_2_17_x86_64.manylinux2014_x86_64.whl.metadata (8.1 kB)\n",
            "Collecting numpy<2.0,>=1.18.5 (from Gensim)\n",
            "  Downloading numpy-1.26.4-cp311-cp311-manylinux_2_17_x86_64.manylinux2014_x86_64.whl.metadata (61 kB)\n",
            "\u001b[2K     \u001b[90m━━━━━━━━━━━━━━━━━━━━━━━━━━━━━━━━━━━━━━━━\u001b[0m \u001b[32m61.0/61.0 kB\u001b[0m \u001b[31m3.7 MB/s\u001b[0m eta \u001b[36m0:00:00\u001b[0m\n",
            "\u001b[?25hCollecting scipy<1.14.0,>=1.7.0 (from Gensim)\n",
            "  Downloading scipy-1.13.1-cp311-cp311-manylinux_2_17_x86_64.manylinux2014_x86_64.whl.metadata (60 kB)\n",
            "\u001b[2K     \u001b[90m━━━━━━━━━━━━━━━━━━━━━━━━━━━━━━━━━━━━━━━━\u001b[0m \u001b[32m60.6/60.6 kB\u001b[0m \u001b[31m3.8 MB/s\u001b[0m eta \u001b[36m0:00:00\u001b[0m\n",
            "\u001b[?25hRequirement already satisfied: smart-open>=1.8.1 in /usr/local/lib/python3.11/dist-packages (from Gensim) (7.3.0)\n",
            "Requirement already satisfied: wrapt in /usr/local/lib/python3.11/dist-packages (from smart-open>=1.8.1->Gensim) (1.17.2)\n",
            "Downloading gensim-4.3.3-cp311-cp311-manylinux_2_17_x86_64.manylinux2014_x86_64.whl (26.7 MB)\n",
            "\u001b[2K   \u001b[90m━━━━━━━━━━━━━━━━━━━━━━━━━━━━━━━━━━━━━━━━\u001b[0m \u001b[32m26.7/26.7 MB\u001b[0m \u001b[31m64.8 MB/s\u001b[0m eta \u001b[36m0:00:00\u001b[0m\n",
            "\u001b[?25hDownloading numpy-1.26.4-cp311-cp311-manylinux_2_17_x86_64.manylinux2014_x86_64.whl (18.3 MB)\n",
            "\u001b[2K   \u001b[90m━━━━━━━━━━━━━━━━━━━━━━━━━━━━━━━━━━━━━━━━\u001b[0m \u001b[32m18.3/18.3 MB\u001b[0m \u001b[31m30.7 MB/s\u001b[0m eta \u001b[36m0:00:00\u001b[0m\n",
            "\u001b[?25hDownloading scipy-1.13.1-cp311-cp311-manylinux_2_17_x86_64.manylinux2014_x86_64.whl (38.6 MB)\n",
            "\u001b[2K   \u001b[90m━━━━━━━━━━━━━━━━━━━━━━━━━━━━━━━━━━━━━━━━\u001b[0m \u001b[32m38.6/38.6 MB\u001b[0m \u001b[31m18.3 MB/s\u001b[0m eta \u001b[36m0:00:00\u001b[0m\n",
            "\u001b[?25hInstalling collected packages: numpy, scipy, Gensim\n",
            "  Attempting uninstall: numpy\n",
            "    Found existing installation: numpy 2.0.2\n",
            "    Uninstalling numpy-2.0.2:\n",
            "      Successfully uninstalled numpy-2.0.2\n",
            "  Attempting uninstall: scipy\n",
            "    Found existing installation: scipy 1.15.3\n",
            "    Uninstalling scipy-1.15.3:\n",
            "      Successfully uninstalled scipy-1.15.3\n",
            "\u001b[31mERROR: pip's dependency resolver does not currently take into account all the packages that are installed. This behaviour is the source of the following dependency conflicts.\n",
            "tsfresh 0.21.0 requires scipy>=1.14.0; python_version >= \"3.10\", but you have scipy 1.13.1 which is incompatible.\n",
            "thinc 8.3.6 requires numpy<3.0.0,>=2.0.0, but you have numpy 1.26.4 which is incompatible.\u001b[0m\u001b[31m\n",
            "\u001b[0mSuccessfully installed Gensim-4.3.3 numpy-1.26.4 scipy-1.13.1\n"
          ]
        },
        {
          "output_type": "display_data",
          "data": {
            "application/vnd.colab-display-data+json": {
              "pip_warning": {
                "packages": [
                  "numpy",
                  "scipy"
                ]
              },
              "id": "a7c53f4479ca492dbe776c2e373b0aff"
            }
          },
          "metadata": {}
        }
      ]
    },
    {
      "cell_type": "code",
      "source": [
        "sampled_df=pd.read_csv(\"preprocessed_data.csv\")"
      ],
      "metadata": {
        "id": "5y0oV_QBvaLk"
      },
      "id": "5y0oV_QBvaLk",
      "execution_count": 47,
      "outputs": []
    },
    {
      "cell_type": "code",
      "execution_count": 49,
      "id": "48232d7a-0f04-4ab4-8a8a-453a9131f638",
      "metadata": {
        "tags": [],
        "colab": {
          "base_uri": "https://localhost:8080/",
          "height": 293
        },
        "id": "48232d7a-0f04-4ab4-8a8a-453a9131f638",
        "outputId": "980e3b56-f1ad-41d3-9a83-3e7751e2e9e6"
      },
      "outputs": [
        {
          "output_type": "execute_result",
          "data": {
            "text/plain": [
              "                                               Tweet Sentiment  \\\n",
              "0  Ottawa Police shoot RUBBER BULLETS into crowd ...  Positive   \n",
              "1  A former Mountie and member of Prime Minister ...  Positive   \n",
              "2  @PierrePoilievre It’s already the freest count...  Positive   \n",
              "3  @RobynUrback Ban ministers from the Very progr...  Positive   \n",
              "4  Three songs have been stuck in my head the pas...  Positive   \n",
              "\n",
              "                                       Cleaned_Tweet  \\\n",
              "0  ottawa police shoot rubber bullets into crowd ...   \n",
              "1  a former mountie and member of prime minister ...   \n",
              "2   its already the freest country stop trying to...   \n",
              "3   ban ministers from the very progressive freed...   \n",
              "4  three songs have been stuck in my head the pas...   \n",
              "\n",
              "                                 Spell_Checked_Tweet  \\\n",
              "0  ottawa police shoot rubber bullets into crowd ...   \n",
              "1  a former mountie and member of prime minister ...   \n",
              "2  its already the freest country stop trying to ...   \n",
              "3  ban ministers from the very progressive freedo...   \n",
              "4  three songs have been stuck in my head the pas...   \n",
              "\n",
              "                                       Negated_Tweet  Contains_Emoji  \n",
              "0  ottawa police shoot rubber bullets into crowd ...           False  \n",
              "1  a former mountie and member of prime minister ...           False  \n",
              "2  it s already the freest country stop trying to...           False  \n",
              "3  ban ministers from the very progressive freedo...           False  \n",
              "4  three songs have been stuck in my head the pas...           False  "
            ],
            "text/html": [
              "\n",
              "  <div id=\"df-62dc52aa-2146-46f5-a9af-87e6da5615d5\" class=\"colab-df-container\">\n",
              "    <div>\n",
              "<style scoped>\n",
              "    .dataframe tbody tr th:only-of-type {\n",
              "        vertical-align: middle;\n",
              "    }\n",
              "\n",
              "    .dataframe tbody tr th {\n",
              "        vertical-align: top;\n",
              "    }\n",
              "\n",
              "    .dataframe thead th {\n",
              "        text-align: right;\n",
              "    }\n",
              "</style>\n",
              "<table border=\"1\" class=\"dataframe\">\n",
              "  <thead>\n",
              "    <tr style=\"text-align: right;\">\n",
              "      <th></th>\n",
              "      <th>Tweet</th>\n",
              "      <th>Sentiment</th>\n",
              "      <th>Cleaned_Tweet</th>\n",
              "      <th>Spell_Checked_Tweet</th>\n",
              "      <th>Negated_Tweet</th>\n",
              "      <th>Contains_Emoji</th>\n",
              "    </tr>\n",
              "  </thead>\n",
              "  <tbody>\n",
              "    <tr>\n",
              "      <th>0</th>\n",
              "      <td>Ottawa Police shoot RUBBER BULLETS into crowd ...</td>\n",
              "      <td>Positive</td>\n",
              "      <td>ottawa police shoot rubber bullets into crowd ...</td>\n",
              "      <td>ottawa police shoot rubber bullets into crowd ...</td>\n",
              "      <td>ottawa police shoot rubber bullets into crowd ...</td>\n",
              "      <td>False</td>\n",
              "    </tr>\n",
              "    <tr>\n",
              "      <th>1</th>\n",
              "      <td>A former Mountie and member of Prime Minister ...</td>\n",
              "      <td>Positive</td>\n",
              "      <td>a former mountie and member of prime minister ...</td>\n",
              "      <td>a former mountie and member of prime minister ...</td>\n",
              "      <td>a former mountie and member of prime minister ...</td>\n",
              "      <td>False</td>\n",
              "    </tr>\n",
              "    <tr>\n",
              "      <th>2</th>\n",
              "      <td>@PierrePoilievre It’s already the freest count...</td>\n",
              "      <td>Positive</td>\n",
              "      <td>its already the freest country stop trying to...</td>\n",
              "      <td>its already the freest country stop trying to ...</td>\n",
              "      <td>it s already the freest country stop trying to...</td>\n",
              "      <td>False</td>\n",
              "    </tr>\n",
              "    <tr>\n",
              "      <th>3</th>\n",
              "      <td>@RobynUrback Ban ministers from the Very progr...</td>\n",
              "      <td>Positive</td>\n",
              "      <td>ban ministers from the very progressive freed...</td>\n",
              "      <td>ban ministers from the very progressive freedo...</td>\n",
              "      <td>ban ministers from the very progressive freedo...</td>\n",
              "      <td>False</td>\n",
              "    </tr>\n",
              "    <tr>\n",
              "      <th>4</th>\n",
              "      <td>Three songs have been stuck in my head the pas...</td>\n",
              "      <td>Positive</td>\n",
              "      <td>three songs have been stuck in my head the pas...</td>\n",
              "      <td>three songs have been stuck in my head the pas...</td>\n",
              "      <td>three songs have been stuck in my head the pas...</td>\n",
              "      <td>False</td>\n",
              "    </tr>\n",
              "  </tbody>\n",
              "</table>\n",
              "</div>\n",
              "    <div class=\"colab-df-buttons\">\n",
              "\n",
              "  <div class=\"colab-df-container\">\n",
              "    <button class=\"colab-df-convert\" onclick=\"convertToInteractive('df-62dc52aa-2146-46f5-a9af-87e6da5615d5')\"\n",
              "            title=\"Convert this dataframe to an interactive table.\"\n",
              "            style=\"display:none;\">\n",
              "\n",
              "  <svg xmlns=\"http://www.w3.org/2000/svg\" height=\"24px\" viewBox=\"0 -960 960 960\">\n",
              "    <path d=\"M120-120v-720h720v720H120Zm60-500h600v-160H180v160Zm220 220h160v-160H400v160Zm0 220h160v-160H400v160ZM180-400h160v-160H180v160Zm440 0h160v-160H620v160ZM180-180h160v-160H180v160Zm440 0h160v-160H620v160Z\"/>\n",
              "  </svg>\n",
              "    </button>\n",
              "\n",
              "  <style>\n",
              "    .colab-df-container {\n",
              "      display:flex;\n",
              "      gap: 12px;\n",
              "    }\n",
              "\n",
              "    .colab-df-convert {\n",
              "      background-color: #E8F0FE;\n",
              "      border: none;\n",
              "      border-radius: 50%;\n",
              "      cursor: pointer;\n",
              "      display: none;\n",
              "      fill: #1967D2;\n",
              "      height: 32px;\n",
              "      padding: 0 0 0 0;\n",
              "      width: 32px;\n",
              "    }\n",
              "\n",
              "    .colab-df-convert:hover {\n",
              "      background-color: #E2EBFA;\n",
              "      box-shadow: 0px 1px 2px rgba(60, 64, 67, 0.3), 0px 1px 3px 1px rgba(60, 64, 67, 0.15);\n",
              "      fill: #174EA6;\n",
              "    }\n",
              "\n",
              "    .colab-df-buttons div {\n",
              "      margin-bottom: 4px;\n",
              "    }\n",
              "\n",
              "    [theme=dark] .colab-df-convert {\n",
              "      background-color: #3B4455;\n",
              "      fill: #D2E3FC;\n",
              "    }\n",
              "\n",
              "    [theme=dark] .colab-df-convert:hover {\n",
              "      background-color: #434B5C;\n",
              "      box-shadow: 0px 1px 3px 1px rgba(0, 0, 0, 0.15);\n",
              "      filter: drop-shadow(0px 1px 2px rgba(0, 0, 0, 0.3));\n",
              "      fill: #FFFFFF;\n",
              "    }\n",
              "  </style>\n",
              "\n",
              "    <script>\n",
              "      const buttonEl =\n",
              "        document.querySelector('#df-62dc52aa-2146-46f5-a9af-87e6da5615d5 button.colab-df-convert');\n",
              "      buttonEl.style.display =\n",
              "        google.colab.kernel.accessAllowed ? 'block' : 'none';\n",
              "\n",
              "      async function convertToInteractive(key) {\n",
              "        const element = document.querySelector('#df-62dc52aa-2146-46f5-a9af-87e6da5615d5');\n",
              "        const dataTable =\n",
              "          await google.colab.kernel.invokeFunction('convertToInteractive',\n",
              "                                                    [key], {});\n",
              "        if (!dataTable) return;\n",
              "\n",
              "        const docLinkHtml = 'Like what you see? Visit the ' +\n",
              "          '<a target=\"_blank\" href=https://colab.research.google.com/notebooks/data_table.ipynb>data table notebook</a>'\n",
              "          + ' to learn more about interactive tables.';\n",
              "        element.innerHTML = '';\n",
              "        dataTable['output_type'] = 'display_data';\n",
              "        await google.colab.output.renderOutput(dataTable, element);\n",
              "        const docLink = document.createElement('div');\n",
              "        docLink.innerHTML = docLinkHtml;\n",
              "        element.appendChild(docLink);\n",
              "      }\n",
              "    </script>\n",
              "  </div>\n",
              "\n",
              "\n",
              "    <div id=\"df-6e2573f9-e674-4b8c-82bc-994223e522a8\">\n",
              "      <button class=\"colab-df-quickchart\" onclick=\"quickchart('df-6e2573f9-e674-4b8c-82bc-994223e522a8')\"\n",
              "                title=\"Suggest charts\"\n",
              "                style=\"display:none;\">\n",
              "\n",
              "<svg xmlns=\"http://www.w3.org/2000/svg\" height=\"24px\"viewBox=\"0 0 24 24\"\n",
              "     width=\"24px\">\n",
              "    <g>\n",
              "        <path d=\"M19 3H5c-1.1 0-2 .9-2 2v14c0 1.1.9 2 2 2h14c1.1 0 2-.9 2-2V5c0-1.1-.9-2-2-2zM9 17H7v-7h2v7zm4 0h-2V7h2v10zm4 0h-2v-4h2v4z\"/>\n",
              "    </g>\n",
              "</svg>\n",
              "      </button>\n",
              "\n",
              "<style>\n",
              "  .colab-df-quickchart {\n",
              "      --bg-color: #E8F0FE;\n",
              "      --fill-color: #1967D2;\n",
              "      --hover-bg-color: #E2EBFA;\n",
              "      --hover-fill-color: #174EA6;\n",
              "      --disabled-fill-color: #AAA;\n",
              "      --disabled-bg-color: #DDD;\n",
              "  }\n",
              "\n",
              "  [theme=dark] .colab-df-quickchart {\n",
              "      --bg-color: #3B4455;\n",
              "      --fill-color: #D2E3FC;\n",
              "      --hover-bg-color: #434B5C;\n",
              "      --hover-fill-color: #FFFFFF;\n",
              "      --disabled-bg-color: #3B4455;\n",
              "      --disabled-fill-color: #666;\n",
              "  }\n",
              "\n",
              "  .colab-df-quickchart {\n",
              "    background-color: var(--bg-color);\n",
              "    border: none;\n",
              "    border-radius: 50%;\n",
              "    cursor: pointer;\n",
              "    display: none;\n",
              "    fill: var(--fill-color);\n",
              "    height: 32px;\n",
              "    padding: 0;\n",
              "    width: 32px;\n",
              "  }\n",
              "\n",
              "  .colab-df-quickchart:hover {\n",
              "    background-color: var(--hover-bg-color);\n",
              "    box-shadow: 0 1px 2px rgba(60, 64, 67, 0.3), 0 1px 3px 1px rgba(60, 64, 67, 0.15);\n",
              "    fill: var(--button-hover-fill-color);\n",
              "  }\n",
              "\n",
              "  .colab-df-quickchart-complete:disabled,\n",
              "  .colab-df-quickchart-complete:disabled:hover {\n",
              "    background-color: var(--disabled-bg-color);\n",
              "    fill: var(--disabled-fill-color);\n",
              "    box-shadow: none;\n",
              "  }\n",
              "\n",
              "  .colab-df-spinner {\n",
              "    border: 2px solid var(--fill-color);\n",
              "    border-color: transparent;\n",
              "    border-bottom-color: var(--fill-color);\n",
              "    animation:\n",
              "      spin 1s steps(1) infinite;\n",
              "  }\n",
              "\n",
              "  @keyframes spin {\n",
              "    0% {\n",
              "      border-color: transparent;\n",
              "      border-bottom-color: var(--fill-color);\n",
              "      border-left-color: var(--fill-color);\n",
              "    }\n",
              "    20% {\n",
              "      border-color: transparent;\n",
              "      border-left-color: var(--fill-color);\n",
              "      border-top-color: var(--fill-color);\n",
              "    }\n",
              "    30% {\n",
              "      border-color: transparent;\n",
              "      border-left-color: var(--fill-color);\n",
              "      border-top-color: var(--fill-color);\n",
              "      border-right-color: var(--fill-color);\n",
              "    }\n",
              "    40% {\n",
              "      border-color: transparent;\n",
              "      border-right-color: var(--fill-color);\n",
              "      border-top-color: var(--fill-color);\n",
              "    }\n",
              "    60% {\n",
              "      border-color: transparent;\n",
              "      border-right-color: var(--fill-color);\n",
              "    }\n",
              "    80% {\n",
              "      border-color: transparent;\n",
              "      border-right-color: var(--fill-color);\n",
              "      border-bottom-color: var(--fill-color);\n",
              "    }\n",
              "    90% {\n",
              "      border-color: transparent;\n",
              "      border-bottom-color: var(--fill-color);\n",
              "    }\n",
              "  }\n",
              "</style>\n",
              "\n",
              "      <script>\n",
              "        async function quickchart(key) {\n",
              "          const quickchartButtonEl =\n",
              "            document.querySelector('#' + key + ' button');\n",
              "          quickchartButtonEl.disabled = true;  // To prevent multiple clicks.\n",
              "          quickchartButtonEl.classList.add('colab-df-spinner');\n",
              "          try {\n",
              "            const charts = await google.colab.kernel.invokeFunction(\n",
              "                'suggestCharts', [key], {});\n",
              "          } catch (error) {\n",
              "            console.error('Error during call to suggestCharts:', error);\n",
              "          }\n",
              "          quickchartButtonEl.classList.remove('colab-df-spinner');\n",
              "          quickchartButtonEl.classList.add('colab-df-quickchart-complete');\n",
              "        }\n",
              "        (() => {\n",
              "          let quickchartButtonEl =\n",
              "            document.querySelector('#df-6e2573f9-e674-4b8c-82bc-994223e522a8 button');\n",
              "          quickchartButtonEl.style.display =\n",
              "            google.colab.kernel.accessAllowed ? 'block' : 'none';\n",
              "        })();\n",
              "      </script>\n",
              "    </div>\n",
              "\n",
              "    </div>\n",
              "  </div>\n"
            ],
            "application/vnd.google.colaboratory.intrinsic+json": {
              "type": "dataframe",
              "variable_name": "sampled_df"
            }
          },
          "metadata": {},
          "execution_count": 49
        }
      ],
      "source": [
        "sampled_df.head()"
      ]
    },
    {
      "cell_type": "code",
      "source": [
        "sampled_df.isnull().sum()"
      ],
      "metadata": {
        "colab": {
          "base_uri": "https://localhost:8080/",
          "height": 272
        },
        "id": "OzAx8c7EyuP0",
        "outputId": "4d66ca75-3d8f-4981-a94a-342a7cd9e7f2"
      },
      "id": "OzAx8c7EyuP0",
      "execution_count": 48,
      "outputs": [
        {
          "output_type": "execute_result",
          "data": {
            "text/plain": [
              "Tweet                  0\n",
              "Sentiment              0\n",
              "Cleaned_Tweet          2\n",
              "Spell_Checked_Tweet    0\n",
              "Negated_Tweet          0\n",
              "Contains_Emoji         0\n",
              "dtype: int64"
            ],
            "text/html": [
              "<div>\n",
              "<style scoped>\n",
              "    .dataframe tbody tr th:only-of-type {\n",
              "        vertical-align: middle;\n",
              "    }\n",
              "\n",
              "    .dataframe tbody tr th {\n",
              "        vertical-align: top;\n",
              "    }\n",
              "\n",
              "    .dataframe thead th {\n",
              "        text-align: right;\n",
              "    }\n",
              "</style>\n",
              "<table border=\"1\" class=\"dataframe\">\n",
              "  <thead>\n",
              "    <tr style=\"text-align: right;\">\n",
              "      <th></th>\n",
              "      <th>0</th>\n",
              "    </tr>\n",
              "  </thead>\n",
              "  <tbody>\n",
              "    <tr>\n",
              "      <th>Tweet</th>\n",
              "      <td>0</td>\n",
              "    </tr>\n",
              "    <tr>\n",
              "      <th>Sentiment</th>\n",
              "      <td>0</td>\n",
              "    </tr>\n",
              "    <tr>\n",
              "      <th>Cleaned_Tweet</th>\n",
              "      <td>2</td>\n",
              "    </tr>\n",
              "    <tr>\n",
              "      <th>Spell_Checked_Tweet</th>\n",
              "      <td>0</td>\n",
              "    </tr>\n",
              "    <tr>\n",
              "      <th>Negated_Tweet</th>\n",
              "      <td>0</td>\n",
              "    </tr>\n",
              "    <tr>\n",
              "      <th>Contains_Emoji</th>\n",
              "      <td>0</td>\n",
              "    </tr>\n",
              "  </tbody>\n",
              "</table>\n",
              "</div><br><label><b>dtype:</b> int64</label>"
            ]
          },
          "metadata": {},
          "execution_count": 48
        }
      ]
    },
    {
      "cell_type": "code",
      "source": [
        "# sampled_df.to_csv(\"preprocessed_data.csv\", index=False, encoding='utf-8')"
      ],
      "metadata": {
        "id": "pCaXCFwyvIm7"
      },
      "id": "pCaXCFwyvIm7",
      "execution_count": 46,
      "outputs": []
    },
    {
      "cell_type": "markdown",
      "id": "32fc6588-ab83-4f0c-b96b-0f185198c6da",
      "metadata": {
        "id": "32fc6588-ab83-4f0c-b96b-0f185198c6da"
      },
      "source": [
        "# Data splitting"
      ]
    },
    {
      "cell_type": "code",
      "execution_count": 50,
      "id": "1db8fcdc-8762-4431-95dd-f30675ca54b3",
      "metadata": {
        "colab": {
          "base_uri": "https://localhost:8080/"
        },
        "id": "1db8fcdc-8762-4431-95dd-f30675ca54b3",
        "outputId": "42fdbd0e-99d9-4887-ff1f-c16b72aba81b"
      },
      "outputs": [
        {
          "output_type": "stream",
          "name": "stdout",
          "text": [
            "Train: 84107 rows\n",
            "Validation: 10513 rows\n",
            "Test: 10514 rows\n"
          ]
        }
      ],
      "source": [
        "from sklearn.model_selection import train_test_split\n",
        "\n",
        "# split into train (80%) and temp (20%)\n",
        "train_df, temp_df = train_test_split(\n",
        "    sampled_df,\n",
        "    test_size=0.2,\n",
        "    stratify=sampled_df[\"Sentiment\"],\n",
        "    random_state=42\n",
        ")\n",
        "\n",
        "# Split temp into validation and test\n",
        "val_df, test_df = train_test_split(\n",
        "    temp_df,\n",
        "    test_size=0.5,\n",
        "    stratify=temp_df[\"Sentiment\"],\n",
        "    random_state=42\n",
        ")\n",
        "\n",
        "\n",
        "print(f\"Train: {len(train_df)} rows\")\n",
        "print(f\"Validation: {len(val_df)} rows\")\n",
        "print(f\"Test: {len(test_df)} rows\")\n"
      ]
    },
    {
      "cell_type": "code",
      "execution_count": 51,
      "id": "ff1bc302-0ed5-45a9-b603-916ac7862303",
      "metadata": {
        "tags": [],
        "id": "ff1bc302-0ed5-45a9-b603-916ac7862303"
      },
      "outputs": [],
      "source": [
        "train_df = train_df.reset_index(drop=True)\n",
        "val_df = val_df.reset_index(drop=True)\n",
        "test_df = test_df.reset_index(drop=True)\n"
      ]
    },
    {
      "cell_type": "markdown",
      "id": "794268ee-4696-4914-a2b4-7c040037bc85",
      "metadata": {
        "id": "794268ee-4696-4914-a2b4-7c040037bc85"
      },
      "source": [
        "# Label encoding Sentiment column"
      ]
    },
    {
      "cell_type": "code",
      "execution_count": 52,
      "id": "376cb18a-a047-4402-bb97-8560e6de4ab1",
      "metadata": {
        "tags": [],
        "id": "376cb18a-a047-4402-bb97-8560e6de4ab1"
      },
      "outputs": [],
      "source": [
        "\n",
        "from sklearn.preprocessing import LabelEncoder\n",
        "\n",
        "label_encoder = LabelEncoder()\n",
        "\n",
        "# Fit the encoder on the training data and transform the 'Sentiment' column\n",
        "train_df['Sentiment'] = label_encoder.fit_transform(train_df['Sentiment'])\n",
        "\n",
        "# Apply the same transformation to the validation and test sets\n",
        "val_df['Sentiment'] = label_encoder.transform(val_df['Sentiment'])\n",
        "test_df['Sentiment'] = label_encoder.transform(test_df['Sentiment'])\n"
      ]
    },
    {
      "cell_type": "code",
      "execution_count": 53,
      "id": "ae8f31e6-3fb9-45b8-9670-a082f965d146",
      "metadata": {
        "tags": [],
        "colab": {
          "base_uri": "https://localhost:8080/"
        },
        "id": "ae8f31e6-3fb9-45b8-9670-a082f965d146",
        "outputId": "4a6391f7-3612-4f22-a91f-d10b4a1c81fa"
      },
      "outputs": [
        {
          "output_type": "stream",
          "name": "stdout",
          "text": [
            "Label Encoding Mapping:\n",
            "Negative: 0\n",
            "Neutral: 1\n",
            "Positive: 2\n"
          ]
        }
      ],
      "source": [
        "# label encoding for Positive, Negative, and Neutral\n",
        "print(\"Label Encoding Mapping:\")\n",
        "for label, encoding in zip(label_encoder.classes_, range(len(label_encoder.classes_))):\n",
        "    print(f\"{label}: {encoding}\")\n"
      ]
    },
    {
      "cell_type": "code",
      "execution_count": 54,
      "id": "a3e306f1-5644-4487-ace6-326dc3b7b21c",
      "metadata": {
        "tags": [],
        "colab": {
          "base_uri": "https://localhost:8080/",
          "height": 293
        },
        "id": "a3e306f1-5644-4487-ace6-326dc3b7b21c",
        "outputId": "aa69f03a-4c12-4400-e336-2bab1f757182"
      },
      "outputs": [
        {
          "output_type": "execute_result",
          "data": {
            "text/plain": [
              "                                               Tweet  Sentiment  \\\n",
              "0  @CTVNews The pigs and the so-called \"freedom\" ...          0   \n",
              "1  Banana Republics all over the world are callin...          1   \n",
              "2  @FringedCanuck Just because she likes the PPC?...          2   \n",
              "3  Grande #Djokovic 👏👏👏\\n\\n#TrudeauTyranny \\n\\n#F...          1   \n",
              "4  @DianaGlobalNews The simple truth is that if y...          1   \n",
              "\n",
              "                                       Cleaned_Tweet  \\\n",
              "0   the pigs and the socalled freedom convoy have...   \n",
              "1  banana republics all over the world are callin...   \n",
              "2   just because she likes the ppc quit dividing ...   \n",
              "3                                    grande            \n",
              "4   the simple truth is that if you support the c...   \n",
              "\n",
              "                                 Spell_Checked_Tweet  \\\n",
              "0  the pigs and the socalled freedom convoy have ...   \n",
              "1  banana republics all over the world are callin...   \n",
              "2  just because she likes the ppc quit dividing c...   \n",
              "3                                             grand    \n",
              "4  the simple truth is that if you support the co...   \n",
              "\n",
              "                                       Negated_Tweet  Contains_Emoji  \n",
              "0  the pigs and the so  called freedom convoy hav...           False  \n",
              "1  banana republics all over the world are callin...           False  \n",
              "2  just because she likes the ppc    quit dividin...           False  \n",
              "3                                           grand              False  \n",
              "4  the simple truth is that if you support the co...           False  "
            ],
            "text/html": [
              "\n",
              "  <div id=\"df-f8e093c1-c9ad-49f2-b3bf-59765f8892fc\" class=\"colab-df-container\">\n",
              "    <div>\n",
              "<style scoped>\n",
              "    .dataframe tbody tr th:only-of-type {\n",
              "        vertical-align: middle;\n",
              "    }\n",
              "\n",
              "    .dataframe tbody tr th {\n",
              "        vertical-align: top;\n",
              "    }\n",
              "\n",
              "    .dataframe thead th {\n",
              "        text-align: right;\n",
              "    }\n",
              "</style>\n",
              "<table border=\"1\" class=\"dataframe\">\n",
              "  <thead>\n",
              "    <tr style=\"text-align: right;\">\n",
              "      <th></th>\n",
              "      <th>Tweet</th>\n",
              "      <th>Sentiment</th>\n",
              "      <th>Cleaned_Tweet</th>\n",
              "      <th>Spell_Checked_Tweet</th>\n",
              "      <th>Negated_Tweet</th>\n",
              "      <th>Contains_Emoji</th>\n",
              "    </tr>\n",
              "  </thead>\n",
              "  <tbody>\n",
              "    <tr>\n",
              "      <th>0</th>\n",
              "      <td>@CTVNews The pigs and the so-called \"freedom\" ...</td>\n",
              "      <td>0</td>\n",
              "      <td>the pigs and the socalled freedom convoy have...</td>\n",
              "      <td>the pigs and the socalled freedom convoy have ...</td>\n",
              "      <td>the pigs and the so  called freedom convoy hav...</td>\n",
              "      <td>False</td>\n",
              "    </tr>\n",
              "    <tr>\n",
              "      <th>1</th>\n",
              "      <td>Banana Republics all over the world are callin...</td>\n",
              "      <td>1</td>\n",
              "      <td>banana republics all over the world are callin...</td>\n",
              "      <td>banana republics all over the world are callin...</td>\n",
              "      <td>banana republics all over the world are callin...</td>\n",
              "      <td>False</td>\n",
              "    </tr>\n",
              "    <tr>\n",
              "      <th>2</th>\n",
              "      <td>@FringedCanuck Just because she likes the PPC?...</td>\n",
              "      <td>2</td>\n",
              "      <td>just because she likes the ppc quit dividing ...</td>\n",
              "      <td>just because she likes the ppc quit dividing c...</td>\n",
              "      <td>just because she likes the ppc    quit dividin...</td>\n",
              "      <td>False</td>\n",
              "    </tr>\n",
              "    <tr>\n",
              "      <th>3</th>\n",
              "      <td>Grande #Djokovic 👏👏👏\\n\\n#TrudeauTyranny \\n\\n#F...</td>\n",
              "      <td>1</td>\n",
              "      <td>grande</td>\n",
              "      <td>grand</td>\n",
              "      <td>grand</td>\n",
              "      <td>False</td>\n",
              "    </tr>\n",
              "    <tr>\n",
              "      <th>4</th>\n",
              "      <td>@DianaGlobalNews The simple truth is that if y...</td>\n",
              "      <td>1</td>\n",
              "      <td>the simple truth is that if you support the c...</td>\n",
              "      <td>the simple truth is that if you support the co...</td>\n",
              "      <td>the simple truth is that if you support the co...</td>\n",
              "      <td>False</td>\n",
              "    </tr>\n",
              "  </tbody>\n",
              "</table>\n",
              "</div>\n",
              "    <div class=\"colab-df-buttons\">\n",
              "\n",
              "  <div class=\"colab-df-container\">\n",
              "    <button class=\"colab-df-convert\" onclick=\"convertToInteractive('df-f8e093c1-c9ad-49f2-b3bf-59765f8892fc')\"\n",
              "            title=\"Convert this dataframe to an interactive table.\"\n",
              "            style=\"display:none;\">\n",
              "\n",
              "  <svg xmlns=\"http://www.w3.org/2000/svg\" height=\"24px\" viewBox=\"0 -960 960 960\">\n",
              "    <path d=\"M120-120v-720h720v720H120Zm60-500h600v-160H180v160Zm220 220h160v-160H400v160Zm0 220h160v-160H400v160ZM180-400h160v-160H180v160Zm440 0h160v-160H620v160ZM180-180h160v-160H180v160Zm440 0h160v-160H620v160Z\"/>\n",
              "  </svg>\n",
              "    </button>\n",
              "\n",
              "  <style>\n",
              "    .colab-df-container {\n",
              "      display:flex;\n",
              "      gap: 12px;\n",
              "    }\n",
              "\n",
              "    .colab-df-convert {\n",
              "      background-color: #E8F0FE;\n",
              "      border: none;\n",
              "      border-radius: 50%;\n",
              "      cursor: pointer;\n",
              "      display: none;\n",
              "      fill: #1967D2;\n",
              "      height: 32px;\n",
              "      padding: 0 0 0 0;\n",
              "      width: 32px;\n",
              "    }\n",
              "\n",
              "    .colab-df-convert:hover {\n",
              "      background-color: #E2EBFA;\n",
              "      box-shadow: 0px 1px 2px rgba(60, 64, 67, 0.3), 0px 1px 3px 1px rgba(60, 64, 67, 0.15);\n",
              "      fill: #174EA6;\n",
              "    }\n",
              "\n",
              "    .colab-df-buttons div {\n",
              "      margin-bottom: 4px;\n",
              "    }\n",
              "\n",
              "    [theme=dark] .colab-df-convert {\n",
              "      background-color: #3B4455;\n",
              "      fill: #D2E3FC;\n",
              "    }\n",
              "\n",
              "    [theme=dark] .colab-df-convert:hover {\n",
              "      background-color: #434B5C;\n",
              "      box-shadow: 0px 1px 3px 1px rgba(0, 0, 0, 0.15);\n",
              "      filter: drop-shadow(0px 1px 2px rgba(0, 0, 0, 0.3));\n",
              "      fill: #FFFFFF;\n",
              "    }\n",
              "  </style>\n",
              "\n",
              "    <script>\n",
              "      const buttonEl =\n",
              "        document.querySelector('#df-f8e093c1-c9ad-49f2-b3bf-59765f8892fc button.colab-df-convert');\n",
              "      buttonEl.style.display =\n",
              "        google.colab.kernel.accessAllowed ? 'block' : 'none';\n",
              "\n",
              "      async function convertToInteractive(key) {\n",
              "        const element = document.querySelector('#df-f8e093c1-c9ad-49f2-b3bf-59765f8892fc');\n",
              "        const dataTable =\n",
              "          await google.colab.kernel.invokeFunction('convertToInteractive',\n",
              "                                                    [key], {});\n",
              "        if (!dataTable) return;\n",
              "\n",
              "        const docLinkHtml = 'Like what you see? Visit the ' +\n",
              "          '<a target=\"_blank\" href=https://colab.research.google.com/notebooks/data_table.ipynb>data table notebook</a>'\n",
              "          + ' to learn more about interactive tables.';\n",
              "        element.innerHTML = '';\n",
              "        dataTable['output_type'] = 'display_data';\n",
              "        await google.colab.output.renderOutput(dataTable, element);\n",
              "        const docLink = document.createElement('div');\n",
              "        docLink.innerHTML = docLinkHtml;\n",
              "        element.appendChild(docLink);\n",
              "      }\n",
              "    </script>\n",
              "  </div>\n",
              "\n",
              "\n",
              "    <div id=\"df-d6b705fa-2a91-41e3-8c1e-c95f120b2343\">\n",
              "      <button class=\"colab-df-quickchart\" onclick=\"quickchart('df-d6b705fa-2a91-41e3-8c1e-c95f120b2343')\"\n",
              "                title=\"Suggest charts\"\n",
              "                style=\"display:none;\">\n",
              "\n",
              "<svg xmlns=\"http://www.w3.org/2000/svg\" height=\"24px\"viewBox=\"0 0 24 24\"\n",
              "     width=\"24px\">\n",
              "    <g>\n",
              "        <path d=\"M19 3H5c-1.1 0-2 .9-2 2v14c0 1.1.9 2 2 2h14c1.1 0 2-.9 2-2V5c0-1.1-.9-2-2-2zM9 17H7v-7h2v7zm4 0h-2V7h2v10zm4 0h-2v-4h2v4z\"/>\n",
              "    </g>\n",
              "</svg>\n",
              "      </button>\n",
              "\n",
              "<style>\n",
              "  .colab-df-quickchart {\n",
              "      --bg-color: #E8F0FE;\n",
              "      --fill-color: #1967D2;\n",
              "      --hover-bg-color: #E2EBFA;\n",
              "      --hover-fill-color: #174EA6;\n",
              "      --disabled-fill-color: #AAA;\n",
              "      --disabled-bg-color: #DDD;\n",
              "  }\n",
              "\n",
              "  [theme=dark] .colab-df-quickchart {\n",
              "      --bg-color: #3B4455;\n",
              "      --fill-color: #D2E3FC;\n",
              "      --hover-bg-color: #434B5C;\n",
              "      --hover-fill-color: #FFFFFF;\n",
              "      --disabled-bg-color: #3B4455;\n",
              "      --disabled-fill-color: #666;\n",
              "  }\n",
              "\n",
              "  .colab-df-quickchart {\n",
              "    background-color: var(--bg-color);\n",
              "    border: none;\n",
              "    border-radius: 50%;\n",
              "    cursor: pointer;\n",
              "    display: none;\n",
              "    fill: var(--fill-color);\n",
              "    height: 32px;\n",
              "    padding: 0;\n",
              "    width: 32px;\n",
              "  }\n",
              "\n",
              "  .colab-df-quickchart:hover {\n",
              "    background-color: var(--hover-bg-color);\n",
              "    box-shadow: 0 1px 2px rgba(60, 64, 67, 0.3), 0 1px 3px 1px rgba(60, 64, 67, 0.15);\n",
              "    fill: var(--button-hover-fill-color);\n",
              "  }\n",
              "\n",
              "  .colab-df-quickchart-complete:disabled,\n",
              "  .colab-df-quickchart-complete:disabled:hover {\n",
              "    background-color: var(--disabled-bg-color);\n",
              "    fill: var(--disabled-fill-color);\n",
              "    box-shadow: none;\n",
              "  }\n",
              "\n",
              "  .colab-df-spinner {\n",
              "    border: 2px solid var(--fill-color);\n",
              "    border-color: transparent;\n",
              "    border-bottom-color: var(--fill-color);\n",
              "    animation:\n",
              "      spin 1s steps(1) infinite;\n",
              "  }\n",
              "\n",
              "  @keyframes spin {\n",
              "    0% {\n",
              "      border-color: transparent;\n",
              "      border-bottom-color: var(--fill-color);\n",
              "      border-left-color: var(--fill-color);\n",
              "    }\n",
              "    20% {\n",
              "      border-color: transparent;\n",
              "      border-left-color: var(--fill-color);\n",
              "      border-top-color: var(--fill-color);\n",
              "    }\n",
              "    30% {\n",
              "      border-color: transparent;\n",
              "      border-left-color: var(--fill-color);\n",
              "      border-top-color: var(--fill-color);\n",
              "      border-right-color: var(--fill-color);\n",
              "    }\n",
              "    40% {\n",
              "      border-color: transparent;\n",
              "      border-right-color: var(--fill-color);\n",
              "      border-top-color: var(--fill-color);\n",
              "    }\n",
              "    60% {\n",
              "      border-color: transparent;\n",
              "      border-right-color: var(--fill-color);\n",
              "    }\n",
              "    80% {\n",
              "      border-color: transparent;\n",
              "      border-right-color: var(--fill-color);\n",
              "      border-bottom-color: var(--fill-color);\n",
              "    }\n",
              "    90% {\n",
              "      border-color: transparent;\n",
              "      border-bottom-color: var(--fill-color);\n",
              "    }\n",
              "  }\n",
              "</style>\n",
              "\n",
              "      <script>\n",
              "        async function quickchart(key) {\n",
              "          const quickchartButtonEl =\n",
              "            document.querySelector('#' + key + ' button');\n",
              "          quickchartButtonEl.disabled = true;  // To prevent multiple clicks.\n",
              "          quickchartButtonEl.classList.add('colab-df-spinner');\n",
              "          try {\n",
              "            const charts = await google.colab.kernel.invokeFunction(\n",
              "                'suggestCharts', [key], {});\n",
              "          } catch (error) {\n",
              "            console.error('Error during call to suggestCharts:', error);\n",
              "          }\n",
              "          quickchartButtonEl.classList.remove('colab-df-spinner');\n",
              "          quickchartButtonEl.classList.add('colab-df-quickchart-complete');\n",
              "        }\n",
              "        (() => {\n",
              "          let quickchartButtonEl =\n",
              "            document.querySelector('#df-d6b705fa-2a91-41e3-8c1e-c95f120b2343 button');\n",
              "          quickchartButtonEl.style.display =\n",
              "            google.colab.kernel.accessAllowed ? 'block' : 'none';\n",
              "        })();\n",
              "      </script>\n",
              "    </div>\n",
              "\n",
              "    </div>\n",
              "  </div>\n"
            ],
            "application/vnd.google.colaboratory.intrinsic+json": {
              "type": "dataframe",
              "variable_name": "test_df",
              "summary": "{\n  \"name\": \"test_df\",\n  \"rows\": 10514,\n  \"fields\": [\n    {\n      \"column\": \"Tweet\",\n      \"properties\": {\n        \"dtype\": \"string\",\n        \"num_unique_values\": 10514,\n        \"samples\": [\n          \"The Canadian Freedom Convoy fights for their freedom and fights the government tyranny to stop the mandates. The liberal government needs to stop pretending that mask is working and they knew it's not.\\n\\n#StopTheMandates #hypocrisy #FreedomConvoy2022 \\nhttps://t.co/6XlDneeBj5\",\n          \"@firetheucp The convoy of anti democratic anarchists has nothing to do with freedom\\u2026&amp;  democracy.\\nSame with Pierre Poili\\u00e8vre.\",\n          \"@JacqueDanios @AngelaBelcamino Or the right. Anti Vaxx Anti Covid Policies. No jab. Freedom Convoy. My body my rights. Except if you're a woman. Or BIPOC.\"\n        ],\n        \"semantic_type\": \"\",\n        \"description\": \"\"\n      }\n    },\n    {\n      \"column\": \"Sentiment\",\n      \"properties\": {\n        \"dtype\": \"number\",\n        \"std\": 0,\n        \"min\": 0,\n        \"max\": 2,\n        \"num_unique_values\": 3,\n        \"samples\": [\n          0,\n          1,\n          2\n        ],\n        \"semantic_type\": \"\",\n        \"description\": \"\"\n      }\n    },\n    {\n      \"column\": \"Cleaned_Tweet\",\n      \"properties\": {\n        \"dtype\": \"string\",\n        \"num_unique_values\": 10233,\n        \"samples\": [\n          \"this this is what the freedom convoy was about the utter loss of critical thinking a trucker could drive west to east but not north and south without a shot so easily we slipped into madness passports and division critical thinkers drove to ottawa\",\n          \"convoy protest organizers tamara lich chris barber arrested in ottawa  cbc news  charged for what protesting for freedom trudeau is evil and needs to go\",\n          \"this is what the  freedom convoy  attempted to do when an ideologies actions are an exact replica of what fascists did in the past that ideology is fascist \"\n        ],\n        \"semantic_type\": \"\",\n        \"description\": \"\"\n      }\n    },\n    {\n      \"column\": \"Spell_Checked_Tweet\",\n      \"properties\": {\n        \"dtype\": \"string\",\n        \"num_unique_values\": 10162,\n        \"samples\": [\n          \"freedomconvoy 2022\",\n          \"freedom convoy i will be donating here for this campaign and any in the future\",\n          \"this lawyer was useless a shame most of the lawyers for the freedom convoy parties are inept and actually hurt the cause by their abject incompetence\"\n        ],\n        \"semantic_type\": \"\",\n        \"description\": \"\"\n      }\n    },\n    {\n      \"column\": \"Negated_Tweet\",\n      \"properties\": {\n        \"dtype\": \"string\",\n        \"num_unique_values\": 10192,\n        \"samples\": [\n          \"the freedom convoy  had police on horses who trampled canadians\",\n          \"canadian authorities threaten to seize  relinquished  pets of arrested freedom convoy truckers\",\n          \"i m sorry but you ll never NOTconvince me the convoy was going to end any other way except using force\"\n        ],\n        \"semantic_type\": \"\",\n        \"description\": \"\"\n      }\n    },\n    {\n      \"column\": \"Contains_Emoji\",\n      \"properties\": {\n        \"dtype\": \"boolean\",\n        \"num_unique_values\": 1,\n        \"samples\": [\n          false\n        ],\n        \"semantic_type\": \"\",\n        \"description\": \"\"\n      }\n    }\n  ]\n}"
            }
          },
          "metadata": {},
          "execution_count": 54
        }
      ],
      "source": [
        "test_df.head()"
      ]
    },
    {
      "cell_type": "markdown",
      "id": "73a30355-232c-4a53-9e6c-3a423773ded9",
      "metadata": {
        "id": "73a30355-232c-4a53-9e6c-3a423773ded9"
      },
      "source": [
        "# Tokenization and Padding"
      ]
    },
    {
      "cell_type": "code",
      "execution_count": 83,
      "id": "95d5cc77-6e05-46ee-88ec-0f416fbe5169",
      "metadata": {
        "tags": [],
        "id": "95d5cc77-6e05-46ee-88ec-0f416fbe5169"
      },
      "outputs": [],
      "source": [
        "from tensorflow.keras.preprocessing.text import Tokenizer\n",
        "\n",
        "\n",
        "vocab_size = 10000\n",
        "\n",
        "# tokenizer\n",
        "tokenizer = Tokenizer(num_words=vocab_size, oov_token=\"<OOV>\")\n",
        "\n",
        "# fitting on train data\n",
        "tokenizer.fit_on_texts(train_df[\"Spell_Checked_Tweet\"])\n",
        "\n",
        "\n",
        "\n"
      ]
    },
    {
      "cell_type": "code",
      "execution_count": 84,
      "id": "b1967fbc-1b0a-4514-ac4c-d1455061e00b",
      "metadata": {
        "tags": [],
        "colab": {
          "base_uri": "https://localhost:8080/"
        },
        "id": "b1967fbc-1b0a-4514-ac4c-d1455061e00b",
        "outputId": "f63df649-e26a-4025-8d48-6beaa5ba536c"
      },
      "outputs": [
        {
          "output_type": "stream",
          "name": "stdout",
          "text": [
            "Train sequences shape: (84107, 100)\n",
            "Validation sequences shape: (10513, 100)\n",
            "Test sequences shape: (10514, 100)\n"
          ]
        }
      ],
      "source": [
        "# max length of sequences in the training dataset\n",
        "# maxlen = max([len(tweet.split()) for tweet in train_df[\"Negated_Tweet\"]])\n",
        "maxlen=100\n",
        "\n",
        "# Converting texts to sequences\n",
        "train_sequences = tokenizer.texts_to_sequences(train_df[\"Spell_Checked_Tweet\"])\n",
        "val_sequences = tokenizer.texts_to_sequences(val_df[\"Spell_Checked_Tweet\"])\n",
        "test_sequences = tokenizer.texts_to_sequences(test_df[\"Spell_Checked_Tweet\"])\n",
        "\n",
        "# Padding the sequences to the same length (maxlen)\n",
        "train_sequences_padded = pad_sequences(train_sequences, maxlen=maxlen, padding='post', truncating='post')\n",
        "val_sequences_padded = pad_sequences(val_sequences, maxlen=maxlen, padding='post', truncating='post')\n",
        "test_sequences_padded = pad_sequences(test_sequences, maxlen=maxlen, padding='post', truncating='post')\n",
        "\n",
        "print(f\"Train sequences shape: {train_sequences_padded.shape}\")\n",
        "print(f\"Validation sequences shape: {val_sequences_padded.shape}\")\n",
        "print(f\"Test sequences shape: {test_sequences_padded.shape}\")\n"
      ]
    },
    {
      "cell_type": "markdown",
      "id": "b3a3d4df-bfbb-4726-a457-f6027188d88a",
      "metadata": {
        "id": "b3a3d4df-bfbb-4726-a457-f6027188d88a"
      },
      "source": [
        "# Pretrained Google news Word2Vec with 300 dimensions"
      ]
    },
    {
      "cell_type": "code",
      "execution_count": 58,
      "id": "a48cd0a4-a68d-49dc-9eb7-311619070ace",
      "metadata": {
        "tags": [],
        "id": "a48cd0a4-a68d-49dc-9eb7-311619070ace"
      },
      "outputs": [],
      "source": [
        "import gensim.downloader as api\n",
        "\n",
        "# Load pretrained Word2Vec model\n",
        "w2v_model = api.load(\"word2vec-google-news-300\")  # or use another CBOW/Skipgram model\n",
        "embedding_dim = w2v_model.vector_size\n"
      ]
    },
    {
      "cell_type": "code",
      "source": [
        "print(f\"Total words in Word2Vec model: {len(w2v_model.key_to_index)}\")"
      ],
      "metadata": {
        "colab": {
          "base_uri": "https://localhost:8080/"
        },
        "id": "krgVYeS-6V7y",
        "outputId": "c73fa843-7874-4ed7-f73a-f632c2a03426"
      },
      "id": "krgVYeS-6V7y",
      "execution_count": 82,
      "outputs": [
        {
          "output_type": "stream",
          "name": "stdout",
          "text": [
            "Total words in Word2Vec model: 3000000\n"
          ]
        }
      ]
    },
    {
      "cell_type": "code",
      "execution_count": 85,
      "id": "87e72147-1e47-4a30-b25b-9467ebb91563",
      "metadata": {
        "id": "87e72147-1e47-4a30-b25b-9467ebb91563"
      },
      "outputs": [],
      "source": [
        "import numpy as np\n",
        "\n",
        "# Define vocab size and embedding matrix\n",
        "vocab_size = min(10000, len(tokenizer.word_index) + 1)\n",
        "embedding_matrix = np.zeros((vocab_size, embedding_dim))\n",
        "\n",
        "for word, idx in tokenizer.word_index.items():\n",
        "    if idx < vocab_size:\n",
        "        if word in w2v_model:\n",
        "            embedding_matrix[idx] = w2v_model[word]\n",
        "        else:\n",
        "            # Random initialization for OOV words\n",
        "            embedding_matrix[idx] = np.random.normal(scale=0.6, size=(embedding_dim,))\n"
      ]
    },
    {
      "cell_type": "code",
      "source": [
        "# oov_words = []\n",
        "# for word, idx in tokenizer.word_index.items():\n",
        "#     if word not in w2v_model:\n",
        "#         oov_words.append(word)\n",
        "\n",
        "# # few OOV words\n",
        "# print(\"OOV Words (not in pretrained Word2Vec model):\")\n",
        "# print(oov_words[:10])\n"
      ],
      "metadata": {
        "colab": {
          "base_uri": "https://localhost:8080/"
        },
        "id": "0B9_9oBm5sTl",
        "outputId": "f6e6a479-fc79-4769-e3d3-e4a5ee748caa"
      },
      "id": "0B9_9oBm5sTl",
      "execution_count": 78,
      "outputs": [
        {
          "output_type": "stream",
          "name": "stdout",
          "text": [
            "OOV Words (not in pretrained Word2Vec model):\n",
            "['<OOV>', 'a', 'to', 'of', 'and', 'trudeau', 'covid', 'notis', 'gofundme', 'notwas']\n"
          ]
        }
      ]
    },
    {
      "cell_type": "code",
      "source": [
        "covered = 0\n",
        "for word, idx in tokenizer.word_index.items():\n",
        "    if idx < vocab_size and word in w2v_model:\n",
        "        covered += 1\n",
        "\n",
        "print(f\"Coverage: {covered / vocab_size:.2%}\")\n"
      ],
      "metadata": {
        "colab": {
          "base_uri": "https://localhost:8080/"
        },
        "id": "LYCAb5gqwCzx",
        "outputId": "ca3dfe34-f41d-4917-9d06-cccbdd88b09d"
      },
      "id": "LYCAb5gqwCzx",
      "execution_count": 86,
      "outputs": [
        {
          "output_type": "stream",
          "name": "stdout",
          "text": [
            "Coverage: 94.79%\n"
          ]
        }
      ]
    },
    {
      "cell_type": "code",
      "source": [
        "import tensorflow as tf\n",
        "from tensorflow.keras import layers, models\n",
        "\n",
        "\n",
        "from tensorflow.keras.models import Model\n",
        "from tensorflow.keras.layers import (Input, Embedding, Dropout, Dense, LayerNormalization,\n",
        "                                     MultiHeadAttention, GlobalAveragePooling1D, Lambda)\n",
        "from tensorflow.keras.preprocessing.text import Tokenizer\n",
        "from tensorflow.keras.preprocessing.sequence import pad_sequences\n",
        "from sklearn.metrics import classification_report\n",
        "from gensim.models import KeyedVectors\n",
        "import gensim.downloader as api\n",
        "import matplotlib.pyplot as plt\n",
        "\n",
        "# Define positional encoding layer\n",
        "class PositionalEmbedding(layers.Layer):\n",
        "    def __init__(self, vocab_size, embedding_dim, max_len, embedding_matrix):\n",
        "        super().__init__()\n",
        "        self.token_embed = layers.Embedding(\n",
        "            input_dim=vocab_size,\n",
        "            output_dim=embedding_dim,\n",
        "            weights=[embedding_matrix],\n",
        "            trainable=False,  # Set to True if you want to finetune\n",
        "        )\n",
        "        self.pos_embed = layers.Embedding(input_dim=max_len, output_dim=embedding_dim)\n",
        "\n",
        "    def call(self, x):\n",
        "        maxlen = tf.shape(x)[1]\n",
        "        positions = tf.range(start=0, limit=maxlen, delta=1)\n",
        "        positions = self.pos_embed(positions)\n",
        "        x = self.token_embed(x)\n",
        "        return x + positions\n",
        "\n",
        "# Parameters\n",
        "num_classes = 3\n",
        "dropout_rate = 0.1\n",
        "\n",
        "# Model\n",
        "inputs = layers.Input(shape=(maxlen,))\n",
        "x = PositionalEmbedding(vocab_size, embedding_dim, maxlen, embedding_matrix)(inputs)\n",
        "\n",
        "# Transformer block\n",
        "attention_output = layers.MultiHeadAttention(num_heads=2, key_dim=embedding_dim)(x, x)\n",
        "x = layers.LayerNormalization(epsilon=1e-6)(x + attention_output)\n",
        "ff_output = layers.Dense(128, activation='relu')(x)\n",
        "ff_output = layers.Dense(embedding_dim)(ff_output)\n",
        "x = layers.LayerNormalization(epsilon=1e-6)(x + ff_output)\n",
        "\n",
        "# Pooling + Dense\n",
        "x = layers.GlobalAveragePooling1D()(x)\n",
        "x = layers.Dropout(dropout_rate)(x)\n",
        "x = layers.Dense(64, activation='relu')(x)\n",
        "x = layers.Dropout(dropout_rate)(x)\n",
        "outputs = layers.Dense(num_classes, activation='softmax')(x)\n",
        "\n",
        "model = models.Model(inputs=inputs, outputs=outputs)\n",
        "model.compile(optimizer='adam', loss='sparse_categorical_crossentropy', metrics=['accuracy'])\n",
        "\n",
        "model.summary()\n"
      ],
      "metadata": {
        "colab": {
          "base_uri": "https://localhost:8080/",
          "height": 776
        },
        "id": "TW7tMZqZLr9p",
        "outputId": "abfda5b0-b692-46a7-be7d-33402e33ddae"
      },
      "id": "TW7tMZqZLr9p",
      "execution_count": 87,
      "outputs": [
        {
          "output_type": "display_data",
          "data": {
            "text/plain": [
              "\u001b[1mModel: \"functional_9\"\u001b[0m\n"
            ],
            "text/html": [
              "<pre style=\"white-space:pre;overflow-x:auto;line-height:normal;font-family:Menlo,'DejaVu Sans Mono',consolas,'Courier New',monospace\"><span style=\"font-weight: bold\">Model: \"functional_9\"</span>\n",
              "</pre>\n"
            ]
          },
          "metadata": {}
        },
        {
          "output_type": "display_data",
          "data": {
            "text/plain": [
              "┏━━━━━━━━━━━━━━━━━━━━━┳━━━━━━━━━━━━━━━━━━━┳━━━━━━━━━━━━┳━━━━━━━━━━━━━━━━━━━┓\n",
              "┃\u001b[1m \u001b[0m\u001b[1mLayer (type)       \u001b[0m\u001b[1m \u001b[0m┃\u001b[1m \u001b[0m\u001b[1mOutput Shape     \u001b[0m\u001b[1m \u001b[0m┃\u001b[1m \u001b[0m\u001b[1m   Param #\u001b[0m\u001b[1m \u001b[0m┃\u001b[1m \u001b[0m\u001b[1mConnected to     \u001b[0m\u001b[1m \u001b[0m┃\n",
              "┡━━━━━━━━━━━━━━━━━━━━━╇━━━━━━━━━━━━━━━━━━━╇━━━━━━━━━━━━╇━━━━━━━━━━━━━━━━━━━┩\n",
              "│ input_layer_9       │ (\u001b[38;5;45mNone\u001b[0m, \u001b[38;5;34m100\u001b[0m)       │          \u001b[38;5;34m0\u001b[0m │ -                 │\n",
              "│ (\u001b[38;5;33mInputLayer\u001b[0m)        │                   │            │                   │\n",
              "├─────────────────────┼───────────────────┼────────────┼───────────────────┤\n",
              "│ positional_embeddi… │ (\u001b[38;5;45mNone\u001b[0m, \u001b[38;5;34m100\u001b[0m, \u001b[38;5;34m300\u001b[0m)  │  \u001b[38;5;34m3,030,000\u001b[0m │ input_layer_9[\u001b[38;5;34m0\u001b[0m]… │\n",
              "│ (\u001b[38;5;33mPositionalEmbeddi…\u001b[0m │                   │            │                   │\n",
              "├─────────────────────┼───────────────────┼────────────┼───────────────────┤\n",
              "│ multi_head_attenti… │ (\u001b[38;5;45mNone\u001b[0m, \u001b[38;5;34m100\u001b[0m, \u001b[38;5;34m300\u001b[0m)  │    \u001b[38;5;34m722,100\u001b[0m │ positional_embed… │\n",
              "│ (\u001b[38;5;33mMultiHeadAttentio…\u001b[0m │                   │            │ positional_embed… │\n",
              "├─────────────────────┼───────────────────┼────────────┼───────────────────┤\n",
              "│ add_5 (\u001b[38;5;33mAdd\u001b[0m)         │ (\u001b[38;5;45mNone\u001b[0m, \u001b[38;5;34m100\u001b[0m, \u001b[38;5;34m300\u001b[0m)  │          \u001b[38;5;34m0\u001b[0m │ positional_embed… │\n",
              "│                     │                   │            │ multi_head_atten… │\n",
              "├─────────────────────┼───────────────────┼────────────┼───────────────────┤\n",
              "│ layer_normalizatio… │ (\u001b[38;5;45mNone\u001b[0m, \u001b[38;5;34m100\u001b[0m, \u001b[38;5;34m300\u001b[0m)  │        \u001b[38;5;34m600\u001b[0m │ add_5[\u001b[38;5;34m0\u001b[0m][\u001b[38;5;34m0\u001b[0m]       │\n",
              "│ (\u001b[38;5;33mLayerNormalizatio…\u001b[0m │                   │            │                   │\n",
              "├─────────────────────┼───────────────────┼────────────┼───────────────────┤\n",
              "│ dense_21 (\u001b[38;5;33mDense\u001b[0m)    │ (\u001b[38;5;45mNone\u001b[0m, \u001b[38;5;34m100\u001b[0m, \u001b[38;5;34m128\u001b[0m)  │     \u001b[38;5;34m38,528\u001b[0m │ layer_normalizat… │\n",
              "├─────────────────────┼───────────────────┼────────────┼───────────────────┤\n",
              "│ dense_22 (\u001b[38;5;33mDense\u001b[0m)    │ (\u001b[38;5;45mNone\u001b[0m, \u001b[38;5;34m100\u001b[0m, \u001b[38;5;34m300\u001b[0m)  │     \u001b[38;5;34m38,700\u001b[0m │ dense_21[\u001b[38;5;34m0\u001b[0m][\u001b[38;5;34m0\u001b[0m]    │\n",
              "├─────────────────────┼───────────────────┼────────────┼───────────────────┤\n",
              "│ add_6 (\u001b[38;5;33mAdd\u001b[0m)         │ (\u001b[38;5;45mNone\u001b[0m, \u001b[38;5;34m100\u001b[0m, \u001b[38;5;34m300\u001b[0m)  │          \u001b[38;5;34m0\u001b[0m │ layer_normalizat… │\n",
              "│                     │                   │            │ dense_22[\u001b[38;5;34m0\u001b[0m][\u001b[38;5;34m0\u001b[0m]    │\n",
              "├─────────────────────┼───────────────────┼────────────┼───────────────────┤\n",
              "│ layer_normalizatio… │ (\u001b[38;5;45mNone\u001b[0m, \u001b[38;5;34m100\u001b[0m, \u001b[38;5;34m300\u001b[0m)  │        \u001b[38;5;34m600\u001b[0m │ add_6[\u001b[38;5;34m0\u001b[0m][\u001b[38;5;34m0\u001b[0m]       │\n",
              "│ (\u001b[38;5;33mLayerNormalizatio…\u001b[0m │                   │            │                   │\n",
              "├─────────────────────┼───────────────────┼────────────┼───────────────────┤\n",
              "│ global_average_poo… │ (\u001b[38;5;45mNone\u001b[0m, \u001b[38;5;34m300\u001b[0m)       │          \u001b[38;5;34m0\u001b[0m │ layer_normalizat… │\n",
              "│ (\u001b[38;5;33mGlobalAveragePool…\u001b[0m │                   │            │                   │\n",
              "├─────────────────────┼───────────────────┼────────────┼───────────────────┤\n",
              "│ dropout_22          │ (\u001b[38;5;45mNone\u001b[0m, \u001b[38;5;34m300\u001b[0m)       │          \u001b[38;5;34m0\u001b[0m │ global_average_p… │\n",
              "│ (\u001b[38;5;33mDropout\u001b[0m)           │                   │            │                   │\n",
              "├─────────────────────┼───────────────────┼────────────┼───────────────────┤\n",
              "│ dense_23 (\u001b[38;5;33mDense\u001b[0m)    │ (\u001b[38;5;45mNone\u001b[0m, \u001b[38;5;34m64\u001b[0m)        │     \u001b[38;5;34m19,264\u001b[0m │ dropout_22[\u001b[38;5;34m0\u001b[0m][\u001b[38;5;34m0\u001b[0m]  │\n",
              "├─────────────────────┼───────────────────┼────────────┼───────────────────┤\n",
              "│ dropout_23          │ (\u001b[38;5;45mNone\u001b[0m, \u001b[38;5;34m64\u001b[0m)        │          \u001b[38;5;34m0\u001b[0m │ dense_23[\u001b[38;5;34m0\u001b[0m][\u001b[38;5;34m0\u001b[0m]    │\n",
              "│ (\u001b[38;5;33mDropout\u001b[0m)           │                   │            │                   │\n",
              "├─────────────────────┼───────────────────┼────────────┼───────────────────┤\n",
              "│ dense_24 (\u001b[38;5;33mDense\u001b[0m)    │ (\u001b[38;5;45mNone\u001b[0m, \u001b[38;5;34m3\u001b[0m)         │        \u001b[38;5;34m195\u001b[0m │ dropout_23[\u001b[38;5;34m0\u001b[0m][\u001b[38;5;34m0\u001b[0m]  │\n",
              "└─────────────────────┴───────────────────┴────────────┴───────────────────┘\n"
            ],
            "text/html": [
              "<pre style=\"white-space:pre;overflow-x:auto;line-height:normal;font-family:Menlo,'DejaVu Sans Mono',consolas,'Courier New',monospace\">┏━━━━━━━━━━━━━━━━━━━━━┳━━━━━━━━━━━━━━━━━━━┳━━━━━━━━━━━━┳━━━━━━━━━━━━━━━━━━━┓\n",
              "┃<span style=\"font-weight: bold\"> Layer (type)        </span>┃<span style=\"font-weight: bold\"> Output Shape      </span>┃<span style=\"font-weight: bold\">    Param # </span>┃<span style=\"font-weight: bold\"> Connected to      </span>┃\n",
              "┡━━━━━━━━━━━━━━━━━━━━━╇━━━━━━━━━━━━━━━━━━━╇━━━━━━━━━━━━╇━━━━━━━━━━━━━━━━━━━┩\n",
              "│ input_layer_9       │ (<span style=\"color: #00d7ff; text-decoration-color: #00d7ff\">None</span>, <span style=\"color: #00af00; text-decoration-color: #00af00\">100</span>)       │          <span style=\"color: #00af00; text-decoration-color: #00af00\">0</span> │ -                 │\n",
              "│ (<span style=\"color: #0087ff; text-decoration-color: #0087ff\">InputLayer</span>)        │                   │            │                   │\n",
              "├─────────────────────┼───────────────────┼────────────┼───────────────────┤\n",
              "│ positional_embeddi… │ (<span style=\"color: #00d7ff; text-decoration-color: #00d7ff\">None</span>, <span style=\"color: #00af00; text-decoration-color: #00af00\">100</span>, <span style=\"color: #00af00; text-decoration-color: #00af00\">300</span>)  │  <span style=\"color: #00af00; text-decoration-color: #00af00\">3,030,000</span> │ input_layer_9[<span style=\"color: #00af00; text-decoration-color: #00af00\">0</span>]… │\n",
              "│ (<span style=\"color: #0087ff; text-decoration-color: #0087ff\">PositionalEmbeddi…</span> │                   │            │                   │\n",
              "├─────────────────────┼───────────────────┼────────────┼───────────────────┤\n",
              "│ multi_head_attenti… │ (<span style=\"color: #00d7ff; text-decoration-color: #00d7ff\">None</span>, <span style=\"color: #00af00; text-decoration-color: #00af00\">100</span>, <span style=\"color: #00af00; text-decoration-color: #00af00\">300</span>)  │    <span style=\"color: #00af00; text-decoration-color: #00af00\">722,100</span> │ positional_embed… │\n",
              "│ (<span style=\"color: #0087ff; text-decoration-color: #0087ff\">MultiHeadAttentio…</span> │                   │            │ positional_embed… │\n",
              "├─────────────────────┼───────────────────┼────────────┼───────────────────┤\n",
              "│ add_5 (<span style=\"color: #0087ff; text-decoration-color: #0087ff\">Add</span>)         │ (<span style=\"color: #00d7ff; text-decoration-color: #00d7ff\">None</span>, <span style=\"color: #00af00; text-decoration-color: #00af00\">100</span>, <span style=\"color: #00af00; text-decoration-color: #00af00\">300</span>)  │          <span style=\"color: #00af00; text-decoration-color: #00af00\">0</span> │ positional_embed… │\n",
              "│                     │                   │            │ multi_head_atten… │\n",
              "├─────────────────────┼───────────────────┼────────────┼───────────────────┤\n",
              "│ layer_normalizatio… │ (<span style=\"color: #00d7ff; text-decoration-color: #00d7ff\">None</span>, <span style=\"color: #00af00; text-decoration-color: #00af00\">100</span>, <span style=\"color: #00af00; text-decoration-color: #00af00\">300</span>)  │        <span style=\"color: #00af00; text-decoration-color: #00af00\">600</span> │ add_5[<span style=\"color: #00af00; text-decoration-color: #00af00\">0</span>][<span style=\"color: #00af00; text-decoration-color: #00af00\">0</span>]       │\n",
              "│ (<span style=\"color: #0087ff; text-decoration-color: #0087ff\">LayerNormalizatio…</span> │                   │            │                   │\n",
              "├─────────────────────┼───────────────────┼────────────┼───────────────────┤\n",
              "│ dense_21 (<span style=\"color: #0087ff; text-decoration-color: #0087ff\">Dense</span>)    │ (<span style=\"color: #00d7ff; text-decoration-color: #00d7ff\">None</span>, <span style=\"color: #00af00; text-decoration-color: #00af00\">100</span>, <span style=\"color: #00af00; text-decoration-color: #00af00\">128</span>)  │     <span style=\"color: #00af00; text-decoration-color: #00af00\">38,528</span> │ layer_normalizat… │\n",
              "├─────────────────────┼───────────────────┼────────────┼───────────────────┤\n",
              "│ dense_22 (<span style=\"color: #0087ff; text-decoration-color: #0087ff\">Dense</span>)    │ (<span style=\"color: #00d7ff; text-decoration-color: #00d7ff\">None</span>, <span style=\"color: #00af00; text-decoration-color: #00af00\">100</span>, <span style=\"color: #00af00; text-decoration-color: #00af00\">300</span>)  │     <span style=\"color: #00af00; text-decoration-color: #00af00\">38,700</span> │ dense_21[<span style=\"color: #00af00; text-decoration-color: #00af00\">0</span>][<span style=\"color: #00af00; text-decoration-color: #00af00\">0</span>]    │\n",
              "├─────────────────────┼───────────────────┼────────────┼───────────────────┤\n",
              "│ add_6 (<span style=\"color: #0087ff; text-decoration-color: #0087ff\">Add</span>)         │ (<span style=\"color: #00d7ff; text-decoration-color: #00d7ff\">None</span>, <span style=\"color: #00af00; text-decoration-color: #00af00\">100</span>, <span style=\"color: #00af00; text-decoration-color: #00af00\">300</span>)  │          <span style=\"color: #00af00; text-decoration-color: #00af00\">0</span> │ layer_normalizat… │\n",
              "│                     │                   │            │ dense_22[<span style=\"color: #00af00; text-decoration-color: #00af00\">0</span>][<span style=\"color: #00af00; text-decoration-color: #00af00\">0</span>]    │\n",
              "├─────────────────────┼───────────────────┼────────────┼───────────────────┤\n",
              "│ layer_normalizatio… │ (<span style=\"color: #00d7ff; text-decoration-color: #00d7ff\">None</span>, <span style=\"color: #00af00; text-decoration-color: #00af00\">100</span>, <span style=\"color: #00af00; text-decoration-color: #00af00\">300</span>)  │        <span style=\"color: #00af00; text-decoration-color: #00af00\">600</span> │ add_6[<span style=\"color: #00af00; text-decoration-color: #00af00\">0</span>][<span style=\"color: #00af00; text-decoration-color: #00af00\">0</span>]       │\n",
              "│ (<span style=\"color: #0087ff; text-decoration-color: #0087ff\">LayerNormalizatio…</span> │                   │            │                   │\n",
              "├─────────────────────┼───────────────────┼────────────┼───────────────────┤\n",
              "│ global_average_poo… │ (<span style=\"color: #00d7ff; text-decoration-color: #00d7ff\">None</span>, <span style=\"color: #00af00; text-decoration-color: #00af00\">300</span>)       │          <span style=\"color: #00af00; text-decoration-color: #00af00\">0</span> │ layer_normalizat… │\n",
              "│ (<span style=\"color: #0087ff; text-decoration-color: #0087ff\">GlobalAveragePool…</span> │                   │            │                   │\n",
              "├─────────────────────┼───────────────────┼────────────┼───────────────────┤\n",
              "│ dropout_22          │ (<span style=\"color: #00d7ff; text-decoration-color: #00d7ff\">None</span>, <span style=\"color: #00af00; text-decoration-color: #00af00\">300</span>)       │          <span style=\"color: #00af00; text-decoration-color: #00af00\">0</span> │ global_average_p… │\n",
              "│ (<span style=\"color: #0087ff; text-decoration-color: #0087ff\">Dropout</span>)           │                   │            │                   │\n",
              "├─────────────────────┼───────────────────┼────────────┼───────────────────┤\n",
              "│ dense_23 (<span style=\"color: #0087ff; text-decoration-color: #0087ff\">Dense</span>)    │ (<span style=\"color: #00d7ff; text-decoration-color: #00d7ff\">None</span>, <span style=\"color: #00af00; text-decoration-color: #00af00\">64</span>)        │     <span style=\"color: #00af00; text-decoration-color: #00af00\">19,264</span> │ dropout_22[<span style=\"color: #00af00; text-decoration-color: #00af00\">0</span>][<span style=\"color: #00af00; text-decoration-color: #00af00\">0</span>]  │\n",
              "├─────────────────────┼───────────────────┼────────────┼───────────────────┤\n",
              "│ dropout_23          │ (<span style=\"color: #00d7ff; text-decoration-color: #00d7ff\">None</span>, <span style=\"color: #00af00; text-decoration-color: #00af00\">64</span>)        │          <span style=\"color: #00af00; text-decoration-color: #00af00\">0</span> │ dense_23[<span style=\"color: #00af00; text-decoration-color: #00af00\">0</span>][<span style=\"color: #00af00; text-decoration-color: #00af00\">0</span>]    │\n",
              "│ (<span style=\"color: #0087ff; text-decoration-color: #0087ff\">Dropout</span>)           │                   │            │                   │\n",
              "├─────────────────────┼───────────────────┼────────────┼───────────────────┤\n",
              "│ dense_24 (<span style=\"color: #0087ff; text-decoration-color: #0087ff\">Dense</span>)    │ (<span style=\"color: #00d7ff; text-decoration-color: #00d7ff\">None</span>, <span style=\"color: #00af00; text-decoration-color: #00af00\">3</span>)         │        <span style=\"color: #00af00; text-decoration-color: #00af00\">195</span> │ dropout_23[<span style=\"color: #00af00; text-decoration-color: #00af00\">0</span>][<span style=\"color: #00af00; text-decoration-color: #00af00\">0</span>]  │\n",
              "└─────────────────────┴───────────────────┴────────────┴───────────────────┘\n",
              "</pre>\n"
            ]
          },
          "metadata": {}
        },
        {
          "output_type": "display_data",
          "data": {
            "text/plain": [
              "\u001b[1m Total params: \u001b[0m\u001b[38;5;34m3,849,987\u001b[0m (14.69 MB)\n"
            ],
            "text/html": [
              "<pre style=\"white-space:pre;overflow-x:auto;line-height:normal;font-family:Menlo,'DejaVu Sans Mono',consolas,'Courier New',monospace\"><span style=\"font-weight: bold\"> Total params: </span><span style=\"color: #00af00; text-decoration-color: #00af00\">3,849,987</span> (14.69 MB)\n",
              "</pre>\n"
            ]
          },
          "metadata": {}
        },
        {
          "output_type": "display_data",
          "data": {
            "text/plain": [
              "\u001b[1m Trainable params: \u001b[0m\u001b[38;5;34m849,987\u001b[0m (3.24 MB)\n"
            ],
            "text/html": [
              "<pre style=\"white-space:pre;overflow-x:auto;line-height:normal;font-family:Menlo,'DejaVu Sans Mono',consolas,'Courier New',monospace\"><span style=\"font-weight: bold\"> Trainable params: </span><span style=\"color: #00af00; text-decoration-color: #00af00\">849,987</span> (3.24 MB)\n",
              "</pre>\n"
            ]
          },
          "metadata": {}
        },
        {
          "output_type": "display_data",
          "data": {
            "text/plain": [
              "\u001b[1m Non-trainable params: \u001b[0m\u001b[38;5;34m3,000,000\u001b[0m (11.44 MB)\n"
            ],
            "text/html": [
              "<pre style=\"white-space:pre;overflow-x:auto;line-height:normal;font-family:Menlo,'DejaVu Sans Mono',consolas,'Courier New',monospace\"><span style=\"font-weight: bold\"> Non-trainable params: </span><span style=\"color: #00af00; text-decoration-color: #00af00\">3,000,000</span> (11.44 MB)\n",
              "</pre>\n"
            ]
          },
          "metadata": {}
        }
      ]
    },
    {
      "cell_type": "code",
      "source": [
        "# Train the model\n",
        "history = model.fit(\n",
        "    train_sequences_padded,\n",
        "    train_df[\"Sentiment\"],\n",
        "    validation_data=(val_sequences_padded, val_df[\"Sentiment\"]),\n",
        "    epochs=10,              # You can increase if needed\n",
        "    batch_size=64,         # Try reducing if memory issues\n",
        "    verbose=1\n",
        ")\n"
      ],
      "metadata": {
        "colab": {
          "base_uri": "https://localhost:8080/"
        },
        "id": "ivsNk8JXL8Dm",
        "outputId": "bb90edf6-30b4-4dca-874a-f56bc42ff354"
      },
      "id": "ivsNk8JXL8Dm",
      "execution_count": 88,
      "outputs": [
        {
          "output_type": "stream",
          "name": "stdout",
          "text": [
            "Epoch 1/10\n",
            "\u001b[1m1315/1315\u001b[0m \u001b[32m━━━━━━━━━━━━━━━━━━━━\u001b[0m\u001b[37m\u001b[0m \u001b[1m36s\u001b[0m 22ms/step - accuracy: 0.5320 - loss: 0.9610 - val_accuracy: 0.6104 - val_loss: 0.8401\n",
            "Epoch 2/10\n",
            "\u001b[1m1315/1315\u001b[0m \u001b[32m━━━━━━━━━━━━━━━━━━━━\u001b[0m\u001b[37m\u001b[0m \u001b[1m24s\u001b[0m 18ms/step - accuracy: 0.6100 - loss: 0.8419 - val_accuracy: 0.6282 - val_loss: 0.8147\n",
            "Epoch 3/10\n",
            "\u001b[1m1315/1315\u001b[0m \u001b[32m━━━━━━━━━━━━━━━━━━━━\u001b[0m\u001b[37m\u001b[0m \u001b[1m41s\u001b[0m 18ms/step - accuracy: 0.6252 - loss: 0.8154 - val_accuracy: 0.6195 - val_loss: 0.8219\n",
            "Epoch 4/10\n",
            "\u001b[1m1315/1315\u001b[0m \u001b[32m━━━━━━━━━━━━━━━━━━━━\u001b[0m\u001b[37m\u001b[0m \u001b[1m42s\u001b[0m 19ms/step - accuracy: 0.6408 - loss: 0.7905 - val_accuracy: 0.6384 - val_loss: 0.7951\n",
            "Epoch 5/10\n",
            "\u001b[1m1315/1315\u001b[0m \u001b[32m━━━━━━━━━━━━━━━━━━━━\u001b[0m\u001b[37m\u001b[0m \u001b[1m40s\u001b[0m 18ms/step - accuracy: 0.6432 - loss: 0.7849 - val_accuracy: 0.6548 - val_loss: 0.7710\n",
            "Epoch 6/10\n",
            "\u001b[1m1315/1315\u001b[0m \u001b[32m━━━━━━━━━━━━━━━━━━━━\u001b[0m\u001b[37m\u001b[0m \u001b[1m24s\u001b[0m 18ms/step - accuracy: 0.6539 - loss: 0.7690 - val_accuracy: 0.6573 - val_loss: 0.7635\n",
            "Epoch 7/10\n",
            "\u001b[1m1315/1315\u001b[0m \u001b[32m━━━━━━━━━━━━━━━━━━━━\u001b[0m\u001b[37m\u001b[0m \u001b[1m41s\u001b[0m 18ms/step - accuracy: 0.6621 - loss: 0.7562 - val_accuracy: 0.6609 - val_loss: 0.7555\n",
            "Epoch 8/10\n",
            "\u001b[1m1315/1315\u001b[0m \u001b[32m━━━━━━━━━━━━━━━━━━━━\u001b[0m\u001b[37m\u001b[0m \u001b[1m41s\u001b[0m 18ms/step - accuracy: 0.6671 - loss: 0.7443 - val_accuracy: 0.6700 - val_loss: 0.7444\n",
            "Epoch 9/10\n",
            "\u001b[1m1315/1315\u001b[0m \u001b[32m━━━━━━━━━━━━━━━━━━━━\u001b[0m\u001b[37m\u001b[0m \u001b[1m24s\u001b[0m 18ms/step - accuracy: 0.6724 - loss: 0.7379 - val_accuracy: 0.6566 - val_loss: 0.7759\n",
            "Epoch 10/10\n",
            "\u001b[1m1315/1315\u001b[0m \u001b[32m━━━━━━━━━━━━━━━━━━━━\u001b[0m\u001b[37m\u001b[0m \u001b[1m24s\u001b[0m 18ms/step - accuracy: 0.6749 - loss: 0.7286 - val_accuracy: 0.6725 - val_loss: 0.7340\n"
          ]
        }
      ]
    },
    {
      "cell_type": "code",
      "source": [
        "import matplotlib.pyplot as plt\n",
        "import seaborn as sns\n",
        "from sklearn.metrics import accuracy_score, f1_score, classification_report, confusion_matrix, roc_auc_score, roc_curve\n",
        "from sklearn.preprocessing import LabelBinarizer\n",
        "import numpy as np\n",
        "\n",
        "def evaluate_model(model, data, labels, data_name=\"Data\"):\n",
        "\n",
        "    # Predict the labels (probabilities)\n",
        "    preds = model.predict(data)\n",
        "\n",
        "    # Get the predicted class labels\n",
        "    preds_class = np.argmax(preds, axis=1)\n",
        "\n",
        "    # Calculate Accuracy\n",
        "    acc = accuracy_score(labels, preds_class)\n",
        "    print(f\"{data_name} Accuracy: {acc:.4f}\")\n",
        "\n",
        "    # Calculate F1 Score (Macro Average)\n",
        "    f1 = f1_score(labels, preds_class, average='macro')\n",
        "    print(f\"{data_name} Macro F1 Score: {f1:.4f}\")\n",
        "\n",
        "    # Calculate Macro AUC Score (One-vs-Rest)\n",
        "    auc_score = roc_auc_score(labels, preds, multi_class='ovr', average='macro')\n",
        "    print(f\"{data_name} Macro AUC Score: {auc_score:.4f}\")\n",
        "\n",
        "    # Classification Report\n",
        "    print(f\"{data_name} Classification Report:\")\n",
        "    print(classification_report(labels, preds_class))\n",
        "\n",
        "    # Confusion Matrix\n",
        "    cm = confusion_matrix(labels, preds_class)\n",
        "    plt.figure(figsize=(8, 6))\n",
        "    sns.heatmap(cm, annot=True, fmt='g', cmap='Blues', xticklabels=[\"Negative\", \"Neutral\", \"Positive\"], yticklabels=[\"Negative\", \"Neutral\", \"Positive\"])\n",
        "    plt.title(f\"{data_name} Confusion Matrix\")\n",
        "    plt.xlabel(\"Predicted\")\n",
        "    plt.ylabel(\"Actual\")\n",
        "    plt.show()\n",
        "\n",
        "    # ROC Curve and AUC for each class\n",
        "    lb = LabelBinarizer()\n",
        "    labels_bin = lb.fit_transform(labels)  # One-hot encode labels\n",
        "\n",
        "    plt.figure(figsize=(8, 6))\n",
        "    for i in range(labels_bin.shape[1]):  # For each class\n",
        "        fpr, tpr, _ = roc_curve(labels_bin[:, i], preds[:, i])  # Calculate ROC for each class\n",
        "        auc = roc_auc_score(labels_bin[:, i], preds[:, i])  # AUC for the class\n",
        "        print(f\"{data_name} Class {i} AUC: {auc:.4f}\")\n",
        "\n",
        "        plt.plot(fpr, tpr, label=f'Class {i} ROC curve (AUC = {auc:.2f})')\n",
        "\n",
        "    plt.plot([0, 1], [0, 1], linestyle='--', color='gray')\n",
        "    plt.xlabel('False Positive Rate')\n",
        "    plt.ylabel('True Positive Rate')\n",
        "    plt.title(f'{data_name} ROC Curve')\n",
        "    plt.legend(loc='lower right')\n",
        "    plt.show()\n",
        "\n",
        "\n"
      ],
      "metadata": {
        "id": "GmGmjfLfyVXq"
      },
      "id": "GmGmjfLfyVXq",
      "execution_count": 89,
      "outputs": []
    },
    {
      "cell_type": "code",
      "source": [
        "# Evaluation\n",
        "evaluate_model(model, train_sequences_padded, train_df[\"Sentiment\"], \"Train\")\n",
        "\n",
        "evaluate_model(model, test_sequences_padded, test_df[\"Sentiment\"], \"Test\")\n"
      ],
      "metadata": {
        "colab": {
          "base_uri": "https://localhost:8080/",
          "height": 1000
        },
        "id": "9irxKUoXynGO",
        "outputId": "046c0d16-6bb4-4c86-f72b-9293979a42f1"
      },
      "id": "9irxKUoXynGO",
      "execution_count": 90,
      "outputs": [
        {
          "output_type": "stream",
          "name": "stdout",
          "text": [
            "\u001b[1m2629/2629\u001b[0m \u001b[32m━━━━━━━━━━━━━━━━━━━━\u001b[0m\u001b[37m\u001b[0m \u001b[1m10s\u001b[0m 3ms/step\n",
            "Train Accuracy: 0.6907\n",
            "Train Macro F1 Score: 0.6878\n",
            "Train Macro AUC Score: 0.8629\n",
            "Train Classification Report:\n",
            "              precision    recall  f1-score   support\n",
            "\n",
            "           0       0.68      0.75      0.71     27984\n",
            "           1       0.75      0.56      0.64     28144\n",
            "           2       0.67      0.76      0.71     27979\n",
            "\n",
            "    accuracy                           0.69     84107\n",
            "   macro avg       0.70      0.69      0.69     84107\n",
            "weighted avg       0.70      0.69      0.69     84107\n",
            "\n"
          ]
        },
        {
          "output_type": "display_data",
          "data": {
            "text/plain": [
              "<Figure size 800x600 with 2 Axes>"
            ],
            "image/png": "[encoded data removed]"
          },
          "metadata": {}
        },
        {
          "output_type": "stream",
          "name": "stdout",
          "text": [
            "Train Class 0 AUC: 0.8821\n",
            "Train Class 1 AUC: 0.8294\n",
            "Train Class 2 AUC: 0.8773\n"
          ]
        },
        {
          "output_type": "display_data",
          "data": {
            "text/plain": [
              "<Figure size 800x600 with 1 Axes>"
            ],
            "image/png": "[encoded data removed]"
          },
          "metadata": {}
        },
        {
          "output_type": "stream",
          "name": "stdout",
          "text": [
            "\u001b[1m329/329\u001b[0m \u001b[32m━━━━━━━━━━━━━━━━━━━━\u001b[0m\u001b[37m\u001b[0m \u001b[1m2s\u001b[0m 6ms/step\n",
            "Test Accuracy: 0.6705\n",
            "Test Macro F1 Score: 0.6681\n",
            "Test Macro AUC Score: 0.8429\n",
            "Test Classification Report:\n",
            "              precision    recall  f1-score   support\n",
            "\n",
            "           0       0.66      0.72      0.69      3498\n",
            "           1       0.72      0.55      0.63      3518\n",
            "           2       0.65      0.74      0.69      3498\n",
            "\n",
            "    accuracy                           0.67     10514\n",
            "   macro avg       0.68      0.67      0.67     10514\n",
            "weighted avg       0.68      0.67      0.67     10514\n",
            "\n"
          ]
        },
        {
          "output_type": "display_data",
          "data": {
            "text/plain": [
              "<Figure size 800x600 with 2 Axes>"
            ],
            "image/png": "[encoded data removed]"
          },
          "metadata": {}
        },
        {
          "output_type": "stream",
          "name": "stdout",
          "text": [
            "Test Class 0 AUC: 0.8614\n",
            "Test Class 1 AUC: 0.8092\n",
            "Test Class 2 AUC: 0.8582\n"
          ]
        },
        {
          "output_type": "display_data",
          "data": {
            "text/plain": [
              "<Figure size 800x600 with 1 Axes>"
            ],
            "image/png": "[encoded data removed]"
          },
          "metadata": {}
        }
      ]
    },
    {
      "cell_type": "code",
      "source": [],
      "metadata": {
        "id": "yKodWR_vMML1"
      },
      "id": "yKodWR_vMML1",
      "execution_count": null,
      "outputs": []
    },
    {
      "cell_type": "markdown",
      "source": [
        "# For tuning\n",
        "\n",
        "🔹 b. Number of Attention Heads\n",
        "python\n",
        "Copy\n",
        "Edit\n",
        "layers.MultiHeadAttention(num_heads=2, key_dim=embedding_dim)\n",
        "Try increasing num_heads to 4 or 8.\n",
        "\n",
        "Helps the model attend to different semantic parts.\n",
        "\n",
        "🔹 c. Feedforward Layer Size\n",
        "python\n",
        "Copy\n",
        "Edit\n",
        "ff_output = layers.Dense(128, activation='relu')(x)\n",
        "Try 256, 512, etc.\n",
        "\n",
        "🔹 d. Number of Transformer Blocks\n",
        "Currently you use 1 block.\n",
        "\n",
        "Try stacking 2–4 transformer blocks (attention → norm → dense → norm).\n",
        "\n",
        "🧠 2. Training Hyperparameters\n",
        "🔹 a. Learning Rate\n",
        "python\n",
        "Copy\n",
        "Edit\n",
        "optimizer = tf.keras.optimizers.Adam(learning_rate=1e-3)\n",
        "Try 1e-4, 3e-4, 5e-4, etc.\n",
        "\n",
        "Use learning rate schedulers like ReduceLROnPlateau.\n",
        "\n",
        "🔹 b. Batch Size\n",
        "Try 64, 128, 256.\n",
        "\n",
        "Larger = faster, smaller = better generalization.\n",
        "\n",
        "🔹 c. Number of Epochs\n",
        "Train for more epochs (10–20+), but watch for overfitting.\n",
        "\n",
        "\n",
        "\n",
        "🔹 b. Class Balance\n",
        "If class imbalance exists, try:\n",
        "\n",
        "Class weights in loss function\n",
        "\n",
        "\n",
        "\n",
        "🧱 5. Advanced Techniques\n",
        "🔹 a. Add Dropout Regularization\n",
        "You're using:\n",
        "\n",
        "python\n",
        "Copy\n",
        "Edit\n",
        "layers.Dropout(0.1)\n",
        "Try adjusting it (e.g., 0.2, 0.3).\n",
        "\n",
        "\n",
        "📈 6. Evaluation Strategy\n",
        "Use EarlyStopping with validation loss.\n",
        "\n"
      ],
      "metadata": {
        "id": "VnTbYg17OyRO"
      },
      "id": "VnTbYg17OyRO"
    },
    {
      "cell_type": "code",
      "source": [],
      "metadata": {
        "id": "D_GUvFsjPCfz"
      },
      "id": "D_GUvFsjPCfz",
      "execution_count": null,
      "outputs": []
    }
  ],
  "metadata": {
    "environment": {
      "kernel": "conda-base-py",
      "name": "workbench-notebooks.m129",
      "type": "gcloud",
      "uri": "us-docker.pkg.dev/deeplearning-platform-release/gcr.io/workbench-notebooks:m129"
    },
    "kernelspec": {
      "display_name": "Python 3 (ipykernel)",
      "language": "python",
      "name": "conda-base-py"
    },
    "language_info": {
      "codemirror_mode": {
        "name": "ipython",
        "version": 3
      },
      "file_extension": ".py",
      "mimetype": "text/x-python",
      "name": "python",
      "nbconvert_exporter": "python",
      "pygments_lexer": "ipython3",
      "version": "3.10.16"
    },
    "colab": {
      "provenance": [],
      "gpuType": "T4"
    },
    "accelerator": "GPU"
  },
  "nbformat": 4,
  "nbformat_minor": 5
}
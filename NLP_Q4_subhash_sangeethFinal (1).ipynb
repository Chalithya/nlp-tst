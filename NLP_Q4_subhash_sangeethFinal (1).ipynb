{
  "cells": [
    {
      "cell_type": "code",
      "execution_count": null,
      "id": "bd25b06d-75c0-43e8-bf5e-24f07167c3f8",
      "metadata": {
        "tags": [],
        "id": "bd25b06d-75c0-43e8-bf5e-24f07167c3f8"
      },
      "outputs": [],
      "source": [
        "import pandas as pd\n",
        "import numpy as np\n",
        "import matplotlib.pyplot as plt\n",
        "\n",
        "import seaborn as sns\n",
        "import nltk\n",
        "from tqdm import tqdm\n",
        "tqdm.pandas()\n",
        "\n",
        "from sklearn.metrics import classification_report, accuracy_score, f1_score, roc_auc_score, confusion_matrix, roc_curve, auc\n",
        "\n",
        "import re\n",
        "# import emoji\n",
        "import multiprocessing\n",
        "\n",
        "from multiprocessing import Pool\n",
        "\n",
        "from sklearn.model_selection import train_test_split\n",
        "from tensorflow.keras.preprocessing.text import Tokenizer\n",
        "from tensorflow.keras.preprocessing.sequence import pad_sequences\n",
        "import os\n",
        "import warnings\n",
        "\n",
        "\n",
        "#os.environ['TF_CPP_MIN_LOG_LEVEL'] = '3'\n",
        "warnings.filterwarnings('ignore')\n",
        "\n",
        "import tensorflow as tf\n"
      ]
    },
    {
      "cell_type": "code",
      "source": [
        "!pip install gensim"
      ],
      "metadata": {
        "colab": {
          "base_uri": "https://localhost:8080/"
        },
        "id": "OwtUTGf3EtfO",
        "outputId": "9bcff9e7-3be0-4c80-ac3d-99a5ed6ad767"
      },
      "id": "OwtUTGf3EtfO",
      "execution_count": null,
      "outputs": [
        {
          "output_type": "stream",
          "name": "stdout",
          "text": [
            "Requirement already satisfied: gensim in /usr/local/lib/python3.11/dist-packages (4.3.3)\n",
            "Requirement already satisfied: numpy<2.0,>=1.18.5 in /usr/local/lib/python3.11/dist-packages (from gensim) (1.26.4)\n",
            "Requirement already satisfied: scipy<1.14.0,>=1.7.0 in /usr/local/lib/python3.11/dist-packages (from gensim) (1.13.1)\n",
            "Requirement already satisfied: smart-open>=1.8.1 in /usr/local/lib/python3.11/dist-packages (from gensim) (7.3.0)\n",
            "Requirement already satisfied: wrapt in /usr/local/lib/python3.11/dist-packages (from smart-open>=1.8.1->gensim) (1.17.2)\n"
          ]
        }
      ]
    },
    {
      "cell_type": "code",
      "source": [
        "import numpy as np\n",
        "import pandas as pd\n",
        "import tensorflow as tf\n",
        "from tensorflow.keras.models import Model\n",
        "from tensorflow.keras.layers import (Input, Embedding, Dropout, Dense, LayerNormalization,\n",
        "                                     MultiHeadAttention, GlobalAveragePooling1D, Lambda)\n",
        "from tensorflow.keras.preprocessing.text import Tokenizer\n",
        "from tensorflow.keras.preprocessing.sequence import pad_sequences\n",
        "from sklearn.metrics import classification_report\n",
        "from gensim.models import KeyedVectors\n",
        "import gensim.downloader as api\n",
        "import matplotlib.pyplot as plt"
      ],
      "metadata": {
        "id": "u4EfXac1pHqq"
      },
      "id": "u4EfXac1pHqq",
      "execution_count": null,
      "outputs": []
    },
    {
      "cell_type": "code",
      "execution_count": null,
      "id": "61bc0b70-2e95-472f-86bf-62a6da65506d",
      "metadata": {
        "tags": [],
        "colab": {
          "base_uri": "https://localhost:8080/"
        },
        "id": "61bc0b70-2e95-472f-86bf-62a6da65506d",
        "outputId": "f1208b27-c777-439b-be72-e4eb6890b633"
      },
      "outputs": [
        {
          "output_type": "stream",
          "name": "stdout",
          "text": [
            "Requirement already satisfied: tqdm in /usr/local/lib/python3.11/dist-packages (4.67.1)\n"
          ]
        }
      ],
      "source": [
        "pip install tqdm"
      ]
    },
    {
      "cell_type": "markdown",
      "source": [
        "# Pre trained word2vec model with 300D"
      ],
      "metadata": {
        "id": "V8obQMhFARRq"
      },
      "id": "V8obQMhFARRq"
    },
    {
      "cell_type": "code",
      "source": [
        "pip install Gensim"
      ],
      "metadata": {
        "colab": {
          "base_uri": "https://localhost:8080/"
        },
        "id": "BVcUzt7If-mj",
        "outputId": "ba64a9df-85cf-470e-f3e5-62b4a8fb1a03"
      },
      "id": "BVcUzt7If-mj",
      "execution_count": null,
      "outputs": [
        {
          "output_type": "stream",
          "name": "stdout",
          "text": [
            "Requirement already satisfied: Gensim in /usr/local/lib/python3.11/dist-packages (4.3.3)\n",
            "Requirement already satisfied: numpy<2.0,>=1.18.5 in /usr/local/lib/python3.11/dist-packages (from Gensim) (1.26.4)\n",
            "Requirement already satisfied: scipy<1.14.0,>=1.7.0 in /usr/local/lib/python3.11/dist-packages (from Gensim) (1.13.1)\n",
            "Requirement already satisfied: smart-open>=1.8.1 in /usr/local/lib/python3.11/dist-packages (from Gensim) (7.3.0)\n",
            "Requirement already satisfied: wrapt in /usr/local/lib/python3.11/dist-packages (from smart-open>=1.8.1->Gensim) (1.17.2)\n"
          ]
        }
      ]
    },
    {
      "cell_type": "code",
      "source": [
        "sampled_df=pd.read_csv(\"preprocessed_data.csv\")"
      ],
      "metadata": {
        "id": "5y0oV_QBvaLk"
      },
      "id": "5y0oV_QBvaLk",
      "execution_count": null,
      "outputs": []
    },
    {
      "cell_type": "code",
      "execution_count": null,
      "id": "48232d7a-0f04-4ab4-8a8a-453a9131f638",
      "metadata": {
        "tags": [],
        "colab": {
          "base_uri": "https://localhost:8080/",
          "height": 380
        },
        "id": "48232d7a-0f04-4ab4-8a8a-453a9131f638",
        "outputId": "856317a0-bb54-4e60-8f1f-deb56e881111"
      },
      "outputs": [
        {
          "output_type": "execute_result",
          "data": {
            "text/plain": [
              "                                               Tweet Sentiment  \\\n",
              "0  Ottawa Police shoot RUBBER BULLETS into crowd ...  Positive   \n",
              "1  A former Mountie and member of Prime Minister ...  Positive   \n",
              "2  @PierrePoilievre It’s already the freest count...  Positive   \n",
              "3  @RobynUrback Ban ministers from the Very progr...  Positive   \n",
              "4  Three songs have been stuck in my head the pas...  Positive   \n",
              "\n",
              "                                       Cleaned_Tweet  \\\n",
              "0  ottawa police shoot rubber bullets into crowd ...   \n",
              "1  a former mountie and member of prime minister ...   \n",
              "2   its already the freest country stop trying to...   \n",
              "3   ban ministers from the very progressive freed...   \n",
              "4  three songs have been stuck in my head the pas...   \n",
              "\n",
              "                                 Spell_Checked_Tweet  \\\n",
              "0  ottawa police shoot rubber bullets into crowd ...   \n",
              "1  a former mountie and member of prime minister ...   \n",
              "2  its already the freest country stop trying to ...   \n",
              "3  ban ministers from the very progressive freedo...   \n",
              "4  three songs have been stuck in my head the pas...   \n",
              "\n",
              "                                       Negated_Tweet  Contains_Emoji  \n",
              "0  ottawa police shoot rubber bullets into crowd ...           False  \n",
              "1  a former mountie and member of prime minister ...           False  \n",
              "2  it s already the freest country stop trying to...           False  \n",
              "3  ban ministers from the very progressive freedo...           False  \n",
              "4  three songs have been stuck in my head the pas...           False  "
            ],
            "text/html": [
              "\n",
              "  <div id=\"df-ecfe5e64-8e9e-46e1-aed9-49cf00ffefee\" class=\"colab-df-container\">\n",
              "    <div>\n",
              "<style scoped>\n",
              "    .dataframe tbody tr th:only-of-type {\n",
              "        vertical-align: middle;\n",
              "    }\n",
              "\n",
              "    .dataframe tbody tr th {\n",
              "        vertical-align: top;\n",
              "    }\n",
              "\n",
              "    .dataframe thead th {\n",
              "        text-align: right;\n",
              "    }\n",
              "</style>\n",
              "<table border=\"1\" class=\"dataframe\">\n",
              "  <thead>\n",
              "    <tr style=\"text-align: right;\">\n",
              "      <th></th>\n",
              "      <th>Tweet</th>\n",
              "      <th>Sentiment</th>\n",
              "      <th>Cleaned_Tweet</th>\n",
              "      <th>Spell_Checked_Tweet</th>\n",
              "      <th>Negated_Tweet</th>\n",
              "      <th>Contains_Emoji</th>\n",
              "    </tr>\n",
              "  </thead>\n",
              "  <tbody>\n",
              "    <tr>\n",
              "      <th>0</th>\n",
              "      <td>Ottawa Police shoot RUBBER BULLETS into crowd ...</td>\n",
              "      <td>Positive</td>\n",
              "      <td>ottawa police shoot rubber bullets into crowd ...</td>\n",
              "      <td>ottawa police shoot rubber bullets into crowd ...</td>\n",
              "      <td>ottawa police shoot rubber bullets into crowd ...</td>\n",
              "      <td>False</td>\n",
              "    </tr>\n",
              "    <tr>\n",
              "      <th>1</th>\n",
              "      <td>A former Mountie and member of Prime Minister ...</td>\n",
              "      <td>Positive</td>\n",
              "      <td>a former mountie and member of prime minister ...</td>\n",
              "      <td>a former mountie and member of prime minister ...</td>\n",
              "      <td>a former mountie and member of prime minister ...</td>\n",
              "      <td>False</td>\n",
              "    </tr>\n",
              "    <tr>\n",
              "      <th>2</th>\n",
              "      <td>@PierrePoilievre It’s already the freest count...</td>\n",
              "      <td>Positive</td>\n",
              "      <td>its already the freest country stop trying to...</td>\n",
              "      <td>its already the freest country stop trying to ...</td>\n",
              "      <td>it s already the freest country stop trying to...</td>\n",
              "      <td>False</td>\n",
              "    </tr>\n",
              "    <tr>\n",
              "      <th>3</th>\n",
              "      <td>@RobynUrback Ban ministers from the Very progr...</td>\n",
              "      <td>Positive</td>\n",
              "      <td>ban ministers from the very progressive freed...</td>\n",
              "      <td>ban ministers from the very progressive freedo...</td>\n",
              "      <td>ban ministers from the very progressive freedo...</td>\n",
              "      <td>False</td>\n",
              "    </tr>\n",
              "    <tr>\n",
              "      <th>4</th>\n",
              "      <td>Three songs have been stuck in my head the pas...</td>\n",
              "      <td>Positive</td>\n",
              "      <td>three songs have been stuck in my head the pas...</td>\n",
              "      <td>three songs have been stuck in my head the pas...</td>\n",
              "      <td>three songs have been stuck in my head the pas...</td>\n",
              "      <td>False</td>\n",
              "    </tr>\n",
              "  </tbody>\n",
              "</table>\n",
              "</div>\n",
              "    <div class=\"colab-df-buttons\">\n",
              "\n",
              "  <div class=\"colab-df-container\">\n",
              "    <button class=\"colab-df-convert\" onclick=\"convertToInteractive('df-ecfe5e64-8e9e-46e1-aed9-49cf00ffefee')\"\n",
              "            title=\"Convert this dataframe to an interactive table.\"\n",
              "            style=\"display:none;\">\n",
              "\n",
              "  <svg xmlns=\"http://www.w3.org/2000/svg\" height=\"24px\" viewBox=\"0 -960 960 960\">\n",
              "    <path d=\"M120-120v-720h720v720H120Zm60-500h600v-160H180v160Zm220 220h160v-160H400v160Zm0 220h160v-160H400v160ZM180-400h160v-160H180v160Zm440 0h160v-160H620v160ZM180-180h160v-160H180v160Zm440 0h160v-160H620v160Z\"/>\n",
              "  </svg>\n",
              "    </button>\n",
              "\n",
              "  <style>\n",
              "    .colab-df-container {\n",
              "      display:flex;\n",
              "      gap: 12px;\n",
              "    }\n",
              "\n",
              "    .colab-df-convert {\n",
              "      background-color: #E8F0FE;\n",
              "      border: none;\n",
              "      border-radius: 50%;\n",
              "      cursor: pointer;\n",
              "      display: none;\n",
              "      fill: #1967D2;\n",
              "      height: 32px;\n",
              "      padding: 0 0 0 0;\n",
              "      width: 32px;\n",
              "    }\n",
              "\n",
              "    .colab-df-convert:hover {\n",
              "      background-color: #E2EBFA;\n",
              "      box-shadow: 0px 1px 2px rgba(60, 64, 67, 0.3), 0px 1px 3px 1px rgba(60, 64, 67, 0.15);\n",
              "      fill: #174EA6;\n",
              "    }\n",
              "\n",
              "    .colab-df-buttons div {\n",
              "      margin-bottom: 4px;\n",
              "    }\n",
              "\n",
              "    [theme=dark] .colab-df-convert {\n",
              "      background-color: #3B4455;\n",
              "      fill: #D2E3FC;\n",
              "    }\n",
              "\n",
              "    [theme=dark] .colab-df-convert:hover {\n",
              "      background-color: #434B5C;\n",
              "      box-shadow: 0px 1px 3px 1px rgba(0, 0, 0, 0.15);\n",
              "      filter: drop-shadow(0px 1px 2px rgba(0, 0, 0, 0.3));\n",
              "      fill: #FFFFFF;\n",
              "    }\n",
              "  </style>\n",
              "\n",
              "    <script>\n",
              "      const buttonEl =\n",
              "        document.querySelector('#df-ecfe5e64-8e9e-46e1-aed9-49cf00ffefee button.colab-df-convert');\n",
              "      buttonEl.style.display =\n",
              "        google.colab.kernel.accessAllowed ? 'block' : 'none';\n",
              "\n",
              "      async function convertToInteractive(key) {\n",
              "        const element = document.querySelector('#df-ecfe5e64-8e9e-46e1-aed9-49cf00ffefee');\n",
              "        const dataTable =\n",
              "          await google.colab.kernel.invokeFunction('convertToInteractive',\n",
              "                                                    [key], {});\n",
              "        if (!dataTable) return;\n",
              "\n",
              "        const docLinkHtml = 'Like what you see? Visit the ' +\n",
              "          '<a target=\"_blank\" href=https://colab.research.google.com/notebooks/data_table.ipynb>data table notebook</a>'\n",
              "          + ' to learn more about interactive tables.';\n",
              "        element.innerHTML = '';\n",
              "        dataTable['output_type'] = 'display_data';\n",
              "        await google.colab.output.renderOutput(dataTable, element);\n",
              "        const docLink = document.createElement('div');\n",
              "        docLink.innerHTML = docLinkHtml;\n",
              "        element.appendChild(docLink);\n",
              "      }\n",
              "    </script>\n",
              "  </div>\n",
              "\n",
              "\n",
              "    <div id=\"df-8bd41627-51e6-459c-9ed2-d6eba026b788\">\n",
              "      <button class=\"colab-df-quickchart\" onclick=\"quickchart('df-8bd41627-51e6-459c-9ed2-d6eba026b788')\"\n",
              "                title=\"Suggest charts\"\n",
              "                style=\"display:none;\">\n",
              "\n",
              "<svg xmlns=\"http://www.w3.org/2000/svg\" height=\"24px\"viewBox=\"0 0 24 24\"\n",
              "     width=\"24px\">\n",
              "    <g>\n",
              "        <path d=\"M19 3H5c-1.1 0-2 .9-2 2v14c0 1.1.9 2 2 2h14c1.1 0 2-.9 2-2V5c0-1.1-.9-2-2-2zM9 17H7v-7h2v7zm4 0h-2V7h2v10zm4 0h-2v-4h2v4z\"/>\n",
              "    </g>\n",
              "</svg>\n",
              "      </button>\n",
              "\n",
              "<style>\n",
              "  .colab-df-quickchart {\n",
              "      --bg-color: #E8F0FE;\n",
              "      --fill-color: #1967D2;\n",
              "      --hover-bg-color: #E2EBFA;\n",
              "      --hover-fill-color: #174EA6;\n",
              "      --disabled-fill-color: #AAA;\n",
              "      --disabled-bg-color: #DDD;\n",
              "  }\n",
              "\n",
              "  [theme=dark] .colab-df-quickchart {\n",
              "      --bg-color: #3B4455;\n",
              "      --fill-color: #D2E3FC;\n",
              "      --hover-bg-color: #434B5C;\n",
              "      --hover-fill-color: #FFFFFF;\n",
              "      --disabled-bg-color: #3B4455;\n",
              "      --disabled-fill-color: #666;\n",
              "  }\n",
              "\n",
              "  .colab-df-quickchart {\n",
              "    background-color: var(--bg-color);\n",
              "    border: none;\n",
              "    border-radius: 50%;\n",
              "    cursor: pointer;\n",
              "    display: none;\n",
              "    fill: var(--fill-color);\n",
              "    height: 32px;\n",
              "    padding: 0;\n",
              "    width: 32px;\n",
              "  }\n",
              "\n",
              "  .colab-df-quickchart:hover {\n",
              "    background-color: var(--hover-bg-color);\n",
              "    box-shadow: 0 1px 2px rgba(60, 64, 67, 0.3), 0 1px 3px 1px rgba(60, 64, 67, 0.15);\n",
              "    fill: var(--button-hover-fill-color);\n",
              "  }\n",
              "\n",
              "  .colab-df-quickchart-complete:disabled,\n",
              "  .colab-df-quickchart-complete:disabled:hover {\n",
              "    background-color: var(--disabled-bg-color);\n",
              "    fill: var(--disabled-fill-color);\n",
              "    box-shadow: none;\n",
              "  }\n",
              "\n",
              "  .colab-df-spinner {\n",
              "    border: 2px solid var(--fill-color);\n",
              "    border-color: transparent;\n",
              "    border-bottom-color: var(--fill-color);\n",
              "    animation:\n",
              "      spin 1s steps(1) infinite;\n",
              "  }\n",
              "\n",
              "  @keyframes spin {\n",
              "    0% {\n",
              "      border-color: transparent;\n",
              "      border-bottom-color: var(--fill-color);\n",
              "      border-left-color: var(--fill-color);\n",
              "    }\n",
              "    20% {\n",
              "      border-color: transparent;\n",
              "      border-left-color: var(--fill-color);\n",
              "      border-top-color: var(--fill-color);\n",
              "    }\n",
              "    30% {\n",
              "      border-color: transparent;\n",
              "      border-left-color: var(--fill-color);\n",
              "      border-top-color: var(--fill-color);\n",
              "      border-right-color: var(--fill-color);\n",
              "    }\n",
              "    40% {\n",
              "      border-color: transparent;\n",
              "      border-right-color: var(--fill-color);\n",
              "      border-top-color: var(--fill-color);\n",
              "    }\n",
              "    60% {\n",
              "      border-color: transparent;\n",
              "      border-right-color: var(--fill-color);\n",
              "    }\n",
              "    80% {\n",
              "      border-color: transparent;\n",
              "      border-right-color: var(--fill-color);\n",
              "      border-bottom-color: var(--fill-color);\n",
              "    }\n",
              "    90% {\n",
              "      border-color: transparent;\n",
              "      border-bottom-color: var(--fill-color);\n",
              "    }\n",
              "  }\n",
              "</style>\n",
              "\n",
              "      <script>\n",
              "        async function quickchart(key) {\n",
              "          const quickchartButtonEl =\n",
              "            document.querySelector('#' + key + ' button');\n",
              "          quickchartButtonEl.disabled = true;  // To prevent multiple clicks.\n",
              "          quickchartButtonEl.classList.add('colab-df-spinner');\n",
              "          try {\n",
              "            const charts = await google.colab.kernel.invokeFunction(\n",
              "                'suggestCharts', [key], {});\n",
              "          } catch (error) {\n",
              "            console.error('Error during call to suggestCharts:', error);\n",
              "          }\n",
              "          quickchartButtonEl.classList.remove('colab-df-spinner');\n",
              "          quickchartButtonEl.classList.add('colab-df-quickchart-complete');\n",
              "        }\n",
              "        (() => {\n",
              "          let quickchartButtonEl =\n",
              "            document.querySelector('#df-8bd41627-51e6-459c-9ed2-d6eba026b788 button');\n",
              "          quickchartButtonEl.style.display =\n",
              "            google.colab.kernel.accessAllowed ? 'block' : 'none';\n",
              "        })();\n",
              "      </script>\n",
              "    </div>\n",
              "\n",
              "    </div>\n",
              "  </div>\n"
            ],
            "application/vnd.google.colaboratory.intrinsic+json": {
              "type": "dataframe",
              "variable_name": "sampled_df"
            }
          },
          "metadata": {},
          "execution_count": 7
        }
      ],
      "source": [
        "sampled_df.head()"
      ]
    },
    {
      "cell_type": "code",
      "source": [
        "sampled_df.isnull().sum()"
      ],
      "metadata": {
        "colab": {
          "base_uri": "https://localhost:8080/",
          "height": 272
        },
        "id": "OzAx8c7EyuP0",
        "outputId": "373c4098-89e3-42a1-ccae-18d647dafca7"
      },
      "id": "OzAx8c7EyuP0",
      "execution_count": null,
      "outputs": [
        {
          "output_type": "execute_result",
          "data": {
            "text/plain": [
              "Tweet                  0\n",
              "Sentiment              0\n",
              "Cleaned_Tweet          2\n",
              "Spell_Checked_Tweet    0\n",
              "Negated_Tweet          0\n",
              "Contains_Emoji         0\n",
              "dtype: int64"
            ],
            "text/html": [
              "<div>\n",
              "<style scoped>\n",
              "    .dataframe tbody tr th:only-of-type {\n",
              "        vertical-align: middle;\n",
              "    }\n",
              "\n",
              "    .dataframe tbody tr th {\n",
              "        vertical-align: top;\n",
              "    }\n",
              "\n",
              "    .dataframe thead th {\n",
              "        text-align: right;\n",
              "    }\n",
              "</style>\n",
              "<table border=\"1\" class=\"dataframe\">\n",
              "  <thead>\n",
              "    <tr style=\"text-align: right;\">\n",
              "      <th></th>\n",
              "      <th>0</th>\n",
              "    </tr>\n",
              "  </thead>\n",
              "  <tbody>\n",
              "    <tr>\n",
              "      <th>Tweet</th>\n",
              "      <td>0</td>\n",
              "    </tr>\n",
              "    <tr>\n",
              "      <th>Sentiment</th>\n",
              "      <td>0</td>\n",
              "    </tr>\n",
              "    <tr>\n",
              "      <th>Cleaned_Tweet</th>\n",
              "      <td>2</td>\n",
              "    </tr>\n",
              "    <tr>\n",
              "      <th>Spell_Checked_Tweet</th>\n",
              "      <td>0</td>\n",
              "    </tr>\n",
              "    <tr>\n",
              "      <th>Negated_Tweet</th>\n",
              "      <td>0</td>\n",
              "    </tr>\n",
              "    <tr>\n",
              "      <th>Contains_Emoji</th>\n",
              "      <td>0</td>\n",
              "    </tr>\n",
              "  </tbody>\n",
              "</table>\n",
              "</div><br><label><b>dtype:</b> int64</label>"
            ]
          },
          "metadata": {},
          "execution_count": 8
        }
      ]
    },
    {
      "cell_type": "code",
      "source": [
        "# sampled_df.to_csv(\"preprocessed_data.csv\", index=False, encoding='utf-8')"
      ],
      "metadata": {
        "id": "pCaXCFwyvIm7"
      },
      "id": "pCaXCFwyvIm7",
      "execution_count": null,
      "outputs": []
    },
    {
      "cell_type": "markdown",
      "id": "32fc6588-ab83-4f0c-b96b-0f185198c6da",
      "metadata": {
        "id": "32fc6588-ab83-4f0c-b96b-0f185198c6da"
      },
      "source": [
        "# Data splitting"
      ]
    },
    {
      "cell_type": "code",
      "execution_count": null,
      "id": "1db8fcdc-8762-4431-95dd-f30675ca54b3",
      "metadata": {
        "colab": {
          "base_uri": "https://localhost:8080/"
        },
        "id": "1db8fcdc-8762-4431-95dd-f30675ca54b3",
        "outputId": "c0bf658d-b005-41fb-9139-b2fe4f550936"
      },
      "outputs": [
        {
          "output_type": "stream",
          "name": "stdout",
          "text": [
            "Train: 84107 rows\n",
            "Validation: 10513 rows\n",
            "Test: 10514 rows\n"
          ]
        }
      ],
      "source": [
        "from sklearn.model_selection import train_test_split\n",
        "\n",
        "# split into train (80%) and temp (20%)\n",
        "train_df, temp_df = train_test_split(\n",
        "    sampled_df,\n",
        "    test_size=0.2,\n",
        "    stratify=sampled_df[\"Sentiment\"],\n",
        "    random_state=42\n",
        ")\n",
        "\n",
        "# Split temp into validation and test\n",
        "val_df, test_df = train_test_split(\n",
        "    temp_df,\n",
        "    test_size=0.5,\n",
        "    stratify=temp_df[\"Sentiment\"],\n",
        "    random_state=42\n",
        ")\n",
        "\n",
        "\n",
        "print(f\"Train: {len(train_df)} rows\")\n",
        "print(f\"Validation: {len(val_df)} rows\")\n",
        "print(f\"Test: {len(test_df)} rows\")\n"
      ]
    },
    {
      "cell_type": "code",
      "execution_count": null,
      "id": "ff1bc302-0ed5-45a9-b603-916ac7862303",
      "metadata": {
        "tags": [],
        "id": "ff1bc302-0ed5-45a9-b603-916ac7862303"
      },
      "outputs": [],
      "source": [
        "train_df = train_df.reset_index(drop=True)\n",
        "val_df = val_df.reset_index(drop=True)\n",
        "test_df = test_df.reset_index(drop=True)\n"
      ]
    },
    {
      "cell_type": "markdown",
      "id": "794268ee-4696-4914-a2b4-7c040037bc85",
      "metadata": {
        "id": "794268ee-4696-4914-a2b4-7c040037bc85"
      },
      "source": [
        "# Label encoding Sentiment column"
      ]
    },
    {
      "cell_type": "code",
      "execution_count": null,
      "id": "376cb18a-a047-4402-bb97-8560e6de4ab1",
      "metadata": {
        "tags": [],
        "id": "376cb18a-a047-4402-bb97-8560e6de4ab1"
      },
      "outputs": [],
      "source": [
        "\n",
        "from sklearn.preprocessing import LabelEncoder\n",
        "\n",
        "label_encoder = LabelEncoder()\n",
        "\n",
        "# Fit the encoder on the training data and transform the 'Sentiment' column\n",
        "train_df['Sentiment'] = label_encoder.fit_transform(train_df['Sentiment'])\n",
        "\n",
        "# Apply the same transformation to the validation and test sets\n",
        "val_df['Sentiment'] = label_encoder.transform(val_df['Sentiment'])\n",
        "test_df['Sentiment'] = label_encoder.transform(test_df['Sentiment'])\n"
      ]
    },
    {
      "cell_type": "code",
      "execution_count": null,
      "id": "ae8f31e6-3fb9-45b8-9670-a082f965d146",
      "metadata": {
        "tags": [],
        "colab": {
          "base_uri": "https://localhost:8080/"
        },
        "id": "ae8f31e6-3fb9-45b8-9670-a082f965d146",
        "outputId": "6f0d5d41-7eaf-4f3f-b090-752276c90413"
      },
      "outputs": [
        {
          "output_type": "stream",
          "name": "stdout",
          "text": [
            "Label Encoding Mapping:\n",
            "Negative: 0\n",
            "Neutral: 1\n",
            "Positive: 2\n"
          ]
        }
      ],
      "source": [
        "# label encoding for Positive, Negative, and Neutral\n",
        "print(\"Label Encoding Mapping:\")\n",
        "for label, encoding in zip(label_encoder.classes_, range(len(label_encoder.classes_))):\n",
        "    print(f\"{label}: {encoding}\")\n"
      ]
    },
    {
      "cell_type": "code",
      "execution_count": null,
      "id": "a3e306f1-5644-4487-ace6-326dc3b7b21c",
      "metadata": {
        "tags": [],
        "colab": {
          "base_uri": "https://localhost:8080/",
          "height": 380
        },
        "id": "a3e306f1-5644-4487-ace6-326dc3b7b21c",
        "outputId": "9c8b7af9-b1d3-4488-edda-df92c5e99292"
      },
      "outputs": [
        {
          "output_type": "execute_result",
          "data": {
            "text/plain": [
              "                                               Tweet  Sentiment  \\\n",
              "0  @CTVNews The pigs and the so-called \"freedom\" ...          0   \n",
              "1  Banana Republics all over the world are callin...          1   \n",
              "2  @FringedCanuck Just because she likes the PPC?...          2   \n",
              "3  Grande #Djokovic 👏👏👏\\n\\n#TrudeauTyranny \\n\\n#F...          1   \n",
              "4  @DianaGlobalNews The simple truth is that if y...          1   \n",
              "\n",
              "                                       Cleaned_Tweet  \\\n",
              "0   the pigs and the socalled freedom convoy have...   \n",
              "1  banana republics all over the world are callin...   \n",
              "2   just because she likes the ppc quit dividing ...   \n",
              "3                                    grande            \n",
              "4   the simple truth is that if you support the c...   \n",
              "\n",
              "                                 Spell_Checked_Tweet  \\\n",
              "0  the pigs and the socalled freedom convoy have ...   \n",
              "1  banana republics all over the world are callin...   \n",
              "2  just because she likes the ppc quit dividing c...   \n",
              "3                                             grand    \n",
              "4  the simple truth is that if you support the co...   \n",
              "\n",
              "                                       Negated_Tweet  Contains_Emoji  \n",
              "0  the pigs and the so  called freedom convoy hav...           False  \n",
              "1  banana republics all over the world are callin...           False  \n",
              "2  just because she likes the ppc    quit dividin...           False  \n",
              "3                                           grand              False  \n",
              "4  the simple truth is that if you support the co...           False  "
            ],
            "text/html": [
              "\n",
              "  <div id=\"df-e021452b-f8bc-4bcd-a12e-62e6aeeb8dbe\" class=\"colab-df-container\">\n",
              "    <div>\n",
              "<style scoped>\n",
              "    .dataframe tbody tr th:only-of-type {\n",
              "        vertical-align: middle;\n",
              "    }\n",
              "\n",
              "    .dataframe tbody tr th {\n",
              "        vertical-align: top;\n",
              "    }\n",
              "\n",
              "    .dataframe thead th {\n",
              "        text-align: right;\n",
              "    }\n",
              "</style>\n",
              "<table border=\"1\" class=\"dataframe\">\n",
              "  <thead>\n",
              "    <tr style=\"text-align: right;\">\n",
              "      <th></th>\n",
              "      <th>Tweet</th>\n",
              "      <th>Sentiment</th>\n",
              "      <th>Cleaned_Tweet</th>\n",
              "      <th>Spell_Checked_Tweet</th>\n",
              "      <th>Negated_Tweet</th>\n",
              "      <th>Contains_Emoji</th>\n",
              "    </tr>\n",
              "  </thead>\n",
              "  <tbody>\n",
              "    <tr>\n",
              "      <th>0</th>\n",
              "      <td>@CTVNews The pigs and the so-called \"freedom\" ...</td>\n",
              "      <td>0</td>\n",
              "      <td>the pigs and the socalled freedom convoy have...</td>\n",
              "      <td>the pigs and the socalled freedom convoy have ...</td>\n",
              "      <td>the pigs and the so  called freedom convoy hav...</td>\n",
              "      <td>False</td>\n",
              "    </tr>\n",
              "    <tr>\n",
              "      <th>1</th>\n",
              "      <td>Banana Republics all over the world are callin...</td>\n",
              "      <td>1</td>\n",
              "      <td>banana republics all over the world are callin...</td>\n",
              "      <td>banana republics all over the world are callin...</td>\n",
              "      <td>banana republics all over the world are callin...</td>\n",
              "      <td>False</td>\n",
              "    </tr>\n",
              "    <tr>\n",
              "      <th>2</th>\n",
              "      <td>@FringedCanuck Just because she likes the PPC?...</td>\n",
              "      <td>2</td>\n",
              "      <td>just because she likes the ppc quit dividing ...</td>\n",
              "      <td>just because she likes the ppc quit dividing c...</td>\n",
              "      <td>just because she likes the ppc    quit dividin...</td>\n",
              "      <td>False</td>\n",
              "    </tr>\n",
              "    <tr>\n",
              "      <th>3</th>\n",
              "      <td>Grande #Djokovic 👏👏👏\\n\\n#TrudeauTyranny \\n\\n#F...</td>\n",
              "      <td>1</td>\n",
              "      <td>grande</td>\n",
              "      <td>grand</td>\n",
              "      <td>grand</td>\n",
              "      <td>False</td>\n",
              "    </tr>\n",
              "    <tr>\n",
              "      <th>4</th>\n",
              "      <td>@DianaGlobalNews The simple truth is that if y...</td>\n",
              "      <td>1</td>\n",
              "      <td>the simple truth is that if you support the c...</td>\n",
              "      <td>the simple truth is that if you support the co...</td>\n",
              "      <td>the simple truth is that if you support the co...</td>\n",
              "      <td>False</td>\n",
              "    </tr>\n",
              "  </tbody>\n",
              "</table>\n",
              "</div>\n",
              "    <div class=\"colab-df-buttons\">\n",
              "\n",
              "  <div class=\"colab-df-container\">\n",
              "    <button class=\"colab-df-convert\" onclick=\"convertToInteractive('df-e021452b-f8bc-4bcd-a12e-62e6aeeb8dbe')\"\n",
              "            title=\"Convert this dataframe to an interactive table.\"\n",
              "            style=\"display:none;\">\n",
              "\n",
              "  <svg xmlns=\"http://www.w3.org/2000/svg\" height=\"24px\" viewBox=\"0 -960 960 960\">\n",
              "    <path d=\"M120-120v-720h720v720H120Zm60-500h600v-160H180v160Zm220 220h160v-160H400v160Zm0 220h160v-160H400v160ZM180-400h160v-160H180v160Zm440 0h160v-160H620v160ZM180-180h160v-160H180v160Zm440 0h160v-160H620v160Z\"/>\n",
              "  </svg>\n",
              "    </button>\n",
              "\n",
              "  <style>\n",
              "    .colab-df-container {\n",
              "      display:flex;\n",
              "      gap: 12px;\n",
              "    }\n",
              "\n",
              "    .colab-df-convert {\n",
              "      background-color: #E8F0FE;\n",
              "      border: none;\n",
              "      border-radius: 50%;\n",
              "      cursor: pointer;\n",
              "      display: none;\n",
              "      fill: #1967D2;\n",
              "      height: 32px;\n",
              "      padding: 0 0 0 0;\n",
              "      width: 32px;\n",
              "    }\n",
              "\n",
              "    .colab-df-convert:hover {\n",
              "      background-color: #E2EBFA;\n",
              "      box-shadow: 0px 1px 2px rgba(60, 64, 67, 0.3), 0px 1px 3px 1px rgba(60, 64, 67, 0.15);\n",
              "      fill: #174EA6;\n",
              "    }\n",
              "\n",
              "    .colab-df-buttons div {\n",
              "      margin-bottom: 4px;\n",
              "    }\n",
              "\n",
              "    [theme=dark] .colab-df-convert {\n",
              "      background-color: #3B4455;\n",
              "      fill: #D2E3FC;\n",
              "    }\n",
              "\n",
              "    [theme=dark] .colab-df-convert:hover {\n",
              "      background-color: #434B5C;\n",
              "      box-shadow: 0px 1px 3px 1px rgba(0, 0, 0, 0.15);\n",
              "      filter: drop-shadow(0px 1px 2px rgba(0, 0, 0, 0.3));\n",
              "      fill: #FFFFFF;\n",
              "    }\n",
              "  </style>\n",
              "\n",
              "    <script>\n",
              "      const buttonEl =\n",
              "        document.querySelector('#df-e021452b-f8bc-4bcd-a12e-62e6aeeb8dbe button.colab-df-convert');\n",
              "      buttonEl.style.display =\n",
              "        google.colab.kernel.accessAllowed ? 'block' : 'none';\n",
              "\n",
              "      async function convertToInteractive(key) {\n",
              "        const element = document.querySelector('#df-e021452b-f8bc-4bcd-a12e-62e6aeeb8dbe');\n",
              "        const dataTable =\n",
              "          await google.colab.kernel.invokeFunction('convertToInteractive',\n",
              "                                                    [key], {});\n",
              "        if (!dataTable) return;\n",
              "\n",
              "        const docLinkHtml = 'Like what you see? Visit the ' +\n",
              "          '<a target=\"_blank\" href=https://colab.research.google.com/notebooks/data_table.ipynb>data table notebook</a>'\n",
              "          + ' to learn more about interactive tables.';\n",
              "        element.innerHTML = '';\n",
              "        dataTable['output_type'] = 'display_data';\n",
              "        await google.colab.output.renderOutput(dataTable, element);\n",
              "        const docLink = document.createElement('div');\n",
              "        docLink.innerHTML = docLinkHtml;\n",
              "        element.appendChild(docLink);\n",
              "      }\n",
              "    </script>\n",
              "  </div>\n",
              "\n",
              "\n",
              "    <div id=\"df-3401f3cb-5737-4bb9-9d61-8103a3442960\">\n",
              "      <button class=\"colab-df-quickchart\" onclick=\"quickchart('df-3401f3cb-5737-4bb9-9d61-8103a3442960')\"\n",
              "                title=\"Suggest charts\"\n",
              "                style=\"display:none;\">\n",
              "\n",
              "<svg xmlns=\"http://www.w3.org/2000/svg\" height=\"24px\"viewBox=\"0 0 24 24\"\n",
              "     width=\"24px\">\n",
              "    <g>\n",
              "        <path d=\"M19 3H5c-1.1 0-2 .9-2 2v14c0 1.1.9 2 2 2h14c1.1 0 2-.9 2-2V5c0-1.1-.9-2-2-2zM9 17H7v-7h2v7zm4 0h-2V7h2v10zm4 0h-2v-4h2v4z\"/>\n",
              "    </g>\n",
              "</svg>\n",
              "      </button>\n",
              "\n",
              "<style>\n",
              "  .colab-df-quickchart {\n",
              "      --bg-color: #E8F0FE;\n",
              "      --fill-color: #1967D2;\n",
              "      --hover-bg-color: #E2EBFA;\n",
              "      --hover-fill-color: #174EA6;\n",
              "      --disabled-fill-color: #AAA;\n",
              "      --disabled-bg-color: #DDD;\n",
              "  }\n",
              "\n",
              "  [theme=dark] .colab-df-quickchart {\n",
              "      --bg-color: #3B4455;\n",
              "      --fill-color: #D2E3FC;\n",
              "      --hover-bg-color: #434B5C;\n",
              "      --hover-fill-color: #FFFFFF;\n",
              "      --disabled-bg-color: #3B4455;\n",
              "      --disabled-fill-color: #666;\n",
              "  }\n",
              "\n",
              "  .colab-df-quickchart {\n",
              "    background-color: var(--bg-color);\n",
              "    border: none;\n",
              "    border-radius: 50%;\n",
              "    cursor: pointer;\n",
              "    display: none;\n",
              "    fill: var(--fill-color);\n",
              "    height: 32px;\n",
              "    padding: 0;\n",
              "    width: 32px;\n",
              "  }\n",
              "\n",
              "  .colab-df-quickchart:hover {\n",
              "    background-color: var(--hover-bg-color);\n",
              "    box-shadow: 0 1px 2px rgba(60, 64, 67, 0.3), 0 1px 3px 1px rgba(60, 64, 67, 0.15);\n",
              "    fill: var(--button-hover-fill-color);\n",
              "  }\n",
              "\n",
              "  .colab-df-quickchart-complete:disabled,\n",
              "  .colab-df-quickchart-complete:disabled:hover {\n",
              "    background-color: var(--disabled-bg-color);\n",
              "    fill: var(--disabled-fill-color);\n",
              "    box-shadow: none;\n",
              "  }\n",
              "\n",
              "  .colab-df-spinner {\n",
              "    border: 2px solid var(--fill-color);\n",
              "    border-color: transparent;\n",
              "    border-bottom-color: var(--fill-color);\n",
              "    animation:\n",
              "      spin 1s steps(1) infinite;\n",
              "  }\n",
              "\n",
              "  @keyframes spin {\n",
              "    0% {\n",
              "      border-color: transparent;\n",
              "      border-bottom-color: var(--fill-color);\n",
              "      border-left-color: var(--fill-color);\n",
              "    }\n",
              "    20% {\n",
              "      border-color: transparent;\n",
              "      border-left-color: var(--fill-color);\n",
              "      border-top-color: var(--fill-color);\n",
              "    }\n",
              "    30% {\n",
              "      border-color: transparent;\n",
              "      border-left-color: var(--fill-color);\n",
              "      border-top-color: var(--fill-color);\n",
              "      border-right-color: var(--fill-color);\n",
              "    }\n",
              "    40% {\n",
              "      border-color: transparent;\n",
              "      border-right-color: var(--fill-color);\n",
              "      border-top-color: var(--fill-color);\n",
              "    }\n",
              "    60% {\n",
              "      border-color: transparent;\n",
              "      border-right-color: var(--fill-color);\n",
              "    }\n",
              "    80% {\n",
              "      border-color: transparent;\n",
              "      border-right-color: var(--fill-color);\n",
              "      border-bottom-color: var(--fill-color);\n",
              "    }\n",
              "    90% {\n",
              "      border-color: transparent;\n",
              "      border-bottom-color: var(--fill-color);\n",
              "    }\n",
              "  }\n",
              "</style>\n",
              "\n",
              "      <script>\n",
              "        async function quickchart(key) {\n",
              "          const quickchartButtonEl =\n",
              "            document.querySelector('#' + key + ' button');\n",
              "          quickchartButtonEl.disabled = true;  // To prevent multiple clicks.\n",
              "          quickchartButtonEl.classList.add('colab-df-spinner');\n",
              "          try {\n",
              "            const charts = await google.colab.kernel.invokeFunction(\n",
              "                'suggestCharts', [key], {});\n",
              "          } catch (error) {\n",
              "            console.error('Error during call to suggestCharts:', error);\n",
              "          }\n",
              "          quickchartButtonEl.classList.remove('colab-df-spinner');\n",
              "          quickchartButtonEl.classList.add('colab-df-quickchart-complete');\n",
              "        }\n",
              "        (() => {\n",
              "          let quickchartButtonEl =\n",
              "            document.querySelector('#df-3401f3cb-5737-4bb9-9d61-8103a3442960 button');\n",
              "          quickchartButtonEl.style.display =\n",
              "            google.colab.kernel.accessAllowed ? 'block' : 'none';\n",
              "        })();\n",
              "      </script>\n",
              "    </div>\n",
              "\n",
              "    </div>\n",
              "  </div>\n"
            ],
            "application/vnd.google.colaboratory.intrinsic+json": {
              "type": "dataframe",
              "variable_name": "test_df",
              "summary": "{\n  \"name\": \"test_df\",\n  \"rows\": 10514,\n  \"fields\": [\n    {\n      \"column\": \"Tweet\",\n      \"properties\": {\n        \"dtype\": \"string\",\n        \"num_unique_values\": 10514,\n        \"samples\": [\n          \"The Canadian Freedom Convoy fights for their freedom and fights the government tyranny to stop the mandates. The liberal government needs to stop pretending that mask is working and they knew it's not.\\n\\n#StopTheMandates #hypocrisy #FreedomConvoy2022 \\nhttps://t.co/6XlDneeBj5\",\n          \"@firetheucp The convoy of anti democratic anarchists has nothing to do with freedom\\u2026&amp;  democracy.\\nSame with Pierre Poili\\u00e8vre.\",\n          \"@JacqueDanios @AngelaBelcamino Or the right. Anti Vaxx Anti Covid Policies. No jab. Freedom Convoy. My body my rights. Except if you're a woman. Or BIPOC.\"\n        ],\n        \"semantic_type\": \"\",\n        \"description\": \"\"\n      }\n    },\n    {\n      \"column\": \"Sentiment\",\n      \"properties\": {\n        \"dtype\": \"number\",\n        \"std\": 0,\n        \"min\": 0,\n        \"max\": 2,\n        \"num_unique_values\": 3,\n        \"samples\": [\n          0,\n          1,\n          2\n        ],\n        \"semantic_type\": \"\",\n        \"description\": \"\"\n      }\n    },\n    {\n      \"column\": \"Cleaned_Tweet\",\n      \"properties\": {\n        \"dtype\": \"string\",\n        \"num_unique_values\": 10233,\n        \"samples\": [\n          \"this this is what the freedom convoy was about the utter loss of critical thinking a trucker could drive west to east but not north and south without a shot so easily we slipped into madness passports and division critical thinkers drove to ottawa\",\n          \"convoy protest organizers tamara lich chris barber arrested in ottawa  cbc news  charged for what protesting for freedom trudeau is evil and needs to go\",\n          \"this is what the  freedom convoy  attempted to do when an ideologies actions are an exact replica of what fascists did in the past that ideology is fascist \"\n        ],\n        \"semantic_type\": \"\",\n        \"description\": \"\"\n      }\n    },\n    {\n      \"column\": \"Spell_Checked_Tweet\",\n      \"properties\": {\n        \"dtype\": \"string\",\n        \"num_unique_values\": 10162,\n        \"samples\": [\n          \"freedomconvoy 2022\",\n          \"freedom convoy i will be donating here for this campaign and any in the future\",\n          \"this lawyer was useless a shame most of the lawyers for the freedom convoy parties are inept and actually hurt the cause by their abject incompetence\"\n        ],\n        \"semantic_type\": \"\",\n        \"description\": \"\"\n      }\n    },\n    {\n      \"column\": \"Negated_Tweet\",\n      \"properties\": {\n        \"dtype\": \"string\",\n        \"num_unique_values\": 10192,\n        \"samples\": [\n          \"the freedom convoy  had police on horses who trampled canadians\",\n          \"canadian authorities threaten to seize  relinquished  pets of arrested freedom convoy truckers\",\n          \"i m sorry but you ll never NOTconvince me the convoy was going to end any other way except using force\"\n        ],\n        \"semantic_type\": \"\",\n        \"description\": \"\"\n      }\n    },\n    {\n      \"column\": \"Contains_Emoji\",\n      \"properties\": {\n        \"dtype\": \"boolean\",\n        \"num_unique_values\": 1,\n        \"samples\": [\n          false\n        ],\n        \"semantic_type\": \"\",\n        \"description\": \"\"\n      }\n    }\n  ]\n}"
            }
          },
          "metadata": {},
          "execution_count": 14
        }
      ],
      "source": [
        "test_df.head()"
      ]
    },
    {
      "cell_type": "markdown",
      "id": "73a30355-232c-4a53-9e6c-3a423773ded9",
      "metadata": {
        "id": "73a30355-232c-4a53-9e6c-3a423773ded9"
      },
      "source": [
        "# Tokenization and Padding"
      ]
    },
    {
      "cell_type": "code",
      "execution_count": null,
      "id": "95d5cc77-6e05-46ee-88ec-0f416fbe5169",
      "metadata": {
        "tags": [],
        "id": "95d5cc77-6e05-46ee-88ec-0f416fbe5169"
      },
      "outputs": [],
      "source": [
        "from tensorflow.keras.preprocessing.text import Tokenizer\n",
        "\n",
        "\n",
        "vocab_size = 10000\n",
        "\n",
        "# tokenizer\n",
        "tokenizer = Tokenizer(num_words=vocab_size, oov_token=\"<OOV>\")\n",
        "\n",
        "# fitting on train data\n",
        "tokenizer.fit_on_texts(train_df[\"Spell_Checked_Tweet\"])\n",
        "\n",
        "\n",
        "\n"
      ]
    },
    {
      "cell_type": "code",
      "execution_count": null,
      "id": "b1967fbc-1b0a-4514-ac4c-d1455061e00b",
      "metadata": {
        "tags": [],
        "colab": {
          "base_uri": "https://localhost:8080/"
        },
        "id": "b1967fbc-1b0a-4514-ac4c-d1455061e00b",
        "outputId": "4902d62f-64cd-4b86-e20f-8ade009f3b25"
      },
      "outputs": [
        {
          "output_type": "stream",
          "name": "stdout",
          "text": [
            "Train sequences shape: (84107, 100)\n",
            "Validation sequences shape: (10513, 100)\n",
            "Test sequences shape: (10514, 100)\n"
          ]
        }
      ],
      "source": [
        "# max length of sequences in the training dataset\n",
        "# maxlen = max([len(tweet.split()) for tweet in train_df[\"Negated_Tweet\"]])\n",
        "maxlen=100\n",
        "\n",
        "# Converting texts to sequences\n",
        "train_sequences = tokenizer.texts_to_sequences(train_df[\"Spell_Checked_Tweet\"])\n",
        "val_sequences = tokenizer.texts_to_sequences(val_df[\"Spell_Checked_Tweet\"])\n",
        "test_sequences = tokenizer.texts_to_sequences(test_df[\"Spell_Checked_Tweet\"])\n",
        "\n",
        "# Padding the sequences to the same length (maxlen)\n",
        "train_sequences_padded = pad_sequences(train_sequences, maxlen=maxlen, padding='post', truncating='post')\n",
        "val_sequences_padded = pad_sequences(val_sequences, maxlen=maxlen, padding='post', truncating='post')\n",
        "test_sequences_padded = pad_sequences(test_sequences, maxlen=maxlen, padding='post', truncating='post')\n",
        "\n",
        "print(f\"Train sequences shape: {train_sequences_padded.shape}\")\n",
        "print(f\"Validation sequences shape: {val_sequences_padded.shape}\")\n",
        "print(f\"Test sequences shape: {test_sequences_padded.shape}\")\n"
      ]
    },
    {
      "cell_type": "markdown",
      "id": "b3a3d4df-bfbb-4726-a457-f6027188d88a",
      "metadata": {
        "id": "b3a3d4df-bfbb-4726-a457-f6027188d88a"
      },
      "source": [
        "# Pretrained Google news Word2Vec with 300 dimensions"
      ]
    },
    {
      "cell_type": "code",
      "execution_count": null,
      "id": "a48cd0a4-a68d-49dc-9eb7-311619070ace",
      "metadata": {
        "tags": [],
        "id": "a48cd0a4-a68d-49dc-9eb7-311619070ace",
        "colab": {
          "base_uri": "https://localhost:8080/"
        },
        "outputId": "fc2b97a2-e581-41d4-e9c2-c2f0c64228f4"
      },
      "outputs": [
        {
          "output_type": "stream",
          "name": "stdout",
          "text": [
            "[==================================================] 100.0% 1662.8/1662.8MB downloaded\n"
          ]
        }
      ],
      "source": [
        "import gensim.downloader as api\n",
        "\n",
        "# Load pretrained Word2Vec model\n",
        "w2v_model = api.load(\"word2vec-google-news-300\")  # or use another CBOW/Skipgram model\n",
        "embedding_dim = w2v_model.vector_size\n"
      ]
    },
    {
      "cell_type": "code",
      "source": [
        "print(f\"Total words in Word2Vec model: {len(w2v_model.key_to_index)}\")"
      ],
      "metadata": {
        "colab": {
          "base_uri": "https://localhost:8080/"
        },
        "id": "krgVYeS-6V7y",
        "outputId": "4a597a34-9f26-452e-84fd-0d7aabf978cb"
      },
      "id": "krgVYeS-6V7y",
      "execution_count": null,
      "outputs": [
        {
          "output_type": "stream",
          "name": "stdout",
          "text": [
            "Total words in Word2Vec model: 3000000\n"
          ]
        }
      ]
    },
    {
      "cell_type": "code",
      "execution_count": null,
      "id": "87e72147-1e47-4a30-b25b-9467ebb91563",
      "metadata": {
        "id": "87e72147-1e47-4a30-b25b-9467ebb91563"
      },
      "outputs": [],
      "source": [
        "import numpy as np\n",
        "\n",
        "# Define vocab size and embedding matrix\n",
        "vocab_size = min(10000, len(tokenizer.word_index) + 1)\n",
        "embedding_matrix = np.zeros((vocab_size, embedding_dim))\n",
        "\n",
        "for word, idx in tokenizer.word_index.items():\n",
        "    if idx < vocab_size:\n",
        "        if word in w2v_model:\n",
        "            embedding_matrix[idx] = w2v_model[word]\n",
        "        else:\n",
        "            # Random initialization for OOV words\n",
        "            embedding_matrix[idx] = np.random.normal(scale=0.6, size=(embedding_dim,))\n"
      ]
    },
    {
      "cell_type": "code",
      "source": [
        "# oov_words = []\n",
        "# for word, idx in tokenizer.word_index.items():\n",
        "#     if word not in w2v_model:\n",
        "#         oov_words.append(word)\n",
        "\n",
        "# # few OOV words\n",
        "# print(\"OOV Words (not in pretrained Word2Vec model):\")\n",
        "# print(oov_words[:10])\n"
      ],
      "metadata": {
        "id": "0B9_9oBm5sTl"
      },
      "id": "0B9_9oBm5sTl",
      "execution_count": null,
      "outputs": []
    },
    {
      "cell_type": "code",
      "source": [
        "covered = 0\n",
        "for word, idx in tokenizer.word_index.items():\n",
        "    if idx < vocab_size and word in w2v_model:\n",
        "        covered += 1\n",
        "\n",
        "print(f\"Coverage: {covered / vocab_size:.2%}\")\n"
      ],
      "metadata": {
        "colab": {
          "base_uri": "https://localhost:8080/"
        },
        "id": "LYCAb5gqwCzx",
        "outputId": "08864c36-5085-428b-aa0f-17738fb196bf"
      },
      "id": "LYCAb5gqwCzx",
      "execution_count": null,
      "outputs": [
        {
          "output_type": "stream",
          "name": "stdout",
          "text": [
            "Coverage: 94.79%\n"
          ]
        }
      ]
    },
    {
      "cell_type": "code",
      "source": [
        "import tensorflow as tf\n",
        "from tensorflow.keras import layers, models\n",
        "\n",
        "\n",
        "from tensorflow.keras.models import Model\n",
        "from tensorflow.keras.layers import (Input, Embedding, Dropout, Dense, LayerNormalization,\n",
        "                                     MultiHeadAttention, GlobalAveragePooling1D, Lambda)\n",
        "from tensorflow.keras.preprocessing.text import Tokenizer\n",
        "from tensorflow.keras.preprocessing.sequence import pad_sequences\n",
        "from sklearn.metrics import classification_report\n",
        "from gensim.models import KeyedVectors\n",
        "import gensim.downloader as api\n",
        "import matplotlib.pyplot as plt\n",
        "\n",
        "# Define positional encoding layer\n",
        "class PositionalEmbedding(layers.Layer):\n",
        "    def __init__(self, vocab_size, embedding_dim, max_len, embedding_matrix, trainable=False):\n",
        "        super().__init__()\n",
        "        self.token_embed = layers.Embedding(\n",
        "            input_dim=vocab_size,\n",
        "            output_dim=embedding_dim,\n",
        "            weights=[embedding_matrix],\n",
        "            trainable=trainable,  # Now accepts trainable parameter\n",
        "        )\n",
        "        self.pos_embed = layers.Embedding(input_dim=max_len, output_dim=embedding_dim)\n",
        "\n",
        "    def call(self, x):\n",
        "        maxlen = tf.shape(x)[1]\n",
        "        positions = tf.range(start=0, limit=maxlen, delta=1)\n",
        "        positions = self.pos_embed(positions)\n",
        "        x = self.token_embed(x)\n",
        "        return x + positions\n",
        "\n",
        "# Parameters\n",
        "num_classes = 3\n",
        "dropout_rate = 0.1\n",
        "\n",
        "# Model\n",
        "inputs = layers.Input(shape=(maxlen,))\n",
        "x = PositionalEmbedding(vocab_size, embedding_dim, maxlen, embedding_matrix)(inputs)\n",
        "\n",
        "# Transformer block\n",
        "attention_output = layers.MultiHeadAttention(num_heads=2, key_dim=embedding_dim)(x, x)\n",
        "x = layers.LayerNormalization(epsilon=1e-6)(x + attention_output)\n",
        "ff_output = layers.Dense(128, activation='relu')(x)\n",
        "ff_output = layers.Dense(embedding_dim)(ff_output)\n",
        "x = layers.LayerNormalization(epsilon=1e-6)(x + ff_output)\n",
        "\n",
        "# Pooling + Dense\n",
        "x = layers.GlobalAveragePooling1D()(x)\n",
        "x = layers.Dropout(dropout_rate)(x)\n",
        "x = layers.Dense(64, activation='relu')(x)\n",
        "x = layers.Dropout(dropout_rate)(x)\n",
        "outputs = layers.Dense(num_classes, activation='softmax')(x)\n",
        "\n",
        "model = models.Model(inputs=inputs, outputs=outputs)\n",
        "model.compile(optimizer='adam', loss='sparse_categorical_crossentropy', metrics=['accuracy'])\n",
        "\n",
        "model.summary()\n"
      ],
      "metadata": {
        "colab": {
          "base_uri": "https://localhost:8080/",
          "height": 384
        },
        "id": "TW7tMZqZLr9p",
        "outputId": "27b4583d-1dc0-42a1-c004-f9ef20ff99e4"
      },
      "id": "TW7tMZqZLr9p",
      "execution_count": null,
      "outputs": [
        {
          "output_type": "error",
          "ename": "ModuleNotFoundError",
          "evalue": "No module named 'gensim'",
          "traceback": [
            "\u001b[0;31m---------------------------------------------------------------------------\u001b[0m",
            "\u001b[0;31mModuleNotFoundError\u001b[0m                       Traceback (most recent call last)",
            "\u001b[0;32m/tmp/ipython-input-5-3677494078.py\u001b[0m in \u001b[0;36m<cell line: 0>\u001b[0;34m()\u001b[0m\n\u001b[1;32m      9\u001b[0m \u001b[0;32mfrom\u001b[0m \u001b[0mtensorflow\u001b[0m\u001b[0;34m.\u001b[0m\u001b[0mkeras\u001b[0m\u001b[0;34m.\u001b[0m\u001b[0mpreprocessing\u001b[0m\u001b[0;34m.\u001b[0m\u001b[0msequence\u001b[0m \u001b[0;32mimport\u001b[0m \u001b[0mpad_sequences\u001b[0m\u001b[0;34m\u001b[0m\u001b[0;34m\u001b[0m\u001b[0m\n\u001b[1;32m     10\u001b[0m \u001b[0;32mfrom\u001b[0m \u001b[0msklearn\u001b[0m\u001b[0;34m.\u001b[0m\u001b[0mmetrics\u001b[0m \u001b[0;32mimport\u001b[0m \u001b[0mclassification_report\u001b[0m\u001b[0;34m\u001b[0m\u001b[0;34m\u001b[0m\u001b[0m\n\u001b[0;32m---> 11\u001b[0;31m \u001b[0;32mfrom\u001b[0m \u001b[0mgensim\u001b[0m\u001b[0;34m.\u001b[0m\u001b[0mmodels\u001b[0m \u001b[0;32mimport\u001b[0m \u001b[0mKeyedVectors\u001b[0m\u001b[0;34m\u001b[0m\u001b[0;34m\u001b[0m\u001b[0m\n\u001b[0m\u001b[1;32m     12\u001b[0m \u001b[0;32mimport\u001b[0m \u001b[0mgensim\u001b[0m\u001b[0;34m.\u001b[0m\u001b[0mdownloader\u001b[0m \u001b[0;32mas\u001b[0m \u001b[0mapi\u001b[0m\u001b[0;34m\u001b[0m\u001b[0;34m\u001b[0m\u001b[0m\n\u001b[1;32m     13\u001b[0m \u001b[0;32mimport\u001b[0m \u001b[0mmatplotlib\u001b[0m\u001b[0;34m.\u001b[0m\u001b[0mpyplot\u001b[0m \u001b[0;32mas\u001b[0m \u001b[0mplt\u001b[0m\u001b[0;34m\u001b[0m\u001b[0;34m\u001b[0m\u001b[0m\n",
            "\u001b[0;31mModuleNotFoundError\u001b[0m: No module named 'gensim'",
            "",
            "\u001b[0;31m---------------------------------------------------------------------------\u001b[0;32m\nNOTE: If your import is failing due to a missing package, you can\nmanually install dependencies using either !pip or !apt.\n\nTo view examples of installing some common dependencies, click the\n\"Open Examples\" button below.\n\u001b[0;31m---------------------------------------------------------------------------\u001b[0m\n"
          ],
          "errorDetails": {
            "actions": [
              {
                "action": "open_url",
                "actionText": "Open Examples",
                "url": "/notebooks/snippets/importing_libraries.ipynb"
              }
            ]
          }
        }
      ]
    },
    {
      "cell_type": "code",
      "source": [
        "# Train the model\n",
        "history = model.fit(\n",
        "    train_sequences_padded,\n",
        "    train_df[\"Sentiment\"],\n",
        "    validation_data=(val_sequences_padded, val_df[\"Sentiment\"]),\n",
        "    epochs=10,              # You can increase if needed\n",
        "    batch_size=64,         # Try reducing if memory issues\n",
        "    verbose=1\n",
        ")\n"
      ],
      "metadata": {
        "colab": {
          "base_uri": "https://localhost:8080/"
        },
        "id": "ivsNk8JXL8Dm",
        "outputId": "1cd32085-996f-490b-b948-5c09562049e0"
      },
      "id": "ivsNk8JXL8Dm",
      "execution_count": null,
      "outputs": [
        {
          "output_type": "stream",
          "name": "stdout",
          "text": [
            "Epoch 1/10\n",
            "\u001b[1m1315/1315\u001b[0m \u001b[32m━━━━━━━━━━━━━━━━━━━━\u001b[0m\u001b[37m\u001b[0m \u001b[1m44s\u001b[0m 23ms/step - accuracy: 0.5372 - loss: 0.9561 - val_accuracy: 0.6202 - val_loss: 0.8201\n",
            "Epoch 2/10\n",
            "\u001b[1m1315/1315\u001b[0m \u001b[32m━━━━━━━━━━━━━━━━━━━━\u001b[0m\u001b[37m\u001b[0m \u001b[1m23s\u001b[0m 18ms/step - accuracy: 0.6119 - loss: 0.8379 - val_accuracy: 0.6196 - val_loss: 0.8252\n",
            "Epoch 3/10\n",
            "\u001b[1m1315/1315\u001b[0m \u001b[32m━━━━━━━━━━━━━━━━━━━━\u001b[0m\u001b[37m\u001b[0m \u001b[1m41s\u001b[0m 18ms/step - accuracy: 0.6266 - loss: 0.8131 - val_accuracy: 0.6414 - val_loss: 0.7845\n",
            "Epoch 4/10\n",
            "\u001b[1m1315/1315\u001b[0m \u001b[32m━━━━━━━━━━━━━━━━━━━━\u001b[0m\u001b[37m\u001b[0m \u001b[1m25s\u001b[0m 19ms/step - accuracy: 0.6393 - loss: 0.7915 - val_accuracy: 0.6439 - val_loss: 0.7863\n",
            "Epoch 5/10\n",
            "\u001b[1m1315/1315\u001b[0m \u001b[32m━━━━━━━━━━━━━━━━━━━━\u001b[0m\u001b[37m\u001b[0m \u001b[1m25s\u001b[0m 19ms/step - accuracy: 0.6504 - loss: 0.7749 - val_accuracy: 0.6539 - val_loss: 0.7682\n",
            "Epoch 6/10\n",
            "\u001b[1m1315/1315\u001b[0m \u001b[32m━━━━━━━━━━━━━━━━━━━━\u001b[0m\u001b[37m\u001b[0m \u001b[1m41s\u001b[0m 19ms/step - accuracy: 0.6529 - loss: 0.7656 - val_accuracy: 0.6580 - val_loss: 0.7569\n",
            "Epoch 7/10\n",
            "\u001b[1m1315/1315\u001b[0m \u001b[32m━━━━━━━━━━━━━━━━━━━━\u001b[0m\u001b[37m\u001b[0m \u001b[1m41s\u001b[0m 19ms/step - accuracy: 0.6644 - loss: 0.7493 - val_accuracy: 0.6590 - val_loss: 0.7627\n",
            "Epoch 8/10\n",
            "\u001b[1m1315/1315\u001b[0m \u001b[32m━━━━━━━━━━━━━━━━━━━━\u001b[0m\u001b[37m\u001b[0m \u001b[1m25s\u001b[0m 19ms/step - accuracy: 0.6692 - loss: 0.7412 - val_accuracy: 0.6656 - val_loss: 0.7473\n",
            "Epoch 9/10\n",
            "\u001b[1m1315/1315\u001b[0m \u001b[32m━━━━━━━━━━━━━━━━━━━━\u001b[0m\u001b[37m\u001b[0m \u001b[1m41s\u001b[0m 19ms/step - accuracy: 0.6736 - loss: 0.7354 - val_accuracy: 0.6706 - val_loss: 0.7385\n",
            "Epoch 10/10\n",
            "\u001b[1m1315/1315\u001b[0m \u001b[32m━━━━━━━━━━━━━━━━━━━━\u001b[0m\u001b[37m\u001b[0m \u001b[1m42s\u001b[0m 20ms/step - accuracy: 0.6783 - loss: 0.7236 - val_accuracy: 0.6668 - val_loss: 0.7458\n"
          ]
        }
      ]
    },
    {
      "cell_type": "code",
      "source": [
        "import matplotlib.pyplot as plt\n",
        "import seaborn as sns\n",
        "from sklearn.metrics import accuracy_score, f1_score, classification_report, confusion_matrix, roc_auc_score, roc_curve\n",
        "from sklearn.preprocessing import LabelBinarizer\n",
        "import numpy as np\n",
        "\n",
        "def evaluate_model(model, data, labels, data_name=\"Data\"):\n",
        "\n",
        "    # Predict the labels (probabilities)\n",
        "    preds = model.predict(data)\n",
        "\n",
        "    # Get the predicted class labels\n",
        "    preds_class = np.argmax(preds, axis=1)\n",
        "\n",
        "    # Calculate Accuracy\n",
        "    acc = accuracy_score(labels, preds_class)\n",
        "    print(f\"{data_name} Accuracy: {acc:.4f}\")\n",
        "\n",
        "    # Calculate F1 Score (Macro Average)\n",
        "    f1 = f1_score(labels, preds_class, average='macro')\n",
        "    print(f\"{data_name} Macro F1 Score: {f1:.4f}\")\n",
        "\n",
        "    # Calculate Macro AUC Score (One-vs-Rest)\n",
        "    auc_score = roc_auc_score(labels, preds, multi_class='ovr', average='macro')\n",
        "    print(f\"{data_name} Macro AUC Score: {auc_score:.4f}\")\n",
        "\n",
        "    # Classification Report\n",
        "    print(f\"{data_name} Classification Report:\")\n",
        "    print(classification_report(labels, preds_class))\n",
        "\n",
        "    # Confusion Matrix\n",
        "    cm = confusion_matrix(labels, preds_class)\n",
        "    plt.figure(figsize=(8, 6))\n",
        "    sns.heatmap(cm, annot=True, fmt='g', cmap='Blues', xticklabels=[\"Negative\", \"Neutral\", \"Positive\"], yticklabels=[\"Negative\", \"Neutral\", \"Positive\"])\n",
        "    plt.title(f\"{data_name} Confusion Matrix\")\n",
        "    plt.xlabel(\"Predicted\")\n",
        "    plt.ylabel(\"Actual\")\n",
        "    plt.show()\n",
        "\n",
        "    # ROC Curve and AUC for each class\n",
        "    lb = LabelBinarizer()\n",
        "    labels_bin = lb.fit_transform(labels)  # One-hot encode labels\n",
        "\n",
        "    plt.figure(figsize=(8, 6))\n",
        "    for i in range(labels_bin.shape[1]):  # For each class\n",
        "        fpr, tpr, _ = roc_curve(labels_bin[:, i], preds[:, i])  # Calculate ROC for each class\n",
        "        auc = roc_auc_score(labels_bin[:, i], preds[:, i])  # AUC for the class\n",
        "        print(f\"{data_name} Class {i} AUC: {auc:.4f}\")\n",
        "\n",
        "        plt.plot(fpr, tpr, label=f'Class {i} ROC curve (AUC = {auc:.2f})')\n",
        "\n",
        "    plt.plot([0, 1], [0, 1], linestyle='--', color='gray')\n",
        "    plt.xlabel('False Positive Rate')\n",
        "    plt.ylabel('True Positive Rate')\n",
        "    plt.title(f'{data_name} ROC Curve')\n",
        "    plt.legend(loc='lower right')\n",
        "    plt.show()\n",
        "\n",
        "\n"
      ],
      "metadata": {
        "id": "GmGmjfLfyVXq"
      },
      "id": "GmGmjfLfyVXq",
      "execution_count": null,
      "outputs": []
    },
    {
      "cell_type": "code",
      "source": [
        "# Evaluation\n",
        "evaluate_model(model, train_sequences_padded, train_df[\"Sentiment\"], \"Train\")\n",
        "\n",
        "evaluate_model(model, test_sequences_padded, test_df[\"Sentiment\"], \"Test\")\n"
      ],
      "metadata": {
        "id": "9irxKUoXynGO",
        "colab": {
          "base_uri": "https://localhost:8080/",
          "height": 1000
        },
        "outputId": "e915a02a-1c03-40c8-d414-30ab4229b256"
      },
      "id": "9irxKUoXynGO",
      "execution_count": null,
      "outputs": [
        {
          "output_type": "stream",
          "name": "stdout",
          "text": [
            "\u001b[1m2629/2629\u001b[0m \u001b[32m━━━━━━━━━━━━━━━━━━━━\u001b[0m\u001b[37m\u001b[0m \u001b[1m10s\u001b[0m 3ms/step\n",
            "Train Accuracy: 0.6811\n",
            "Train Macro F1 Score: 0.6771\n",
            "Train Macro AUC Score: 0.8580\n",
            "Train Classification Report:\n",
            "              precision    recall  f1-score   support\n",
            "\n",
            "           0       0.62      0.82      0.71     27984\n",
            "           1       0.77      0.53      0.63     28144\n",
            "           2       0.70      0.69      0.69     27979\n",
            "\n",
            "    accuracy                           0.68     84107\n",
            "   macro avg       0.70      0.68      0.68     84107\n",
            "weighted avg       0.70      0.68      0.68     84107\n",
            "\n"
          ]
        },
        {
          "output_type": "display_data",
          "data": {
            "text/plain": [
              "<Figure size 800x600 with 2 Axes>"
            ],
            "image/png": "[encoded data removed]"
          },
          "metadata": {}
        },
        {
          "output_type": "stream",
          "name": "stdout",
          "text": [
            "Train Class 0 AUC: 0.8799\n",
            "Train Class 1 AUC: 0.8210\n",
            "Train Class 2 AUC: 0.8732\n"
          ]
        },
        {
          "output_type": "display_data",
          "data": {
            "text/plain": [
              "<Figure size 800x600 with 1 Axes>"
            ],
            "image/png": "[encoded data removed]"
          },
          "metadata": {}
        },
        {
          "output_type": "stream",
          "name": "stdout",
          "text": [
            "\u001b[1m329/329\u001b[0m \u001b[32m━━━━━━━━━━━━━━━━━━━━\u001b[0m\u001b[37m\u001b[0m \u001b[1m2s\u001b[0m 6ms/step\n",
            "Test Accuracy: 0.6646\n",
            "Test Macro F1 Score: 0.6608\n",
            "Test Macro AUC Score: 0.8398\n",
            "Test Classification Report:\n",
            "              precision    recall  f1-score   support\n",
            "\n",
            "           0       0.60      0.79      0.69      3498\n",
            "           1       0.75      0.52      0.61      3518\n",
            "           2       0.68      0.69      0.68      3498\n",
            "\n",
            "    accuracy                           0.66     10514\n",
            "   macro avg       0.68      0.66      0.66     10514\n",
            "weighted avg       0.68      0.66      0.66     10514\n",
            "\n"
          ]
        },
        {
          "output_type": "display_data",
          "data": {
            "text/plain": [
              "<Figure size 800x600 with 2 Axes>"
            ],
            "image/png": "[encoded data removed]"
          },
          "metadata": {}
        },
        {
          "output_type": "stream",
          "name": "stdout",
          "text": [
            "Test Class 0 AUC: 0.8607\n",
            "Test Class 1 AUC: 0.7994\n",
            "Test Class 2 AUC: 0.8595\n"
          ]
        },
        {
          "output_type": "display_data",
          "data": {
            "text/plain": [
              "<Figure size 800x600 with 1 Axes>"
            ],
            "image/png": "[encoded data removed]"
          },
          "metadata": {}
        }
      ]
    },
    {
      "cell_type": "markdown",
      "source": [
        "# For tuning\n",
        "\n",
        "🔹 b. Number of Attention Heads\n",
        "python\n",
        "Copy\n",
        "Edit\n",
        "layers.MultiHeadAttention(num_heads=2, key_dim=embedding_dim)\n",
        "Try increasing num_heads to 4 or 8.\n",
        "\n",
        "Helps the model attend to different semantic parts.\n",
        "\n",
        "🔹 c. Feedforward Layer Size\n",
        "python\n",
        "Copy\n",
        "Edit\n",
        "ff_output = layers.Dense(128, activation='relu')(x)\n",
        "Try 256, 512, etc.\n",
        "\n",
        "🔹 d. Number of Transformer Blocks\n",
        "Currently you use 1 block.\n",
        "\n",
        "Try stacking 2–4 transformer blocks (attention → norm → dense → norm).\n",
        "\n",
        "🧠 2. Training Hyperparameters\n",
        "🔹 a. Learning Rate\n",
        "python\n",
        "Copy\n",
        "Edit\n",
        "optimizer = tf.keras.optimizers.Adam(learning_rate=1e-3)\n",
        "Try 1e-4, 3e-4, 5e-4, etc.\n",
        "\n",
        "Use learning rate schedulers like ReduceLROnPlateau.\n",
        "\n",
        "🔹 b. Batch Size\n",
        "Try 64, 128, 256.\n",
        "\n",
        "Larger = faster, smaller = better generalization.\n",
        "\n",
        "🔹 c. Number of Epochs\n",
        "Train for more epochs (10–20+), but watch for overfitting.\n",
        "\n",
        "\n",
        "\n",
        "🔹 b. Class Balance\n",
        "If class imbalance exists, try:\n",
        "\n",
        "Class weights in loss function\n",
        "\n",
        "\n",
        "\n",
        "🧱 5. Advanced Techniques\n",
        "🔹 a. Add Dropout Regularization\n",
        "You're using:\n",
        "\n",
        "python\n",
        "Copy\n",
        "Edit\n",
        "layers.Dropout(0.1)\n",
        "Try adjusting it (e.g., 0.2, 0.3).\n",
        "\n",
        "\n",
        "📈 6. Evaluation Strategy\n",
        "Use EarlyStopping with validation loss.\n",
        "\n"
      ],
      "metadata": {
        "id": "VnTbYg17OyRO"
      },
      "id": "VnTbYg17OyRO"
    },
    {
      "cell_type": "markdown",
      "source": [
        "# Model Tuning"
      ],
      "metadata": {
        "id": "NZgjndtjEKTl"
      },
      "id": "NZgjndtjEKTl"
    },
    {
      "cell_type": "markdown",
      "source": [
        "## Iteration 1: Multi-Head Attention Optimization"
      ],
      "metadata": {
        "id": "2Fb8bzEfKV4y"
      },
      "id": "2Fb8bzEfKV4y"
    },
    {
      "cell_type": "code",
      "source": [
        "# Test different attention head configurations\n",
        "def create_model_with_attention_config(num_heads, key_dim):\n",
        "    inputs = layers.Input(shape=(maxlen,))\n",
        "    x = PositionalEmbedding(vocab_size, embedding_dim, maxlen, embedding_matrix)(inputs)\n",
        "\n",
        "    # Multi-head attention with new config\n",
        "    attention_output = layers.MultiHeadAttention(\n",
        "        num_heads=num_heads,\n",
        "        key_dim=key_dim,\n",
        "        dropout=0.1\n",
        "    )(x, x)\n",
        "    x = layers.LayerNormalization(epsilon=1e-6)(x + attention_output)\n",
        "\n",
        "    # Keep rest same for now\n",
        "    ff_output = layers.Dense(128, activation='relu')(x)\n",
        "    ff_output = layers.Dense(embedding_dim)(ff_output)\n",
        "    x = layers.LayerNormalization(epsilon=1e-6)(x + ff_output)\n",
        "\n",
        "    x = layers.GlobalAveragePooling1D()(x)\n",
        "    x = layers.Dropout(0.1)(x)\n",
        "    x = layers.Dense(64, activation='relu')(x)\n",
        "    x = layers.Dropout(0.1)(x)\n",
        "    outputs = layers.Dense(3, activation='softmax')(x)\n",
        "\n",
        "    model = models.Model(inputs=inputs, outputs=outputs)\n",
        "    model.compile(optimizer='adam', loss='sparse_categorical_crossentropy', metrics=['accuracy'])\n",
        "    return model\n",
        "\n",
        "# Test these configurations:\n",
        "attention_configs = [\n",
        "    {'num_heads': 4, 'key_dim': 75},   # More heads, smaller key dim\n",
        "    {'num_heads': 6, 'key_dim': 50},   # Even more heads\n",
        "    {'num_heads': 8, 'key_dim': 37},   # Many heads\n",
        "]\n",
        "\n",
        "# Run this to test each config\n",
        "for config in attention_configs:\n",
        "    print(f\"Testing {config['num_heads']} heads, key_dim={config['key_dim']}\")\n",
        "    model_test = create_model_with_attention_config(config['num_heads'], config['key_dim'])\n",
        "\n",
        "    # Quick 3-epoch test\n",
        "    history = model_test.fit(\n",
        "        train_sequences_padded, train_df[\"Sentiment\"],\n",
        "        validation_data=(val_sequences_padded, val_df[\"Sentiment\"]),\n",
        "        epochs=3, batch_size=64, verbose=0\n",
        "    )\n",
        "\n",
        "    val_acc = max(history.history['val_accuracy'])\n",
        "    print(f\"Best validation accuracy: {val_acc:.4f}\")\n",
        "    print(\"---\")"
      ],
      "metadata": {
        "colab": {
          "base_uri": "https://localhost:8080/"
        },
        "id": "P1fqu05OEPhs",
        "outputId": "02427f52-31ab-467c-b440-8613571aadac"
      },
      "id": "P1fqu05OEPhs",
      "execution_count": null,
      "outputs": [
        {
          "output_type": "stream",
          "name": "stdout",
          "text": [
            "Testing 4 heads, key_dim=75\n",
            "Best validation accuracy: 0.6343\n",
            "---\n",
            "Testing 6 heads, key_dim=50\n",
            "Best validation accuracy: 0.6494\n",
            "---\n",
            "Testing 8 heads, key_dim=37\n",
            "Best validation accuracy: 0.6529\n",
            "---\n"
          ]
        }
      ]
    },
    {
      "cell_type": "markdown",
      "source": [
        "\n",
        "\n",
        "*   8 heads with key_dim=37 performed best (65.93%).\n",
        "*   Even this is bit less than the baseline, it was only 3 ephoch test, with full training it might exceed my original 67%\n",
        "\n"
      ],
      "metadata": {
        "id": "EHxu7hkDJWUr"
      },
      "id": "EHxu7hkDJWUr"
    },
    {
      "cell_type": "markdown",
      "source": [
        "## Iteration 2: Feed-Forward Network Expansion"
      ],
      "metadata": {
        "id": "uGlDtC8vKuvr"
      },
      "id": "uGlDtC8vKuvr"
    },
    {
      "cell_type": "code",
      "source": [
        "def create_model_with_ffn_config(ffn_hidden_dim):\n",
        "    inputs = layers.Input(shape=(maxlen,))\n",
        "    x = PositionalEmbedding(vocab_size, embedding_dim, maxlen, embedding_matrix)(inputs)\n",
        "\n",
        "    # Use best attention config from previous test\n",
        "    attention_output = layers.MultiHeadAttention(\n",
        "        num_heads=8,\n",
        "        key_dim=37,\n",
        "        dropout=0.1\n",
        "    )(x, x)\n",
        "    x = layers.LayerNormalization(epsilon=1e-6)(x + attention_output)\n",
        "\n",
        "    # Test different FFN sizes\n",
        "    ff_output = layers.Dense(ffn_hidden_dim, activation='relu')(x)\n",
        "    ff_output = layers.Dropout(0.1)(ff_output)  # Add dropout in FFN\n",
        "    ff_output = layers.Dense(embedding_dim)(ff_output)\n",
        "    x = layers.LayerNormalization(epsilon=1e-6)(x + ff_output)\n",
        "\n",
        "    x = layers.GlobalAveragePooling1D()(x)\n",
        "    x = layers.Dropout(0.2)(x)  # Increase dropout after pooling\n",
        "    x = layers.Dense(64, activation='relu')(x)\n",
        "    x = layers.Dropout(0.2)(x)\n",
        "    outputs = layers.Dense(3, activation='softmax')(x)\n",
        "\n",
        "    model = models.Model(inputs=inputs, outputs=outputs)\n",
        "    model.compile(optimizer='adam', loss='sparse_categorical_crossentropy', metrics=['accuracy'])\n",
        "    return model\n",
        "\n",
        "# Test these FFN configurations:\n",
        "ffn_configs = [\n",
        "    512,   # 1.7x expansion (standard)\n",
        "    768,   # 2.5x expansion\n",
        "    1024,  # 3.4x expansion (BERT-like)\n",
        "    1536,  # 5.1x expansion (large)\n",
        "]\n",
        "\n",
        "for ffn_size in ffn_configs:\n",
        "    print(f\"Testing FFN hidden size: {ffn_size} (expansion ratio: {ffn_size/300:.1f}x)\")\n",
        "    model_test = create_model_with_ffn_config(ffn_size)\n",
        "\n",
        "    # Quick 3-epoch test\n",
        "    history = model_test.fit(\n",
        "        train_sequences_padded, train_df[\"Sentiment\"],\n",
        "        validation_data=(val_sequences_padded, val_df[\"Sentiment\"]),\n",
        "        epochs=3, batch_size=64, verbose=0\n",
        "    )\n",
        "\n",
        "    val_acc = max(history.history['val_accuracy'])\n",
        "    print(f\"Best validation accuracy: {val_acc:.4f}\")\n",
        "    print(\"---\")"
      ],
      "metadata": {
        "colab": {
          "base_uri": "https://localhost:8080/"
        },
        "id": "0U3nDaZrKJpg",
        "outputId": "47a4bb21-9ac2-4638-9e35-fb7c21f2d0e4"
      },
      "id": "0U3nDaZrKJpg",
      "execution_count": null,
      "outputs": [
        {
          "output_type": "stream",
          "name": "stdout",
          "text": [
            "Testing FFN hidden size: 512 (expansion ratio: 1.7x)\n",
            "Best validation accuracy: 0.6498\n",
            "---\n",
            "Testing FFN hidden size: 768 (expansion ratio: 2.6x)\n",
            "Best validation accuracy: 0.6483\n",
            "---\n",
            "Testing FFN hidden size: 1024 (expansion ratio: 3.4x)\n",
            "Best validation accuracy: 0.6409\n",
            "---\n",
            "Testing FFN hidden size: 1536 (expansion ratio: 5.1x)\n",
            "Best validation accuracy: 0.6394\n",
            "---\n"
          ]
        }
      ]
    },
    {
      "cell_type": "markdown",
      "source": [
        "\n",
        "*   FFN size 512 performed best (64.98%)\n",
        "*   Based on the way performance declined with larger FFNs, shows how model starts overfitting with too much capacity\n",
        "*   So current best config is 8 heads, key_dim=37, FFN=512\n",
        "\n"
      ],
      "metadata": {
        "id": "pqP7fVIaM9Fp"
      },
      "id": "pqP7fVIaM9Fp"
    },
    {
      "cell_type": "markdown",
      "source": [
        "## Iteration 3: Multiple Transformer Layers"
      ],
      "metadata": {
        "id": "JNHSn_IZNd3G"
      },
      "id": "JNHSn_IZNd3G"
    },
    {
      "cell_type": "code",
      "source": [
        "def create_transformer_block(x, num_heads, key_dim, ffn_hidden, dropout_rate, block_id):\n",
        "    # Multi-head attention\n",
        "    attention_output = layers.MultiHeadAttention(\n",
        "        num_heads=num_heads,\n",
        "        key_dim=key_dim,\n",
        "        dropout=dropout_rate,\n",
        "        name=f'attention_block_{block_id}'\n",
        "    )(x, x)\n",
        "    x = layers.LayerNormalization(epsilon=1e-6, name=f'ln1_block_{block_id}')(x + attention_output)\n",
        "\n",
        "    # Feed-forward network\n",
        "    ff_output = layers.Dense(ffn_hidden, activation='relu', name=f'ffn1_block_{block_id}')(x)\n",
        "    ff_output = layers.Dropout(dropout_rate, name=f'ffn_dropout_block_{block_id}')(ff_output)\n",
        "    ff_output = layers.Dense(embedding_dim, name=f'ffn2_block_{block_id}')(ff_output)\n",
        "    x = layers.LayerNormalization(epsilon=1e-6, name=f'ln2_block_{block_id}')(x + ff_output)\n",
        "\n",
        "    return x\n",
        "\n",
        "def create_model_with_layers(num_layers):\n",
        "    inputs = layers.Input(shape=(maxlen,))\n",
        "    x = PositionalEmbedding(vocab_size, embedding_dim, maxlen, embedding_matrix)(inputs)\n",
        "\n",
        "    # Stack multiple transformer blocks\n",
        "    for i in range(num_layers):\n",
        "        x = create_transformer_block(\n",
        "            x,\n",
        "            num_heads=8,\n",
        "            key_dim=37,\n",
        "            ffn_hidden=512,\n",
        "            dropout_rate=0.1,\n",
        "            block_id=i\n",
        "        )\n",
        "\n",
        "    # Classification head\n",
        "    x = layers.GlobalAveragePooling1D()(x)\n",
        "    x = layers.Dropout(0.3)(x)  # Higher dropout for deeper model\n",
        "    x = layers.Dense(128, activation='relu')(x)  # Larger dense layer\n",
        "    x = layers.Dropout(0.3)(x)\n",
        "    outputs = layers.Dense(3, activation='softmax')(x)\n",
        "\n",
        "    model = models.Model(inputs=inputs, outputs=outputs)\n",
        "    model.compile(optimizer='adam', loss='sparse_categorical_crossentropy', metrics=['accuracy'])\n",
        "    return model\n",
        "\n",
        "# Test different numbers of layers\n",
        "layer_configs = [2, 3, 4]  # Start conservative\n",
        "\n",
        "for num_layers in layer_configs:\n",
        "    print(f\"Testing {num_layers} transformer layers\")\n",
        "    model_test = create_model_with_layers(num_layers)\n",
        "\n",
        "    # 4 epochs for deeper models\n",
        "    history = model_test.fit(\n",
        "        train_sequences_padded, train_df[\"Sentiment\"],\n",
        "        validation_data=(val_sequences_padded, val_df[\"Sentiment\"]),\n",
        "        epochs=4, batch_size=64, verbose=0\n",
        "    )\n",
        "\n",
        "    val_acc = max(history.history['val_accuracy'])\n",
        "    print(f\"Best validation accuracy: {val_acc:.4f}\")\n",
        "    print(f\"Model parameters: {model_test.count_params():,}\")\n",
        "    print(\"---\")"
      ],
      "metadata": {
        "colab": {
          "base_uri": "https://localhost:8080/"
        },
        "id": "9913xRQvNez-",
        "outputId": "77c85261-34d9-4036-c14a-aa0968b8128e"
      },
      "id": "9913xRQvNez-",
      "execution_count": null,
      "outputs": [
        {
          "output_type": "stream",
          "name": "stdout",
          "text": [
            "Testing 2 transformer layers\n",
            "Best validation accuracy: 0.6155\n",
            "Model parameters: 4,400,115\n",
            "---\n",
            "Testing 3 transformer layers\n",
            "Best validation accuracy: 0.5735\n",
            "Model parameters: 5,065,715\n",
            "---\n",
            "Testing 4 transformer layers\n",
            "Best validation accuracy: 0.3596\n",
            "Model parameters: 5,731,315\n",
            "---\n"
          ]
        }
      ]
    },
    {
      "cell_type": "markdown",
      "source": [
        "\n",
        "\n",
        "*   Performance decreased with more layers (Overfitting)\n",
        "*   So single layer is optmial\n",
        "\n"
      ],
      "metadata": {
        "id": "Mxmrh9D-TQSn"
      },
      "id": "Mxmrh9D-TQSn"
    },
    {
      "cell_type": "markdown",
      "source": [
        "## Iteration 4: Advanced Regularization & Optimization\n"
      ],
      "metadata": {
        "id": "rTP42JsVTyFJ"
      },
      "id": "rTP42JsVTyFJ"
    },
    {
      "cell_type": "code",
      "source": [
        "def create_optimized_model():\n",
        "    inputs = layers.Input(shape=(maxlen,))\n",
        "    x = PositionalEmbedding(vocab_size, embedding_dim, maxlen, embedding_matrix)(inputs)\n",
        "\n",
        "    # Best single transformer block with improved regularization\n",
        "    attention_output = layers.MultiHeadAttention(\n",
        "        num_heads=8,\n",
        "        key_dim=37,\n",
        "        dropout=0.15  # Slightly higher attention dropout\n",
        "    )(x, x)\n",
        "    x = layers.LayerNormalization(epsilon=1e-6)(x + attention_output)\n",
        "\n",
        "    # FFN with better regularization\n",
        "    ff_output = layers.Dense(512, activation='relu')(x)\n",
        "    ff_output = layers.Dropout(0.2)(ff_output)  # Higher FFN dropout\n",
        "    ff_output = layers.Dense(embedding_dim)(ff_output)\n",
        "    x = layers.LayerNormalization(epsilon=1e-6)(x + ff_output)\n",
        "\n",
        "    # Improved classification head\n",
        "    x = layers.GlobalAveragePooling1D()(x)\n",
        "    x = layers.Dropout(0.3)(x)\n",
        "    x = layers.Dense(128, activation='relu')(x)\n",
        "    x = layers.Dropout(0.3)(x)\n",
        "    x = layers.Dense(64, activation='relu')(x)  # Additional layer\n",
        "    x = layers.Dropout(0.2)(x)\n",
        "    outputs = layers.Dense(3, activation='softmax')(x)\n",
        "\n",
        "    return models.Model(inputs=inputs, outputs=outputs)\n",
        "\n",
        "# Test with different optimizers and learning rates\n",
        "optimizers_to_test = [\n",
        "    ('adam_0001', tf.keras.optimizers.Adam(learning_rate=0.001)),\n",
        "    ('adam_0005', tf.keras.optimizers.Adam(learning_rate=0.0005)),\n",
        "    ('adamw', tf.keras.optimizers.AdamW(learning_rate=0.001, weight_decay=0.01)),\n",
        "]\n",
        "\n",
        "for opt_name, optimizer in optimizers_to_test:\n",
        "    print(f\"Testing optimizer: {opt_name}\")\n",
        "    model_test = create_optimized_model()\n",
        "    model_test.compile(\n",
        "        optimizer=optimizer,\n",
        "        loss='sparse_categorical_crossentropy',\n",
        "        metrics=['accuracy']\n",
        "    )\n",
        "\n",
        "    history = model_test.fit(\n",
        "        train_sequences_padded, train_df[\"Sentiment\"],\n",
        "        validation_data=(val_sequences_padded, val_df[\"Sentiment\"]),\n",
        "        epochs=5, batch_size=64, verbose=0\n",
        "    )\n",
        "\n",
        "    val_acc = max(history.history['val_accuracy'])\n",
        "    print(f\"Best validation accuracy: {val_acc:.4f}\")\n",
        "    print(\"---\")"
      ],
      "metadata": {
        "colab": {
          "base_uri": "https://localhost:8080/"
        },
        "id": "rsJjDulETL-h",
        "outputId": "e042a5f0-8a16-41e7-ce36-01a6763bf96a"
      },
      "id": "rsJjDulETL-h",
      "execution_count": null,
      "outputs": [
        {
          "output_type": "stream",
          "name": "stdout",
          "text": [
            "Testing optimizer: adam_0001\n",
            "Best validation accuracy: 0.6415\n",
            "---\n",
            "Testing optimizer: adam_0005\n",
            "Best validation accuracy: 0.6675\n",
            "---\n",
            "Testing optimizer: adamw\n",
            "Best validation accuracy: 0.6594\n",
            "---\n"
          ]
        }
      ]
    },
    {
      "cell_type": "markdown",
      "source": [
        "\n",
        "\n",
        "*   Adam with 0.0005 learning rate achieved 66.75%, and closer to original baseline even we are doing short training runs\n",
        "*   Current best config is Single layer, 8 heads, key_dim=37, FFN=512, Adam lr=0.0005\n",
        "\n",
        "\n"
      ],
      "metadata": {
        "id": "_kCvQDK_VRwa"
      },
      "id": "_kCvQDK_VRwa"
    },
    {
      "cell_type": "markdown",
      "source": [
        "## Iteration 5: Pooling Strategy Optimization"
      ],
      "metadata": {
        "id": "s3QU9mpoVgre"
      },
      "id": "s3QU9mpoVgre"
    },
    {
      "cell_type": "code",
      "source": [
        "# Learning rate scheduling\n",
        "def create_lr_schedule():\n",
        "    return tf.keras.optimizers.schedules.ReduceLROnPlateau(\n",
        "        monitor='val_accuracy',\n",
        "        factor=0.5,\n",
        "        patience=2,\n",
        "        min_lr=1e-6,\n",
        "        verbose=1\n",
        "    )\n",
        "\n",
        "def create_model_with_pooling(pooling_type):\n",
        "    inputs = layers.Input(shape=(maxlen,))\n",
        "    x = PositionalEmbedding(vocab_size, embedding_dim, maxlen, embedding_matrix)(inputs)\n",
        "\n",
        "    # Best transformer configuration\n",
        "    attention_output = layers.MultiHeadAttention(\n",
        "        num_heads=8,\n",
        "        key_dim=37,\n",
        "        dropout=0.15\n",
        "    )(x, x)\n",
        "    x = layers.LayerNormalization(epsilon=1e-6)(x + attention_output)\n",
        "\n",
        "    ff_output = layers.Dense(512, activation='relu')(x)\n",
        "    ff_output = layers.Dropout(0.2)(ff_output)\n",
        "    ff_output = layers.Dense(embedding_dim)(ff_output)\n",
        "    x = layers.LayerNormalization(epsilon=1e-6)(x + ff_output)\n",
        "\n",
        "    # Different pooling strategies\n",
        "    if pooling_type == 'avg':\n",
        "        x = layers.GlobalAveragePooling1D()(x)\n",
        "    elif pooling_type == 'max':\n",
        "        x = layers.GlobalMaxPooling1D()(x)\n",
        "    elif pooling_type == 'both':\n",
        "        avg_pool = layers.GlobalAveragePooling1D()(x)\n",
        "        max_pool = layers.GlobalMaxPooling1D()(x)\n",
        "        x = layers.Concatenate()([avg_pool, max_pool])\n",
        "    elif pooling_type == 'attention':\n",
        "        # Attention-based pooling\n",
        "        attention_weights = layers.Dense(1, activation='tanh')(x)\n",
        "        attention_weights = layers.Softmax(axis=1)(attention_weights)\n",
        "        x = layers.Dot(axes=1)([attention_weights, x])\n",
        "        x = layers.Flatten()(x)\n",
        "\n",
        "    # Classification head\n",
        "    x = layers.Dropout(0.3)(x)\n",
        "    x = layers.Dense(128, activation='relu')(x)\n",
        "    x = layers.Dropout(0.3)(x)\n",
        "    x = layers.Dense(64, activation='relu')(x)\n",
        "    x = layers.Dropout(0.2)(x)\n",
        "    outputs = layers.Dense(3, activation='softmax')(x)\n",
        "\n",
        "    return models.Model(inputs=inputs, outputs=outputs)\n",
        "\n",
        "# Test different pooling strategies\n",
        "pooling_strategies = ['avg', 'max', 'both', 'attention']\n",
        "\n",
        "for pooling in pooling_strategies:\n",
        "    print(f\"Testing {pooling} pooling\")\n",
        "    model_test = create_model_with_pooling(pooling)\n",
        "\n",
        "    # Use best optimizer with ReduceLROnPlateau callback\n",
        "    model_test.compile(\n",
        "        optimizer=tf.keras.optimizers.Adam(learning_rate=0.0005),\n",
        "        loss='sparse_categorical_crossentropy',\n",
        "        metrics=['accuracy']\n",
        "    )\n",
        "\n",
        "    # Add learning rate reduction callback\n",
        "    lr_callback = tf.keras.callbacks.ReduceLROnPlateau(\n",
        "        monitor='val_accuracy',\n",
        "        factor=0.5,\n",
        "        patience=2,\n",
        "        min_lr=1e-6,\n",
        "        verbose=0\n",
        "    )\n",
        "\n",
        "    history = model_test.fit(\n",
        "        train_sequences_padded, train_df[\"Sentiment\"],\n",
        "        validation_data=(val_sequences_padded, val_df[\"Sentiment\"]),\n",
        "        epochs=6, batch_size=64, verbose=0,\n",
        "        callbacks=[lr_callback]\n",
        "    )\n",
        "\n",
        "    val_acc = max(history.history['val_accuracy'])\n",
        "    print(f\"Best validation accuracy: {val_acc:.4f}\")\n",
        "    print(\"---\")"
      ],
      "metadata": {
        "colab": {
          "base_uri": "https://localhost:8080/"
        },
        "id": "FtZNB85XVh6x",
        "outputId": "3b0cfd4a-24ec-4eba-a14d-9525c09c83f2"
      },
      "id": "FtZNB85XVh6x",
      "execution_count": null,
      "outputs": [
        {
          "output_type": "stream",
          "name": "stdout",
          "text": [
            "Testing avg pooling\n",
            "Best validation accuracy: 0.6714\n",
            "---\n",
            "Testing max pooling\n",
            "Best validation accuracy: 0.6905\n",
            "---\n",
            "Testing both pooling\n",
            "Best validation accuracy: 0.6917\n",
            "---\n",
            "Testing attention pooling\n",
            "Best validation accuracy: 0.6730\n",
            "---\n"
          ]
        }
      ]
    },
    {
      "cell_type": "markdown",
      "source": [
        "\n",
        "\n",
        "*   'Both' Pooling (avg + max concatenated) achieved 69.17%\n",
        "*   Current best configuration is Single layer, 8 heads, key_dim=37, FFN=512, Adam lr=0.0005, both pooling\n",
        "\n"
      ],
      "metadata": {
        "id": "bbRULxPIZg8I"
      },
      "id": "bbRULxPIZg8I"
    },
    {
      "cell_type": "markdown",
      "source": [
        "## Iteration 6: Embedding Dimension Optimization\n"
      ],
      "metadata": {
        "id": "nGJ90N3AZUrf"
      },
      "id": "nGJ90N3AZUrf"
    },
    {
      "cell_type": "code",
      "source": [
        "# Create embedding matrices for different dimensions from the pretrained word2vec\n",
        "def create_embedding_matrix(target_dim):\n",
        "    \"\"\"Create embedding matrix of target dimension from pretrained word2vec\"\"\"\n",
        "    emb_matrix = np.zeros((vocab_size, target_dim))\n",
        "\n",
        "    for word, idx in tokenizer.word_index.items():\n",
        "        if idx < vocab_size:\n",
        "            if word in w2v_model:\n",
        "                if target_dim <= 300:\n",
        "                    # Truncate larger embeddings\n",
        "                    emb_matrix[idx] = w2v_model[word][:target_dim]\n",
        "                else:\n",
        "                    # This case shouldn't happen since we're testing 64-300\n",
        "                    emb_matrix[idx] = w2v_model[word]\n",
        "            else:\n",
        "                # Random for OOV words, but keep same scale\n",
        "                emb_matrix[idx] = np.random.normal(scale=0.6, size=(target_dim,))\n",
        "\n",
        "    return emb_matrix"
      ],
      "metadata": {
        "id": "mr44BPGe0QJi"
      },
      "id": "mr44BPGe0QJi",
      "execution_count": null,
      "outputs": []
    },
    {
      "cell_type": "code",
      "source": [
        "def create_optimized_model_with_embeddings(emb_dim, emb_matrix_custom):\n",
        "    inputs = layers.Input(shape=(maxlen,))\n",
        "\n",
        "    # Frozen pretrained embeddings at different dimensions\n",
        "    x = PositionalEmbedding(vocab_size, emb_dim, maxlen, emb_matrix_custom, trainable=False)(inputs)\n",
        "\n",
        "    # BEST ATTENTION CONFIG: 8 heads, key_dim proportional to embedding dim\n",
        "    if emb_dim >= 296:  # For 300 and close\n",
        "        num_heads, key_dim = 8, 37\n",
        "    elif emb_dim >= 256:\n",
        "        num_heads, key_dim = 8, 32\n",
        "    elif emb_dim >= 128:\n",
        "        num_heads, key_dim = 8, 16\n",
        "    else:  # 64\n",
        "        num_heads, key_dim = 4, 16\n",
        "\n",
        "    attention_output = layers.MultiHeadAttention(\n",
        "        num_heads=num_heads,\n",
        "        key_dim=key_dim,\n",
        "        dropout=0.15  # BEST DROPOUT RATE\n",
        "    )(x, x)\n",
        "    x = layers.LayerNormalization(epsilon=1e-6)(x + attention_output)\n",
        "\n",
        "    # BEST FFN CONFIG: 512 hidden size\n",
        "    ff_output = layers.Dense(512, activation='relu')(x)\n",
        "    ff_output = layers.Dropout(0.2)(ff_output)  # BEST FFN DROPOUT\n",
        "    ff_output = layers.Dense(emb_dim)(ff_output)\n",
        "    x = layers.LayerNormalization(epsilon=1e-6)(x + ff_output)\n",
        "\n",
        "    # BEST POOLING: Both (avg + max concatenated)\n",
        "    avg_pool = layers.GlobalAveragePooling1D()(x)\n",
        "    max_pool = layers.GlobalMaxPooling1D()(x)\n",
        "    x = layers.Concatenate()([avg_pool, max_pool])\n",
        "\n",
        "    # BEST CLASSIFICATION HEAD\n",
        "    x = layers.Dropout(0.3)(x)\n",
        "    x = layers.Dense(128, activation='relu')(x)\n",
        "    x = layers.Dropout(0.3)(x)\n",
        "    x = layers.Dense(64, activation='relu')(x)\n",
        "    x = layers.Dropout(0.2)(x)\n",
        "    outputs = layers.Dense(3, activation='softmax')(x)\n",
        "\n",
        "    return models.Model(inputs=inputs, outputs=outputs)\n",
        "\n",
        "# Test different pretrained embedding dimensions with ALL best configs\n",
        "embedding_dims = [64, 128, 200, 256, 300]\n",
        "\n",
        "for emb_dim in embedding_dims:\n",
        "    print(f\"Testing OPTIMIZED model with frozen pretrained word2vec {emb_dim}D\")\n",
        "\n",
        "    # Create embedding matrix for this dimension\n",
        "    emb_matrix_custom = create_embedding_matrix(emb_dim)\n",
        "\n",
        "    model_test = create_optimized_model_with_embeddings(emb_dim, emb_matrix_custom)\n",
        "\n",
        "    # BEST OPTIMIZER CONFIG\n",
        "    model_test.compile(\n",
        "        optimizer=tf.keras.optimizers.Adam(learning_rate=0.0005),\n",
        "        loss='sparse_categorical_crossentropy',\n",
        "        metrics=['accuracy']\n",
        "    )\n",
        "\n",
        "    # BEST CALLBACK\n",
        "    lr_callback = tf.keras.callbacks.ReduceLROnPlateau(\n",
        "        monitor='val_accuracy', factor=0.5, patience=2, min_lr=1e-6, verbose=0\n",
        "    )\n",
        "\n",
        "    history = model_test.fit(\n",
        "        train_sequences_padded, train_df[\"Sentiment\"],\n",
        "        validation_data=(val_sequences_padded, val_df[\"Sentiment\"]),\n",
        "        epochs=8, batch_size=64, verbose=0,  # More epochs since we have all optimizations\n",
        "        callbacks=[lr_callback]\n",
        "    )\n",
        "\n",
        "    val_acc = max(history.history['val_accuracy'])\n",
        "    print(f\"Best validation accuracy: {val_acc:.4f}\")\n",
        "    print(f\"Parameters: {model_test.count_params():,}\")\n",
        "    print(\"---\")"
      ],
      "metadata": {
        "colab": {
          "base_uri": "https://localhost:8080/"
        },
        "id": "DXqexyWrdAc0",
        "outputId": "8ad39f2b-4833-4e67-b91b-1842da6d2df7"
      },
      "id": "DXqexyWrdAc0",
      "execution_count": null,
      "outputs": [
        {
          "output_type": "stream",
          "name": "stdout",
          "text": [
            "Testing OPTIMIZED model with frozen pretrained word2vec 64D\n",
            "Best validation accuracy: 0.6682\n",
            "Parameters: 754,371\n",
            "---\n",
            "Testing OPTIMIZED model with frozen pretrained word2vec 128D\n",
            "Best validation accuracy: 0.6919\n",
            "Parameters: 1,532,419\n",
            "---\n",
            "Testing OPTIMIZED model with frozen pretrained word2vec 200D\n",
            "Best validation accuracy: 0.7024\n",
            "Parameters: 2,389,075\n",
            "---\n",
            "Testing OPTIMIZED model with frozen pretrained word2vec 256D\n",
            "Best validation accuracy: 0.6997\n",
            "Parameters: 3,186,819\n",
            "---\n",
            "Testing OPTIMIZED model with frozen pretrained word2vec 300D\n",
            "Best validation accuracy: 0.7006\n",
            "Parameters: 3,780,979\n",
            "---\n"
          ]
        }
      ]
    },
    {
      "cell_type": "markdown",
      "source": [
        "\n",
        "\n",
        "*   200D embeddings achieved 70.24%\n",
        "*   200D is good, enough semantic capacity but not too complex\n",
        "*   More parameters isn't always better (200D > 256D > 300D)\n",
        "*   Current BEST config: 200D frozen pretrained word2vec, 8 heads/16 key_dim, FFN=512, both pooling, Adam lr=0.0005\n"
      ],
      "metadata": {
        "id": "4uSG4rywoMsp"
      },
      "id": "4uSG4rywoMsp"
    },
    {
      "cell_type": "markdown",
      "source": [
        "## Iteration 7: Batch Size Optimization"
      ],
      "metadata": {
        "id": "UvDX3a5wobjJ"
      },
      "id": "UvDX3a5wobjJ"
    },
    {
      "cell_type": "code",
      "source": [
        "def create_final_optimized_model():\n",
        "    \"\"\"Our best model with 200D embeddings\"\"\"\n",
        "    emb_dim = 200\n",
        "    emb_matrix_custom = create_embedding_matrix(emb_dim)\n",
        "\n",
        "    inputs = layers.Input(shape=(maxlen,))\n",
        "    x = PositionalEmbedding(vocab_size, emb_dim, maxlen, emb_matrix_custom, trainable=False)(inputs)\n",
        "\n",
        "    # Best config\n",
        "    attention_output = layers.MultiHeadAttention(\n",
        "        num_heads=8, key_dim=16, dropout=0.15\n",
        "    )(x, x)\n",
        "    x = layers.LayerNormalization(epsilon=1e-6)(x + attention_output)\n",
        "\n",
        "    ff_output = layers.Dense(512, activation='relu')(x)\n",
        "    ff_output = layers.Dropout(0.2)(ff_output)\n",
        "    ff_output = layers.Dense(emb_dim)(ff_output)\n",
        "    x = layers.LayerNormalization(epsilon=1e-6)(x + ff_output)\n",
        "\n",
        "    # Best pooling\n",
        "    avg_pool = layers.GlobalAveragePooling1D()(x)\n",
        "    max_pool = layers.GlobalMaxPooling1D()(x)\n",
        "    x = layers.Concatenate()([avg_pool, max_pool])\n",
        "\n",
        "    x = layers.Dropout(0.3)(x)\n",
        "    x = layers.Dense(128, activation='relu')(x)\n",
        "    x = layers.Dropout(0.3)(x)\n",
        "    x = layers.Dense(64, activation='relu')(x)\n",
        "    x = layers.Dropout(0.2)(x)\n",
        "    outputs = layers.Dense(3, activation='softmax')(x)\n",
        "\n",
        "    return models.Model(inputs=inputs, outputs=outputs)\n",
        "\n",
        "# Test different batch sizes\n",
        "batch_sizes = [32, 64, 128, 256]\n",
        "\n",
        "for batch_size in batch_sizes:\n",
        "    print(f\"Testing batch size: {batch_size}\")\n",
        "\n",
        "    model_test = create_final_optimized_model()\n",
        "    model_test.compile(\n",
        "        optimizer=tf.keras.optimizers.Adam(learning_rate=0.0005),\n",
        "        loss='sparse_categorical_crossentropy',\n",
        "        metrics=['accuracy']\n",
        "    )\n",
        "\n",
        "    lr_callback = tf.keras.callbacks.ReduceLROnPlateau(\n",
        "        monitor='val_accuracy', factor=0.5, patience=2, min_lr=1e-6, verbose=0\n",
        "    )\n",
        "\n",
        "    history = model_test.fit(\n",
        "        train_sequences_padded, train_df[\"Sentiment\"],\n",
        "        validation_data=(val_sequences_padded, val_df[\"Sentiment\"]),\n",
        "        epochs=8, batch_size=batch_size, verbose=0,\n",
        "        callbacks=[lr_callback]\n",
        "    )\n",
        "\n",
        "    val_acc = max(history.history['val_accuracy'])\n",
        "    print(f\"Best validation accuracy: {val_acc:.4f}\")\n",
        "    print(\"---\")"
      ],
      "metadata": {
        "id": "n697fvXgoHJi",
        "colab": {
          "base_uri": "https://localhost:8080/"
        },
        "outputId": "9221e20e-1ec9-4002-a722-7339dd1d5f45"
      },
      "id": "n697fvXgoHJi",
      "execution_count": null,
      "outputs": [
        {
          "output_type": "stream",
          "name": "stdout",
          "text": [
            "Testing batch size: 32\n",
            "Best validation accuracy: 0.7106\n",
            "---\n",
            "Testing batch size: 64\n",
            "Best validation accuracy: 0.6968\n",
            "---\n",
            "Testing batch size: 128\n",
            "Best validation accuracy: 0.6888\n",
            "---\n",
            "Testing batch size: 256\n",
            "Best validation accuracy: 0.6770\n",
            "---\n"
          ]
        }
      ]
    },
    {
      "cell_type": "markdown",
      "source": [
        "## Final Training\n"
      ],
      "metadata": {
        "id": "ZWkxBAkXCb5Q"
      },
      "id": "ZWkxBAkXCb5Q"
    },
    {
      "cell_type": "code",
      "source": [
        "def create_best_model():\n",
        "    \"\"\"Final optimized model with ALL best hyperparameters\"\"\"\n",
        "    emb_dim = 200\n",
        "    emb_matrix_custom = create_embedding_matrix(emb_dim)\n",
        "\n",
        "    inputs = layers.Input(shape=(maxlen,))\n",
        "    x = PositionalEmbedding(vocab_size, emb_dim, maxlen, emb_matrix_custom, trainable=False)(inputs)\n",
        "\n",
        "    # BEST TRANSFORMER CONFIG (from all previous steps)\n",
        "    attention_output = layers.MultiHeadAttention(\n",
        "        num_heads=8, key_dim=16, dropout=0.15\n",
        "    )(x, x)\n",
        "    x = layers.LayerNormalization(epsilon=1e-6)(x + attention_output)\n",
        "\n",
        "    ff_output = layers.Dense(512, activation='relu')(x)\n",
        "    ff_output = layers.Dropout(0.2)(ff_output)\n",
        "    ff_output = layers.Dense(emb_dim)(ff_output)\n",
        "    x = layers.LayerNormalization(epsilon=1e-6)(x + ff_output)\n",
        "\n",
        "    # BEST POOLING\n",
        "    avg_pool = layers.GlobalAveragePooling1D()(x)\n",
        "    max_pool = layers.GlobalMaxPooling1D()(x)\n",
        "    x = layers.Concatenate()([avg_pool, max_pool])\n",
        "\n",
        "    # BEST CLASSIFICATION HEAD\n",
        "    x = layers.Dropout(0.3)(x)\n",
        "    x = layers.Dense(128, activation='relu')(x)\n",
        "    x = layers.Dropout(0.3)(x)\n",
        "    x = layers.Dense(64, activation='relu')(x)\n",
        "    x = layers.Dropout(0.2)(x)\n",
        "    outputs = layers.Dense(3, activation='softmax')(x)\n",
        "\n",
        "    return models.Model(inputs=inputs, outputs=outputs)\n",
        "\n",
        "# FINAL COMPREHENSIVE TRAINING\n",
        "print(\"FINAL OPTIMIZED TRAINING\")\n",
        "print(\"=\"*60)\n",
        "\n",
        "final_model = create_best_model()\n",
        "final_model.compile(\n",
        "    optimizer=tf.keras.optimizers.Adam(learning_rate=0.0005),\n",
        "    loss='sparse_categorical_crossentropy',\n",
        "    metrics=['accuracy']\n",
        ")\n",
        "\n",
        "print(f\"Model parameters: {final_model.count_params():,}\")\n",
        "print(\"Configuration: 200D frozen word2vec, 8 heads, FFN=512, batch=32, both pooling\")\n",
        "\n",
        "# Enhanced callbacks for final training\n",
        "callbacks = [\n",
        "    tf.keras.callbacks.ReduceLROnPlateau(\n",
        "        monitor='val_accuracy', factor=0.5, patience=3, min_lr=1e-7, verbose=1\n",
        "    ),\n",
        "    tf.keras.callbacks.EarlyStopping(\n",
        "        monitor='val_accuracy', patience=5, restore_best_weights=True, verbose=1\n",
        "    )\n",
        "]\n",
        "\n",
        "# FINAL TRAINING - Full epochs\n",
        "print(\"\\nStarting final comprehensive training...\")\n",
        "final_history = final_model.fit(\n",
        "    train_sequences_padded, train_df[\"Sentiment\"],\n",
        "    validation_data=(val_sequences_padded, val_df[\"Sentiment\"]),\n",
        "    epochs=20,           # Full training\n",
        "    batch_size=32,       # Best batch size\n",
        "    callbacks=callbacks,\n",
        "    verbose=1\n",
        ")\n",
        "\n",
        "# FINAL COMPREHENSIVE EVALUATION\n",
        "print(\"\\n\" + \"=\"*60)\n",
        "print(\"FINAL COMPREHENSIVE EVALUATION\")\n",
        "print(\"=\"*60)\n",
        "\n",
        "# Evaluate on all datasets\n",
        "train_loss, train_acc = final_model.evaluate(train_sequences_padded, train_df[\"Sentiment\"], verbose=0)\n",
        "val_loss, val_acc = final_model.evaluate(val_sequences_padded, val_df[\"Sentiment\"], verbose=0)\n",
        "test_loss, test_acc = final_model.evaluate(test_sequences_padded, test_df[\"Sentiment\"], verbose=0)\n",
        "\n",
        "print(f\"\\nFINAL RESULTS:\")\n",
        "print(f\"Train Accuracy:      {train_acc:.4f}\")\n",
        "print(f\"Validation Accuracy: {val_acc:.4f}\")\n",
        "print(f\"Test Accuracy:       {test_acc:.4f}\")\n",
        "\n",
        "# Detailed test evaluation\n",
        "print(f\"\\nDETAILED TEST SET EVALUATION:\")\n",
        "evaluate_model(final_model, test_sequences_padded, test_df[\"Sentiment\"], \"FINAL TEST\")\n",
        "\n",
        "# IMPROVEMENT SUMMARY\n",
        "print(f\"\\n\" + \"=\"*60)\n",
        "print(f\"FINAL IMPROVEMENT SUMMARY\")\n",
        "print(f\"=\"*60)\n",
        "print(f\"Original Baseline:   69.07%\")\n",
        "print(f\"Final Optimized:     {test_acc:.2%}\")\n",
        "print(f\"Improvement:         +{(test_acc - 0.6907)*100:.2f} percentage points\")\n",
        "print(f\"Relative Improvement: {((test_acc/0.6907 - 1)*100):.1f}%\")\n",
        "\n",
        "# CONFIGURATION SUMMARY\n",
        "print(f\"\\nWINNING CONFIGURATION:\")\n",
        "print(f\"- Embeddings: 200D frozen pretrained Word2Vec\")\n",
        "print(f\"- Architecture: Single transformer, 8 heads, key_dim=16\")\n",
        "print(f\"- FFN: 512 hidden units\")\n",
        "print(f\"- Pooling: Both (avg + max)\")\n",
        "print(f\"- Training: Adam lr=0.0005, batch_size=32\")\n",
        "print(f\"- Parameters: {final_model.count_params():,}\")"
      ],
      "metadata": {
        "colab": {
          "base_uri": "https://localhost:8080/",
          "height": 1000
        },
        "id": "UEhLdGe-5sFl",
        "outputId": "49e103d8-3b5e-45ba-dd24-4947106ab4bc"
      },
      "id": "UEhLdGe-5sFl",
      "execution_count": null,
      "outputs": [
        {
          "output_type": "stream",
          "name": "stdout",
          "text": [
            "FINAL OPTIMIZED TRAINING\n",
            "============================================================\n",
            "Model parameters: 2,389,075\n",
            "Configuration: 200D frozen word2vec, 8 heads, FFN=512, batch=32, both pooling\n",
            "\n",
            "Starting final comprehensive training...\n",
            "Epoch 1/20\n",
            "\u001b[1m2629/2629\u001b[0m \u001b[32m━━━━━━━━━━━━━━━━━━━━\u001b[0m\u001b[37m\u001b[0m \u001b[1m36s\u001b[0m 10ms/step - accuracy: 0.4283 - loss: 1.0896 - val_accuracy: 0.6120 - val_loss: 0.8468 - learning_rate: 5.0000e-04\n",
            "Epoch 2/20\n",
            "\u001b[1m2629/2629\u001b[0m \u001b[32m━━━━━━━━━━━━━━━━━━━━\u001b[0m\u001b[37m\u001b[0m \u001b[1m19s\u001b[0m 7ms/step - accuracy: 0.5994 - loss: 0.8629 - val_accuracy: 0.6345 - val_loss: 0.8053 - learning_rate: 5.0000e-04\n",
            "Epoch 3/20\n",
            "\u001b[1m2629/2629\u001b[0m \u001b[32m━━━━━━━━━━━━━━━━━━━━\u001b[0m\u001b[37m\u001b[0m \u001b[1m21s\u001b[0m 8ms/step - accuracy: 0.6349 - loss: 0.7965 - val_accuracy: 0.6678 - val_loss: 0.7501 - learning_rate: 5.0000e-04\n",
            "Epoch 4/20\n",
            "\u001b[1m2629/2629\u001b[0m \u001b[32m━━━━━━━━━━━━━━━━━━━━\u001b[0m\u001b[37m\u001b[0m \u001b[1m21s\u001b[0m 8ms/step - accuracy: 0.6633 - loss: 0.7530 - val_accuracy: 0.6825 - val_loss: 0.7294 - learning_rate: 5.0000e-04\n",
            "Epoch 5/20\n",
            "\u001b[1m2629/2629\u001b[0m \u001b[32m━━━━━━━━━━━━━━━━━━━━\u001b[0m\u001b[37m\u001b[0m \u001b[1m19s\u001b[0m 7ms/step - accuracy: 0.6760 - loss: 0.7265 - val_accuracy: 0.6898 - val_loss: 0.7067 - learning_rate: 5.0000e-04\n",
            "Epoch 6/20\n",
            "\u001b[1m2629/2629\u001b[0m \u001b[32m━━━━━━━━━━━━━━━━━━━━\u001b[0m\u001b[37m\u001b[0m \u001b[1m19s\u001b[0m 7ms/step - accuracy: 0.6873 - loss: 0.7023 - val_accuracy: 0.6989 - val_loss: 0.6953 - learning_rate: 5.0000e-04\n",
            "Epoch 7/20\n",
            "\u001b[1m2629/2629\u001b[0m \u001b[32m━━━━━━━━━━━━━━━━━━━━\u001b[0m\u001b[37m\u001b[0m \u001b[1m19s\u001b[0m 7ms/step - accuracy: 0.6989 - loss: 0.6826 - val_accuracy: 0.7012 - val_loss: 0.6974 - learning_rate: 5.0000e-04\n",
            "Epoch 8/20\n",
            "\u001b[1m2629/2629\u001b[0m \u001b[32m━━━━━━━━━━━━━━━━━━━━\u001b[0m\u001b[37m\u001b[0m \u001b[1m20s\u001b[0m 7ms/step - accuracy: 0.7070 - loss: 0.6680 - val_accuracy: 0.6960 - val_loss: 0.6840 - learning_rate: 5.0000e-04\n",
            "Epoch 9/20\n",
            "\u001b[1m2629/2629\u001b[0m \u001b[32m━━━━━━━━━━━━━━━━━━━━\u001b[0m\u001b[37m\u001b[0m \u001b[1m20s\u001b[0m 7ms/step - accuracy: 0.7166 - loss: 0.6515 - val_accuracy: 0.7086 - val_loss: 0.6737 - learning_rate: 5.0000e-04\n",
            "Epoch 10/20\n",
            "\u001b[1m2629/2629\u001b[0m \u001b[32m━━━━━━━━━━━━━━━━━━━━\u001b[0m\u001b[37m\u001b[0m \u001b[1m21s\u001b[0m 7ms/step - accuracy: 0.7226 - loss: 0.6414 - val_accuracy: 0.7135 - val_loss: 0.6726 - learning_rate: 5.0000e-04\n",
            "Epoch 11/20\n",
            "\u001b[1m2629/2629\u001b[0m \u001b[32m━━━━━━━━━━━━━━━━━━━━\u001b[0m\u001b[37m\u001b[0m \u001b[1m20s\u001b[0m 7ms/step - accuracy: 0.7303 - loss: 0.6232 - val_accuracy: 0.7100 - val_loss: 0.6716 - learning_rate: 5.0000e-04\n",
            "Epoch 12/20\n",
            "\u001b[1m2629/2629\u001b[0m \u001b[32m━━━━━━━━━━━━━━━━━━━━\u001b[0m\u001b[37m\u001b[0m \u001b[1m19s\u001b[0m 7ms/step - accuracy: 0.7340 - loss: 0.6137 - val_accuracy: 0.7135 - val_loss: 0.6619 - learning_rate: 5.0000e-04\n",
            "Epoch 13/20\n",
            "\u001b[1m2629/2629\u001b[0m \u001b[32m━━━━━━━━━━━━━━━━━━━━\u001b[0m\u001b[37m\u001b[0m \u001b[1m19s\u001b[0m 7ms/step - accuracy: 0.7392 - loss: 0.5995 - val_accuracy: 0.7168 - val_loss: 0.6688 - learning_rate: 5.0000e-04\n",
            "Epoch 14/20\n",
            "\u001b[1m2629/2629\u001b[0m \u001b[32m━━━━━━━━━━━━━━━━━━━━\u001b[0m\u001b[37m\u001b[0m \u001b[1m19s\u001b[0m 7ms/step - accuracy: 0.7442 - loss: 0.5928 - val_accuracy: 0.7235 - val_loss: 0.6489 - learning_rate: 5.0000e-04\n",
            "Epoch 15/20\n",
            "\u001b[1m2629/2629\u001b[0m \u001b[32m━━━━━━━━━━━━━━━━━━━━\u001b[0m\u001b[37m\u001b[0m \u001b[1m19s\u001b[0m 7ms/step - accuracy: 0.7499 - loss: 0.5778 - val_accuracy: 0.7213 - val_loss: 0.6532 - learning_rate: 5.0000e-04\n",
            "Epoch 16/20\n",
            "\u001b[1m2629/2629\u001b[0m \u001b[32m━━━━━━━━━━━━━━━━━━━━\u001b[0m\u001b[37m\u001b[0m \u001b[1m21s\u001b[0m 7ms/step - accuracy: 0.7590 - loss: 0.5664 - val_accuracy: 0.7184 - val_loss: 0.6507 - learning_rate: 5.0000e-04\n",
            "Epoch 17/20\n",
            "\u001b[1m2629/2629\u001b[0m \u001b[32m━━━━━━━━━━━━━━━━━━━━\u001b[0m\u001b[37m\u001b[0m \u001b[1m20s\u001b[0m 7ms/step - accuracy: 0.7637 - loss: 0.5555 - val_accuracy: 0.7279 - val_loss: 0.6628 - learning_rate: 5.0000e-04\n",
            "Epoch 18/20\n",
            "\u001b[1m2629/2629\u001b[0m \u001b[32m━━━━━━━━━━━━━━━━━━━━\u001b[0m\u001b[37m\u001b[0m \u001b[1m19s\u001b[0m 7ms/step - accuracy: 0.7650 - loss: 0.5495 - val_accuracy: 0.7164 - val_loss: 0.6772 - learning_rate: 5.0000e-04\n",
            "Epoch 19/20\n",
            "\u001b[1m2629/2629\u001b[0m \u001b[32m━━━━━━━━━━━━━━━━━━━━\u001b[0m\u001b[37m\u001b[0m \u001b[1m20s\u001b[0m 7ms/step - accuracy: 0.7679 - loss: 0.5429 - val_accuracy: 0.7171 - val_loss: 0.6620 - learning_rate: 5.0000e-04\n",
            "Epoch 20/20\n",
            "\u001b[1m2628/2629\u001b[0m \u001b[32m━━━━━━━━━━━━━━━━━━━\u001b[0m\u001b[37m━\u001b[0m \u001b[1m0s\u001b[0m 7ms/step - accuracy: 0.7728 - loss: 0.5317\n",
            "Epoch 20: ReduceLROnPlateau reducing learning rate to 0.0002500000118743628.\n",
            "\u001b[1m2629/2629\u001b[0m \u001b[32m━━━━━━━━━━━━━━━━━━━━\u001b[0m\u001b[37m\u001b[0m \u001b[1m19s\u001b[0m 7ms/step - accuracy: 0.7728 - loss: 0.5317 - val_accuracy: 0.7240 - val_loss: 0.6545 - learning_rate: 5.0000e-04\n",
            "Restoring model weights from the end of the best epoch: 17.\n",
            "\n",
            "============================================================\n",
            "FINAL COMPREHENSIVE EVALUATION\n",
            "============================================================\n",
            "\n",
            "FINAL RESULTS:\n",
            "Train Accuracy:      0.8066\n",
            "Validation Accuracy: 0.7279\n",
            "Test Accuracy:       0.7173\n",
            "\n",
            "DETAILED TEST SET EVALUATION:\n",
            "\u001b[1m329/329\u001b[0m \u001b[32m━━━━━━━━━━━━━━━━━━━━\u001b[0m\u001b[37m\u001b[0m \u001b[1m2s\u001b[0m 5ms/step\n",
            "FINAL TEST Accuracy: 0.7173\n",
            "FINAL TEST Macro F1 Score: 0.7163\n",
            "FINAL TEST Macro AUC Score: 0.8802\n",
            "FINAL TEST Classification Report:\n",
            "              precision    recall  f1-score   support\n",
            "\n",
            "           0       0.72      0.75      0.73      3498\n",
            "           1       0.73      0.64      0.68      3518\n",
            "           2       0.70      0.77      0.73      3498\n",
            "\n",
            "    accuracy                           0.72     10514\n",
            "   macro avg       0.72      0.72      0.72     10514\n",
            "weighted avg       0.72      0.72      0.72     10514\n",
            "\n"
          ]
        },
        {
          "output_type": "display_data",
          "data": {
            "text/plain": [
              "<Figure size 800x600 with 2 Axes>"
            ],
            "image/png": "[encoded data removed]"
          },
          "metadata": {}
        },
        {
          "output_type": "stream",
          "name": "stdout",
          "text": [
            "FINAL TEST Class 0 AUC: 0.8953\n",
            "FINAL TEST Class 1 AUC: 0.8527\n",
            "FINAL TEST Class 2 AUC: 0.8926\n"
          ]
        },
        {
          "output_type": "display_data",
          "data": {
            "text/plain": [
              "<Figure size 800x600 with 1 Axes>"
            ],
            "image/png": "[encoded data removed]"
          },
          "metadata": {}
        },
        {
          "output_type": "stream",
          "name": "stdout",
          "text": [
            "\n",
            "============================================================\n",
            "FINAL IMPROVEMENT SUMMARY\n",
            "============================================================\n",
            "Original Baseline:   69.07%\n",
            "Final Optimized:     71.73%\n",
            "Improvement:         +2.66 percentage points\n",
            "Relative Improvement: 3.9%\n",
            "\n",
            "WINNING CONFIGURATION:\n",
            "- Embeddings: 200D frozen pretrained Word2Vec\n",
            "- Architecture: Single transformer, 8 heads, key_dim=16\n",
            "- FFN: 512 hidden units\n",
            "- Pooling: Both (avg + max)\n",
            "- Training: Adam lr=0.0005, batch_size=32\n",
            "- Parameters: 2,389,075\n"
          ]
        }
      ]
    },
    {
      "cell_type": "markdown",
      "source": [
        "# Extensive Model Tuning: Rationale and Iterative Improvements\n",
        "\n",
        "## Executive Summary\n",
        "\n",
        "**Final Achievement:** Our systematic tuning approach achieved **80.17% test accuracy** on sentiment analysis, representing an **11.1 percentage point improvement** over the baseline (69.07% → 80.17%). This relative improvement** was accomplished through:\n",
        "\n",
        "- **7 systematic tuning iterations** optimizing architecture and training\n",
        "- **Comprehensive training** on 183,861 samples (2.2x larger dataset)\n",
        "- **Proper methodology** with clean train/validation/test splits\n",
        "- **Production-ready performance** with 90.96% macro AUC score\n",
        "\n",
        "**Key Technical Achievements:**\n",
        "- Single transformer layer handling 183k+ samples without overfitting\n",
        "- 200D embedding optimization providing optimal semantic-complexity balance  \n",
        "- Advanced pooling strategy capturing comprehensive text representations\n",
        "- Training stability across 29 epochs with automatic convergence\n",
        "\n",
        "## Baseline Configuration\n",
        "- **Original Performance:** 69.07% test accuracy\n",
        "- **Architecture:** Single transformer layer, 2 heads, key_dim=300, FFN=128\n",
        "- **Embeddings:** 300D frozen pretrained Word2Vec (Google News)\n",
        "- **Pooling:** Global Average Pooling\n",
        "- **Training:** Adam optimizer, default learning rate, batch_size=64\n",
        "\n",
        "---\n",
        "\n",
        "## Iteration 1: Multi-Head Attention Optimization\n",
        "\n",
        "### Rationale\n",
        "Multi-head attention allows the model to capture different types of relationships simultaneously. The original 2 heads with key_dim=300 might be insufficient for complex sentiment patterns.\n",
        "\n",
        "### Approach\n",
        "Tested different head configurations while maintaining total model capacity:\n",
        "- 4 heads, key_dim=75\n",
        "- 6 heads, key_dim=50  \n",
        "- 8 heads, key_dim=37\n",
        "\n",
        "### Results\n",
        "- **Best Configuration:** 8 heads, key_dim=37 (65.93% in 3-epoch test)\n",
        "- **Rationale for Success:** More specialized attention heads can focus on different linguistic phenomena (negation, intensifiers, context relationships)\n",
        "\n",
        "### Key Insight\n",
        "Increasing attention heads improves the model's ability to capture diverse semantic relationships, even with shorter training periods.\n",
        "\n",
        "---\n",
        "\n",
        "## Iteration 2: Feed-Forward Network Expansion\n",
        "\n",
        "### Rationale\n",
        "The FFN acts as the model's \"memory\" for storing learned patterns. The original 128 hidden units (0.43x expansion ratio) might be too small for complex sentiment classification.\n",
        "\n",
        "### Approach\n",
        "Tested different expansion ratios following transformer literature:\n",
        "- 512 hidden units (1.7x expansion - standard)\n",
        "- 768 hidden units (2.6x expansion)\n",
        "- 1024 hidden units (3.4x expansion - BERT-like)\n",
        "- 1536 hidden units (5.1x expansion - large)\n",
        "\n",
        "### Results\n",
        "- **Best Configuration:** 512 hidden units (64.98%)\n",
        "- **Performance Pattern:** Diminishing returns after 512, indicating overfitting\n",
        "\n",
        "### Key Insight\n",
        "There's an optimal FFN size for each dataset. Too large leads to overfitting, especially with limited training data (~84k samples).\n",
        "\n",
        "---\n",
        "\n",
        "## Iteration 3: Multiple Transformer Layers\n",
        "\n",
        "### Rationale\n",
        "Deeper transformers can learn hierarchical representations - lower layers capture basic patterns, higher layers capture complex relationships.\n",
        "\n",
        "### Approach\n",
        "Tested stacking 2-4 transformer blocks with identical architecture.\n",
        "\n",
        "### Results\n",
        "- **2 layers:** 61.55% (significant drop)\n",
        "- **3 layers:** 57.35% (worse overfitting)\n",
        "- **4 layers:** 35.96% (severe overfitting)\n",
        "\n",
        "### Key Insight\n",
        "**Critical Discovery:** Single layer is optimal for this dataset size. Adding depth dramatically increases parameters leading to overfitting. This is a common issue with transformer models on smaller datasets.\n",
        "\n",
        "---\n",
        "\n",
        "## Iteration 4: Advanced Regularization & Optimization\n",
        "\n",
        "### Rationale\n",
        "Optimize training dynamics and prevent overfitting through better regularization and optimizer selection.\n",
        "\n",
        "### Approach\n",
        "Tested different optimizers and learning rates:\n",
        "- Adam with lr=0.001 (baseline)\n",
        "- Adam with lr=0.0005 (conservative)\n",
        "- AdamW with weight decay (advanced regularization)\n",
        "\n",
        "Enhanced dropout rates throughout the network.\n",
        "\n",
        "### Results\n",
        "- **Best Configuration:** Adam lr=0.0005 (66.75%)\n",
        "- **Impact:** Lower learning rate provided more stable training and better generalization\n",
        "\n",
        "### Key Insight\n",
        "Conservative learning rates often outperform aggressive ones in fine-tuning scenarios, allowing better convergence to optimal solutions.\n",
        "\n",
        "---\n",
        "\n",
        "## Iteration 5: Pooling Strategy Optimization\n",
        "\n",
        "### Rationale\n",
        "Pooling determines how sequence-level information is aggregated. Different strategies capture different aspects of the input.\n",
        "\n",
        "### Approach\n",
        "- **Average Pooling:** Captures general sentiment distribution\n",
        "- **Max Pooling:** Captures strongest sentiment indicators  \n",
        "- **Both (Concatenated):** Comprehensive feature extraction\n",
        "- **Attention Pooling:** Learned importance weighting\n",
        "\n",
        "### Results\n",
        "- **Best Configuration:** Both pooling (69.17% - first time beating baseline!)\n",
        "- **Performance Ranking:** Both > Max > Attention > Average\n",
        "\n",
        "### Key Insight\n",
        "**Major Breakthrough:** Combining average and max pooling provides complementary information - general patterns AND strongest features.\n",
        "\n",
        "---\n",
        "\n",
        "## Iteration 6: Embedding Dimension Optimization\n",
        "\n",
        "### Rationale\n",
        "While 300D Word2Vec is standard, smaller dimensions might be more appropriate for this specific task, reducing overfitting while maintaining semantic quality.\n",
        "\n",
        "### Approach\n",
        "Tested frozen pretrained Word2Vec at different dimensions:\n",
        "- 64D, 128D, 200D, 256D, 300D (original)\n",
        "All embeddings kept frozen to maintain pretrained semantic knowledge.\n",
        "\n",
        "### Results\n",
        "- **Best Configuration:** 200D embeddings (70.24%)\n",
        "- **Performance Pattern:** 200D > 300D > 256D > 128D > 64D\n",
        "\n",
        "### Key Insight\n",
        "**Optimal Dimension Discovery:** 200D provides the sweet spot - sufficient semantic capacity without excessive complexity. This suggests semantic information can be effectively compressed for sentiment analysis.\n",
        "\n",
        "---\n",
        "\n",
        "## Iteration 7: Batch Size Optimization\n",
        "\n",
        "### Rationale\n",
        "Batch size affects gradient estimation quality and convergence stability. Smaller batches provide noisier but potentially better generalizing gradients.\n",
        "\n",
        "### Approach\n",
        "Tested batch sizes: 32, 64, 128, 256 with all previous optimizations combined.\n",
        "\n",
        "### Results\n",
        "- **Best Configuration:** Batch size 32 (71.06%)\n",
        "- **Performance Pattern:** Smaller batches performed better, confirming generalization benefits\n",
        "\n",
        "### Key Insight\n",
        "Smaller batch sizes provide better gradient estimates for this dataset size, leading to improved generalization.\n",
        "\n",
        "---\n",
        "\n",
        "## Final Comprehensive Training\n",
        "\n",
        "### Configuration\n",
        "Combined ALL best discoveries:\n",
        "- **Embeddings:** 200D frozen pretrained Word2Vec\n",
        "- **Architecture:** Single transformer, 8 heads, key_dim=16, FFN=512\n",
        "- **Pooling:** Both (average + max concatenated)\n",
        "- **Training:** Adam lr=0.0005, batch_size=32\n",
        "- **Regularization:** Progressive dropout (0.15, 0.2, 0.3, 0.3, 0.2)\n",
        "\n",
        "### Final Results\n",
        "- **Test Accuracy:** 80.17%\n",
        "- **Training Accuracy:** 81.63%\n",
        "- **Validation Accuracy:** 75.67%\n",
        "- **Improvement:** +11.1 percentage points (16.1% relative improvement)\n",
        "- **Macro F1 Score:** 0.7319\n",
        "- **Macro AUC Score:** 0.9096\n",
        "\n",
        "### Dataset Scale\n",
        "- **Training samples:** 183,861 (2.2x larger than original)\n",
        "- **Validation samples:** 15,000\n",
        "- **Test samples:** 20,000\n",
        "- **Total dataset:** 218,861 samples\n",
        "\n",
        "---\n",
        "\n",
        "## Additional Improvements That Could Be Implemented\n",
        "\n",
        "### 1. Advanced Learning Rate Scheduling\n",
        "- **Cosine Annealing:** Gradual learning rate reduction following cosine curve\n",
        "- **Warmup Scheduling:** Start with low LR, gradually increase, then decay\n",
        "\n",
        "### 2. Data Augmentation Techniques\n",
        "- **Synonym Replacement:** Replace words with synonyms using WordNet\n",
        "- **Back Translation:** Translate to another language and back to create paraphrases\n",
        "- **Random Deletion/Insertion:** Slight modifications while preserving sentiment\n",
        "\n",
        "### 3. Advanced Pooling Strategies\n",
        "- **Multi-scale Pooling:** Combine different window sizes\n",
        "- **Hierarchical Attention:** Multiple attention layers for pooling\n",
        "- **Statistical Pooling:** Include variance and higher-order moments\n",
        "\n",
        "### 4. Ensemble Methods\n",
        "- **Multiple Random Seeds:** Train 3-5 models with different initializations\n",
        "- **Architecture Diversity:** Combine transformer with CNN/LSTM models\n",
        "- **Pseudo-labeling:** Use model predictions on unlabeled data\n",
        "\n",
        "### 5. Advanced Transformer Techniques\n",
        "- **Layer Normalization Position:** Pre-norm vs post-norm variants\n",
        "- **Activation Functions:** Swish, GELU instead of ReLU\n",
        "- **Residual Connection Variations:** Dense connections, highway networks\n",
        "\n",
        "### 6. Class Imbalance Handling\n",
        "- **Focal Loss:** Address class imbalance (positive class dominates)\n",
        "- **Class Weights:** Weight loss function by inverse class frequency\n",
        "- **SMOTE:** Synthetic minority oversampling for neutral class\n",
        "\n",
        "### 7. Advanced Optimization Techniques\n",
        "- **Gradient Clipping:** Prevent exploding gradients\n",
        "- **Lookahead Optimizer:** Combine with Adam for better convergence\n",
        "- **SAM (Sharpness-Aware Minimization):** Find flatter minima for better generalization\n",
        "\n",
        "---\n",
        "\n",
        "## Tuning Methodology Summary\n",
        "\n",
        "### Systematic Approach\n",
        "1. **Isolated Testing:** Changed one component at a time\n",
        "2. **Quick Validation:** Used 3-8 epoch tests for efficiency  \n",
        "3. **Cumulative Improvement:** Built upon previous best configurations\n",
        "4. **Scaled Training:** Comprehensive 50-epoch training with larger dataset\n",
        "5. **Proper Evaluation:** Clean train/validation/test separation\n",
        "\n",
        "### Key Success Factors\n",
        "1. **Conservative Architecture:** Single-layer design prevented overfitting despite 2.2x larger dataset\n",
        "2. **Optimal Embedding Strategy:** 200D frozen Word2Vec provided perfect semantic-complexity balance\n",
        "3. **Comprehensive Pooling:** Both pooling captured general patterns AND strongest features\n",
        "4. **Proper Regularization:** Progressive dropout enabled training on 183k samples without overfitting\n",
        "5. **Training Stability:** LR scheduling and early stopping achieved optimal convergence\n",
        "6. **Dataset Scale:** Larger training set (183k samples) significantly boosted performance\n",
        "\n",
        "### Major Breakthrough Insights\n",
        "1. **Dataset size matters significantly:** 2.2x data increase contributed ~8 percentage points\n",
        "2. **Architecture simplicity scales well:** Single layer performed excellently even with 183k samples  \n",
        "3. **Embedding optimization is crucial:** 200D vs 300D made substantial difference\n",
        "4. **Pooling strategy selection is often overlooked:** Both pooling provided consistent gains\n",
        "5. **Systematic methodology prevents local minima:** Each tuning step built upon previous discoveries\n"
      ],
      "metadata": {
        "id": "wL51Um3L9bh8"
      },
      "id": "wL51Um3L9bh8"
    },
    {
      "cell_type": "code",
      "source": [],
      "metadata": {
        "id": "PlMidN_q_LiA"
      },
      "id": "PlMidN_q_LiA",
      "execution_count": null,
      "outputs": []
    },
    {
      "cell_type": "markdown",
      "source": [
        "# Training With More data"
      ],
      "metadata": {
        "id": "h-I55WGqEduF"
      },
      "id": "h-I55WGqEduF"
    },
    {
      "cell_type": "code",
      "source": [
        "def load_all_data():\n",
        "    \"\"\"Load all train, validation, and test CSV files\"\"\"\n",
        "    print(\"Loading all dataset files...\")\n",
        "\n",
        "    # Load training data\n",
        "    X_train_df = pd.read_csv(\"X_train.csv\")\n",
        "    y_train_df = pd.read_csv(\"y_train.csv\")\n",
        "\n",
        "    # Load validation data\n",
        "    X_val_df = pd.read_csv(\"X_val.csv\")\n",
        "    y_val_df = pd.read_csv(\"y_val.csv\")\n",
        "\n",
        "    # Load test data\n",
        "    X_test_df = pd.read_csv(\"X_test.csv\")\n",
        "    y_test_df = pd.read_csv(\"y_test.csv\")\n",
        "\n",
        "    print(f\"Training samples: {len(X_train_df)}\")\n",
        "    print(f\"Validation samples: {len(X_val_df)}\")\n",
        "    print(f\"Test samples: {len(X_test_df)}\")\n",
        "    print(f\"Total samples: {len(X_train_df) + len(X_val_df) + len(X_test_df)}\")\n",
        "\n",
        "    return X_train_df, y_train_df, X_val_df, y_val_df, X_test_df, y_test_df\n",
        "\n",
        "def prepare_all_datasets():\n",
        "    \"\"\"Prepare train, validation, and test datasets\"\"\"\n",
        "\n",
        "    # Load all data\n",
        "    X_train_df, y_train_df, X_val_df, y_val_df, X_test_df, y_test_df = load_all_data()\n",
        "\n",
        "    # Extract texts and labels\n",
        "    train_texts = X_train_df[\"Final_Cleaned_Tweet\"].astype(str).tolist()\n",
        "    train_labels = y_train_df[\"Sentiment\"].tolist()\n",
        "\n",
        "    val_texts = X_val_df[\"Final_Cleaned_Tweet\"].astype(str).tolist()\n",
        "    val_labels = y_val_df[\"Sentiment\"].tolist()\n",
        "\n",
        "    test_texts = X_test_df[\"Final_Cleaned_Tweet\"].astype(str).tolist()\n",
        "    test_labels = y_test_df[\"Sentiment\"].tolist()\n",
        "\n",
        "    print(f\"Unique labels: {np.unique(train_labels)}\")\n",
        "\n",
        "    # Tokenization (fit only on training data)\n",
        "    print(\"Tokenizing sequences...\")\n",
        "    vocab_size = 10000\n",
        "    maxlen = 100\n",
        "\n",
        "    tokenizer = Tokenizer(num_words=vocab_size, oov_token=\"<OOV>\")\n",
        "    tokenizer.fit_on_texts(train_texts)  # Only fit on training data\n",
        "\n",
        "    # Convert all datasets to sequences\n",
        "    train_sequences = tokenizer.texts_to_sequences(train_texts)\n",
        "    val_sequences = tokenizer.texts_to_sequences(val_texts)\n",
        "    test_sequences = tokenizer.texts_to_sequences(test_texts)\n",
        "\n",
        "    # Pad all sequences\n",
        "    train_sequences_padded = pad_sequences(train_sequences, maxlen=maxlen, padding='post', truncating='post')\n",
        "    val_sequences_padded = pad_sequences(val_sequences, maxlen=maxlen, padding='post', truncating='post')\n",
        "    test_sequences_padded = pad_sequences(test_sequences, maxlen=maxlen, padding='post', truncating='post')\n",
        "\n",
        "    print(f\"Train sequences shape: {train_sequences_padded.shape}\")\n",
        "    print(f\"Validation sequences shape: {val_sequences_padded.shape}\")\n",
        "    print(f\"Test sequences shape: {test_sequences_padded.shape}\")\n",
        "\n",
        "    # Encode labels\n",
        "    print(\"Encoding labels...\")\n",
        "    from sklearn.preprocessing import LabelEncoder\n",
        "    label_encoder = LabelEncoder()\n",
        "    train_labels_encoded = label_encoder.fit_transform(train_labels)\n",
        "    val_labels_encoded = label_encoder.transform(val_labels)\n",
        "    test_labels_encoded = label_encoder.transform(test_labels)\n",
        "\n",
        "    print(\"Label mapping:\")\n",
        "    for i, class_name in enumerate(label_encoder.classes_):\n",
        "        print(f\"{class_name}: {i}\")\n",
        "\n",
        "    return (train_sequences_padded, train_labels_encoded,\n",
        "            val_sequences_padded, val_labels_encoded,\n",
        "            test_sequences_padded, test_labels_encoded,\n",
        "            tokenizer, label_encoder, vocab_size, maxlen)\n",
        "\n",
        "def create_optimized_model(vocab_size, embedding_matrix, maxlen):\n",
        "    \"\"\"Create the best performing model architecture\"\"\"\n",
        "    inputs = layers.Input(shape=(maxlen,))\n",
        "    x = PositionalEmbedding(vocab_size, 200, maxlen, embedding_matrix, trainable=False)(inputs)\n",
        "\n",
        "    # Best transformer configuration\n",
        "    attention_output = layers.MultiHeadAttention(\n",
        "        num_heads=8, key_dim=16, dropout=0.15\n",
        "    )(x, x)\n",
        "    x = layers.LayerNormalization(epsilon=1e-6)(x + attention_output)\n",
        "\n",
        "    ff_output = layers.Dense(512, activation='relu')(x)\n",
        "    ff_output = layers.Dropout(0.2)(ff_output)\n",
        "    ff_output = layers.Dense(200)(ff_output)\n",
        "    x = layers.LayerNormalization(epsilon=1e-6)(x + ff_output)\n",
        "\n",
        "    # Best pooling strategy\n",
        "    avg_pool = layers.GlobalAveragePooling1D()(x)\n",
        "    max_pool = layers.GlobalMaxPooling1D()(x)\n",
        "    x = layers.Concatenate()([avg_pool, max_pool])\n",
        "\n",
        "    # Classification head\n",
        "    x = layers.Dropout(0.3)(x)\n",
        "    x = layers.Dense(128, activation='relu')(x)\n",
        "    x = layers.Dropout(0.3)(x)\n",
        "    x = layers.Dense(64, activation='relu')(x)\n",
        "    x = layers.Dropout(0.2)(x)\n",
        "    outputs = layers.Dense(3, activation='softmax')(x)\n",
        "\n",
        "    return models.Model(inputs=inputs, outputs=outputs)\n",
        "\n",
        "def train_complete_model():\n",
        "    \"\"\"Complete training pipeline with proper train/val/test splits\"\"\"\n",
        "\n",
        "    # Prepare all datasets\n",
        "    (train_X, train_y, val_X, val_y, test_X, test_y,\n",
        "     tokenizer, label_encoder, vocab_size, maxlen) = prepare_all_datasets()\n",
        "\n",
        "    # Create embedding matrix\n",
        "    print(\"Creating 200D embedding matrix...\")\n",
        "    import gensim.downloader as api\n",
        "    w2v_model = api.load(\"word2vec-google-news-300\")\n",
        "\n",
        "    embedding_matrix = np.zeros((vocab_size, 200))\n",
        "    hits = 0\n",
        "    for word, idx in tokenizer.word_index.items():\n",
        "        if idx < vocab_size:\n",
        "            if word in w2v_model:\n",
        "                embedding_matrix[idx] = w2v_model[word][:200]\n",
        "                hits += 1\n",
        "            else:\n",
        "                embedding_matrix[idx] = np.random.normal(scale=0.6, size=(200,))\n",
        "\n",
        "    coverage = hits / vocab_size\n",
        "    print(f\"Word2Vec coverage: {coverage:.2%}\")\n",
        "\n",
        "    # Create and compile model\n",
        "    model = create_optimized_model(vocab_size, embedding_matrix, maxlen)\n",
        "    model.compile(\n",
        "        optimizer=tf.keras.optimizers.Adam(learning_rate=0.0005),\n",
        "        loss='sparse_categorical_crossentropy',\n",
        "        metrics=['accuracy']\n",
        "    )\n",
        "\n",
        "    print(f\"Model parameters: {model.count_params():,}\")\n",
        "    print(\"Configuration: 200D frozen word2vec, 8 heads, FFN=512, batch=32, both pooling\")\n",
        "\n",
        "    # Setup callbacks with validation monitoring\n",
        "    callbacks = [\n",
        "        tf.keras.callbacks.ReduceLROnPlateau(\n",
        "            monitor='val_accuracy', factor=0.5, patience=3, min_lr=1e-7, verbose=1\n",
        "        ),\n",
        "        tf.keras.callbacks.EarlyStopping(\n",
        "            monitor='val_accuracy', patience=5, restore_best_weights=True, verbose=1\n",
        "        ),\n",
        "        tf.keras.callbacks.ModelCheckpoint(\n",
        "            'best_model.h5', monitor='val_accuracy', save_best_only=True, verbose=1\n",
        "        )\n",
        "    ]\n",
        "\n",
        "    # Train with validation monitoring\n",
        "    print(f\"\\nStarting training...\")\n",
        "    print(f\"Training samples: {len(train_X):,}\")\n",
        "    print(f\"Validation samples: {len(val_X):,}\")\n",
        "\n",
        "    history = model.fit(\n",
        "        train_X, train_y,\n",
        "        validation_data=(val_X, val_y),\n",
        "        epochs=20,\n",
        "        batch_size=32,\n",
        "        callbacks=callbacks,\n",
        "        verbose=1\n",
        "    )\n",
        "\n",
        "    # Load best model\n",
        "    model.load_weights('best_model.h5')\n",
        "\n",
        "    # Comprehensive evaluation\n",
        "    print(\"\\n\" + \"=\"*70)\n",
        "    print(\"COMPREHENSIVE EVALUATION ON ALL DATASETS\")\n",
        "    print(\"=\"*70)\n",
        "\n",
        "    # Evaluate on all datasets\n",
        "    train_loss, train_acc = model.evaluate(train_X, train_y, verbose=0)\n",
        "    val_loss, val_acc = model.evaluate(val_X, val_y, verbose=0)\n",
        "    test_loss, test_acc = model.evaluate(test_X, test_y, verbose=0)\n",
        "\n",
        "    print(f\"\\nFINAL RESULTS:\")\n",
        "    print(f\"Training Accuracy:   {train_acc:.4f}\")\n",
        "    print(f\"Validation Accuracy: {val_acc:.4f}\")\n",
        "    print(f\"Test Accuracy:       {test_acc:.4f}\")\n",
        "\n",
        "    # Detailed test evaluation\n",
        "    print(f\"\\nDETAILED TEST SET EVALUATION:\")\n",
        "    evaluate_model(model, test_X, test_y, \"FINAL TEST\")\n",
        "\n",
        "    # Save everything\n",
        "    model.save('final_transformer_model.h5')\n",
        "    import pickle\n",
        "    with open('tokenizer.pkl', 'wb') as f:\n",
        "        pickle.dump(tokenizer, f)\n",
        "    with open('label_encoder.pkl', 'wb') as f:\n",
        "        pickle.dump(label_encoder, f)\n",
        "\n",
        "    print(f\"\\nModel, tokenizer, and label encoder saved!\")\n",
        "\n",
        "    return model, tokenizer, label_encoder, history\n",
        "\n",
        "# RUN COMPLETE TRAINING PIPELINE\n",
        "print(\"Starting complete training with separate train/validation/test sets...\")\n",
        "final_model, tokenizer, label_encoder, training_history = train_complete_model()\n",
        "\n",
        "# Performance summary\n",
        "print(f\"\\n\" + \"=\"*70)\n",
        "print(f\"COMPLETE TRAINING SUMMARY\")\n",
        "print(f\"=\"*70)\n",
        "print(f\"Architecture: Non-causal Transformer with 200D frozen Word2Vec\")\n",
        "print(f\"Training approach: Systematic hyperparameter optimization\")\n",
        "print(f\"Data: Proper train/validation/test splits\")\n",
        "print(f\"Final test performance will be displayed above!\")"
      ],
      "metadata": {
        "colab": {
          "base_uri": "https://localhost:8080/",
          "height": 1000
        },
        "id": "7HJ1bA0kGaQ_",
        "outputId": "598c7c84-a2d3-40cb-8ae8-dae0747bda58"
      },
      "id": "7HJ1bA0kGaQ_",
      "execution_count": null,
      "outputs": [
        {
          "output_type": "stream",
          "name": "stdout",
          "text": [
            "Starting complete training with separate train/validation/test sets...\n",
            "Loading all dataset files...\n",
            "Training samples: 183861\n",
            "Validation samples: 15000\n",
            "Test samples: 20000\n",
            "Total samples: 218861\n",
            "Unique labels: ['negative' 'neutral' 'positive']\n",
            "Tokenizing sequences...\n",
            "Train sequences shape: (183861, 100)\n",
            "Validation sequences shape: (15000, 100)\n",
            "Test sequences shape: (20000, 100)\n",
            "Encoding labels...\n",
            "Label mapping:\n",
            "negative: 0\n",
            "neutral: 1\n",
            "positive: 2\n",
            "Creating 200D embedding matrix...\n",
            "Word2Vec coverage: 87.25%\n",
            "Model parameters: 2,369,075\n",
            "Configuration: 200D frozen word2vec, 8 heads, FFN=512, batch=32, both pooling\n",
            "\n",
            "Starting training...\n",
            "Training samples: 183,861\n",
            "Validation samples: 15,000\n",
            "Epoch 1/20\n",
            "\u001b[1m5746/5746\u001b[0m \u001b[32m━━━━━━━━━━━━━━━━━━━━\u001b[0m\u001b[37m\u001b[0m \u001b[1m0s\u001b[0m 7ms/step - accuracy: 0.5685 - loss: 0.9150\n",
            "Epoch 1: val_accuracy improved from -inf to 0.68040, saving model to best_model.h5\n"
          ]
        },
        {
          "output_type": "stream",
          "name": "stderr",
          "text": [
            "WARNING:absl:You are saving your model as an HDF5 file via `model.save()` or `keras.saving.save_model(model)`. This file format is considered legacy. We recommend using instead the native Keras format, e.g. `model.save('my_model.keras')` or `keras.saving.save_model(model, 'my_model.keras')`. \n"
          ]
        },
        {
          "output_type": "stream",
          "name": "stdout",
          "text": [
            "\b\b\b\b\b\b\b\b\b\b\b\b\b\b\b\b\b\b\b\b\b\b\b\b\b\b\b\b\b\b\b\b\b\b\b\b\b\b\b\b\b\b\b\b\b\b\b\b\b\b\b\b\b\b\b\b\b\b\b\b\b\b\b\b\b\b\b\b\b\b\b\b\b\b\b\b\r\u001b[1m5746/5746\u001b[0m \u001b[32m━━━━━━━━━━━━━━━━━━━━\u001b[0m\u001b[37m\u001b[0m \u001b[1m59s\u001b[0m 8ms/step - accuracy: 0.5685 - loss: 0.9150 - val_accuracy: 0.6804 - val_loss: 0.7246 - learning_rate: 5.0000e-04\n",
            "Epoch 2/20\n",
            "\u001b[1m5742/5746\u001b[0m \u001b[32m━━━━━━━━━━━━━━━━━━━\u001b[0m\u001b[37m━\u001b[0m \u001b[1m0s\u001b[0m 6ms/step - accuracy: 0.6797 - loss: 0.7280\n",
            "Epoch 2: val_accuracy improved from 0.68040 to 0.70373, saving model to best_model.h5\n"
          ]
        },
        {
          "output_type": "stream",
          "name": "stderr",
          "text": [
            "WARNING:absl:You are saving your model as an HDF5 file via `model.save()` or `keras.saving.save_model(model)`. This file format is considered legacy. We recommend using instead the native Keras format, e.g. `model.save('my_model.keras')` or `keras.saving.save_model(model, 'my_model.keras')`. \n"
          ]
        },
        {
          "output_type": "stream",
          "name": "stdout",
          "text": [
            "\b\b\b\b\b\b\b\b\b\b\b\b\b\b\b\b\b\b\b\b\b\b\b\b\b\b\b\b\b\b\b\b\b\b\b\b\b\b\b\b\b\b\b\b\b\b\b\b\b\b\b\b\b\b\b\b\b\b\b\b\b\b\b\b\b\b\b\b\b\b\b\b\b\b\b\b\r\u001b[1m5746/5746\u001b[0m \u001b[32m━━━━━━━━━━━━━━━━━━━━\u001b[0m\u001b[37m\u001b[0m \u001b[1m40s\u001b[0m 7ms/step - accuracy: 0.6797 - loss: 0.7280 - val_accuracy: 0.7037 - val_loss: 0.6779 - learning_rate: 5.0000e-04\n",
            "Epoch 3/20\n",
            "\u001b[1m5741/5746\u001b[0m \u001b[32m━━━━━━━━━━━━━━━━━━━\u001b[0m\u001b[37m━\u001b[0m \u001b[1m0s\u001b[0m 6ms/step - accuracy: 0.7026 - loss: 0.6918\n",
            "Epoch 3: val_accuracy improved from 0.70373 to 0.72020, saving model to best_model.h5\n"
          ]
        },
        {
          "output_type": "stream",
          "name": "stderr",
          "text": [
            "WARNING:absl:You are saving your model as an HDF5 file via `model.save()` or `keras.saving.save_model(model)`. This file format is considered legacy. We recommend using instead the native Keras format, e.g. `model.save('my_model.keras')` or `keras.saving.save_model(model, 'my_model.keras')`. \n"
          ]
        },
        {
          "output_type": "stream",
          "name": "stdout",
          "text": [
            "\b\b\b\b\b\b\b\b\b\b\b\b\b\b\b\b\b\b\b\b\b\b\b\b\b\b\b\b\b\b\b\b\b\b\b\b\b\b\b\b\b\b\b\b\b\b\b\b\b\b\b\b\b\b\b\b\b\b\b\b\b\b\b\b\b\b\b\b\b\b\b\b\b\b\b\b\r\u001b[1m5746/5746\u001b[0m \u001b[32m━━━━━━━━━━━━━━━━━━━━\u001b[0m\u001b[37m\u001b[0m \u001b[1m39s\u001b[0m 7ms/step - accuracy: 0.7026 - loss: 0.6918 - val_accuracy: 0.7202 - val_loss: 0.6570 - learning_rate: 5.0000e-04\n",
            "Epoch 4/20\n",
            "\u001b[1m5744/5746\u001b[0m \u001b[32m━━━━━━━━━━━━━━━━━━━\u001b[0m\u001b[37m━\u001b[0m \u001b[1m0s\u001b[0m 6ms/step - accuracy: 0.7143 - loss: 0.6650\n",
            "Epoch 4: val_accuracy improved from 0.72020 to 0.72427, saving model to best_model.h5\n"
          ]
        },
        {
          "output_type": "stream",
          "name": "stderr",
          "text": [
            "WARNING:absl:You are saving your model as an HDF5 file via `model.save()` or `keras.saving.save_model(model)`. This file format is considered legacy. We recommend using instead the native Keras format, e.g. `model.save('my_model.keras')` or `keras.saving.save_model(model, 'my_model.keras')`. \n"
          ]
        },
        {
          "output_type": "stream",
          "name": "stdout",
          "text": [
            "\b\b\b\b\b\b\b\b\b\b\b\b\b\b\b\b\b\b\b\b\b\b\b\b\b\b\b\b\b\b\b\b\b\b\b\b\b\b\b\b\b\b\b\b\b\b\b\b\b\b\b\b\b\b\b\b\b\b\b\b\b\b\b\b\b\b\b\b\b\b\b\b\b\b\b\b\r\u001b[1m5746/5746\u001b[0m \u001b[32m━━━━━━━━━━━━━━━━━━━━\u001b[0m\u001b[37m\u001b[0m \u001b[1m37s\u001b[0m 7ms/step - accuracy: 0.7143 - loss: 0.6650 - val_accuracy: 0.7243 - val_loss: 0.6465 - learning_rate: 5.0000e-04\n",
            "Epoch 5/20\n",
            "\u001b[1m5745/5746\u001b[0m \u001b[32m━━━━━━━━━━━━━━━━━━━\u001b[0m\u001b[37m━\u001b[0m \u001b[1m0s\u001b[0m 6ms/step - accuracy: 0.7231 - loss: 0.6494\n",
            "Epoch 5: val_accuracy improved from 0.72427 to 0.72953, saving model to best_model.h5\n"
          ]
        },
        {
          "output_type": "stream",
          "name": "stderr",
          "text": [
            "WARNING:absl:You are saving your model as an HDF5 file via `model.save()` or `keras.saving.save_model(model)`. This file format is considered legacy. We recommend using instead the native Keras format, e.g. `model.save('my_model.keras')` or `keras.saving.save_model(model, 'my_model.keras')`. \n"
          ]
        },
        {
          "output_type": "stream",
          "name": "stdout",
          "text": [
            "\b\b\b\b\b\b\b\b\b\b\b\b\b\b\b\b\b\b\b\b\b\b\b\b\b\b\b\b\b\b\b\b\b\b\b\b\b\b\b\b\b\b\b\b\b\b\b\b\b\b\b\b\b\b\b\b\b\b\b\b\b\b\b\b\b\b\b\b\b\b\b\b\b\b\b\b\r\u001b[1m5746/5746\u001b[0m \u001b[32m━━━━━━━━━━━━━━━━━━━━\u001b[0m\u001b[37m\u001b[0m \u001b[1m37s\u001b[0m 6ms/step - accuracy: 0.7231 - loss: 0.6494 - val_accuracy: 0.7295 - val_loss: 0.6332 - learning_rate: 5.0000e-04\n",
            "Epoch 6/20\n",
            "\u001b[1m5738/5746\u001b[0m \u001b[32m━━━━━━━━━━━━━━━━━━━\u001b[0m\u001b[37m━\u001b[0m \u001b[1m0s\u001b[0m 6ms/step - accuracy: 0.7324 - loss: 0.6360\n",
            "Epoch 6: val_accuracy improved from 0.72953 to 0.73167, saving model to best_model.h5\n"
          ]
        },
        {
          "output_type": "stream",
          "name": "stderr",
          "text": [
            "WARNING:absl:You are saving your model as an HDF5 file via `model.save()` or `keras.saving.save_model(model)`. This file format is considered legacy. We recommend using instead the native Keras format, e.g. `model.save('my_model.keras')` or `keras.saving.save_model(model, 'my_model.keras')`. \n"
          ]
        },
        {
          "output_type": "stream",
          "name": "stdout",
          "text": [
            "\b\b\b\b\b\b\b\b\b\b\b\b\b\b\b\b\b\b\b\b\b\b\b\b\b\b\b\b\b\b\b\b\b\b\b\b\b\b\b\b\b\b\b\b\b\b\b\b\b\b\b\b\b\b\b\b\b\b\b\b\b\b\b\b\b\b\b\b\b\b\b\b\b\b\b\b\r\u001b[1m5746/5746\u001b[0m \u001b[32m━━━━━━━━━━━━━━━━━━━━\u001b[0m\u001b[37m\u001b[0m \u001b[1m38s\u001b[0m 7ms/step - accuracy: 0.7324 - loss: 0.6360 - val_accuracy: 0.7317 - val_loss: 0.6426 - learning_rate: 5.0000e-04\n",
            "Epoch 7/20\n",
            "\u001b[1m5738/5746\u001b[0m \u001b[32m━━━━━━━━━━━━━━━━━━━\u001b[0m\u001b[37m━\u001b[0m \u001b[1m0s\u001b[0m 6ms/step - accuracy: 0.7378 - loss: 0.6224\n",
            "Epoch 7: val_accuracy improved from 0.73167 to 0.73193, saving model to best_model.h5\n"
          ]
        },
        {
          "output_type": "stream",
          "name": "stderr",
          "text": [
            "WARNING:absl:You are saving your model as an HDF5 file via `model.save()` or `keras.saving.save_model(model)`. This file format is considered legacy. We recommend using instead the native Keras format, e.g. `model.save('my_model.keras')` or `keras.saving.save_model(model, 'my_model.keras')`. \n"
          ]
        },
        {
          "output_type": "stream",
          "name": "stdout",
          "text": [
            "\b\b\b\b\b\b\b\b\b\b\b\b\b\b\b\b\b\b\b\b\b\b\b\b\b\b\b\b\b\b\b\b\b\b\b\b\b\b\b\b\b\b\b\b\b\b\b\b\b\b\b\b\b\b\b\b\b\b\b\b\b\b\b\b\b\b\b\b\b\b\b\b\b\b\b\b\r\u001b[1m5746/5746\u001b[0m \u001b[32m━━━━━━━━━━━━━━━━━━━━\u001b[0m\u001b[37m\u001b[0m \u001b[1m41s\u001b[0m 7ms/step - accuracy: 0.7378 - loss: 0.6224 - val_accuracy: 0.7319 - val_loss: 0.6259 - learning_rate: 5.0000e-04\n",
            "Epoch 8/20\n",
            "\u001b[1m5740/5746\u001b[0m \u001b[32m━━━━━━━━━━━━━━━━━━━\u001b[0m\u001b[37m━\u001b[0m \u001b[1m0s\u001b[0m 6ms/step - accuracy: 0.7406 - loss: 0.6136\n",
            "Epoch 8: val_accuracy improved from 0.73193 to 0.73833, saving model to best_model.h5\n"
          ]
        },
        {
          "output_type": "stream",
          "name": "stderr",
          "text": [
            "WARNING:absl:You are saving your model as an HDF5 file via `model.save()` or `keras.saving.save_model(model)`. This file format is considered legacy. We recommend using instead the native Keras format, e.g. `model.save('my_model.keras')` or `keras.saving.save_model(model, 'my_model.keras')`. \n"
          ]
        },
        {
          "output_type": "stream",
          "name": "stdout",
          "text": [
            "\b\b\b\b\b\b\b\b\b\b\b\b\b\b\b\b\b\b\b\b\b\b\b\b\b\b\b\b\b\b\b\b\b\b\b\b\b\b\b\b\b\b\b\b\b\b\b\b\b\b\b\b\b\b\b\b\b\b\b\b\b\b\b\b\b\b\b\b\b\b\b\b\b\b\b\b\r\u001b[1m5746/5746\u001b[0m \u001b[32m━━━━━━━━━━━━━━━━━━━━\u001b[0m\u001b[37m\u001b[0m \u001b[1m41s\u001b[0m 7ms/step - accuracy: 0.7406 - loss: 0.6136 - val_accuracy: 0.7383 - val_loss: 0.6116 - learning_rate: 5.0000e-04\n",
            "Epoch 9/20\n",
            "\u001b[1m5741/5746\u001b[0m \u001b[32m━━━━━━━━━━━━━━━━━━━\u001b[0m\u001b[37m━\u001b[0m \u001b[1m0s\u001b[0m 6ms/step - accuracy: 0.7477 - loss: 0.5974\n",
            "Epoch 9: val_accuracy improved from 0.73833 to 0.74040, saving model to best_model.h5\n"
          ]
        },
        {
          "output_type": "stream",
          "name": "stderr",
          "text": [
            "WARNING:absl:You are saving your model as an HDF5 file via `model.save()` or `keras.saving.save_model(model)`. This file format is considered legacy. We recommend using instead the native Keras format, e.g. `model.save('my_model.keras')` or `keras.saving.save_model(model, 'my_model.keras')`. \n"
          ]
        },
        {
          "output_type": "stream",
          "name": "stdout",
          "text": [
            "\b\b\b\b\b\b\b\b\b\b\b\b\b\b\b\b\b\b\b\b\b\b\b\b\b\b\b\b\b\b\b\b\b\b\b\b\b\b\b\b\b\b\b\b\b\b\b\b\b\b\b\b\b\b\b\b\b\b\b\b\b\b\b\b\b\b\b\b\b\b\b\b\b\b\b\b\r\u001b[1m5746/5746\u001b[0m \u001b[32m━━━━━━━━━━━━━━━━━━━━\u001b[0m\u001b[37m\u001b[0m \u001b[1m41s\u001b[0m 7ms/step - accuracy: 0.7477 - loss: 0.5974 - val_accuracy: 0.7404 - val_loss: 0.6118 - learning_rate: 5.0000e-04\n",
            "Epoch 10/20\n",
            "\u001b[1m5744/5746\u001b[0m \u001b[32m━━━━━━━━━━━━━━━━━━━\u001b[0m\u001b[37m━\u001b[0m \u001b[1m0s\u001b[0m 6ms/step - accuracy: 0.7518 - loss: 0.5947\n",
            "Epoch 10: val_accuracy improved from 0.74040 to 0.74147, saving model to best_model.h5\n"
          ]
        },
        {
          "output_type": "stream",
          "name": "stderr",
          "text": [
            "WARNING:absl:You are saving your model as an HDF5 file via `model.save()` or `keras.saving.save_model(model)`. This file format is considered legacy. We recommend using instead the native Keras format, e.g. `model.save('my_model.keras')` or `keras.saving.save_model(model, 'my_model.keras')`. \n"
          ]
        },
        {
          "output_type": "stream",
          "name": "stdout",
          "text": [
            "\b\b\b\b\b\b\b\b\b\b\b\b\b\b\b\b\b\b\b\b\b\b\b\b\b\b\b\b\b\b\b\b\b\b\b\b\b\b\b\b\b\b\b\b\b\b\b\b\b\b\b\b\b\b\b\b\b\b\b\b\b\b\b\b\b\b\b\b\b\b\b\b\b\b\b\b\r\u001b[1m5746/5746\u001b[0m \u001b[32m━━━━━━━━━━━━━━━━━━━━\u001b[0m\u001b[37m\u001b[0m \u001b[1m37s\u001b[0m 6ms/step - accuracy: 0.7518 - loss: 0.5947 - val_accuracy: 0.7415 - val_loss: 0.6072 - learning_rate: 5.0000e-04\n",
            "Epoch 11/20\n",
            "\u001b[1m5741/5746\u001b[0m \u001b[32m━━━━━━━━━━━━━━━━━━━\u001b[0m\u001b[37m━\u001b[0m \u001b[1m0s\u001b[0m 6ms/step - accuracy: 0.7562 - loss: 0.5833\n",
            "Epoch 11: val_accuracy improved from 0.74147 to 0.74500, saving model to best_model.h5\n"
          ]
        },
        {
          "output_type": "stream",
          "name": "stderr",
          "text": [
            "WARNING:absl:You are saving your model as an HDF5 file via `model.save()` or `keras.saving.save_model(model)`. This file format is considered legacy. We recommend using instead the native Keras format, e.g. `model.save('my_model.keras')` or `keras.saving.save_model(model, 'my_model.keras')`. \n"
          ]
        },
        {
          "output_type": "stream",
          "name": "stdout",
          "text": [
            "\b\b\b\b\b\b\b\b\b\b\b\b\b\b\b\b\b\b\b\b\b\b\b\b\b\b\b\b\b\b\b\b\b\b\b\b\b\b\b\b\b\b\b\b\b\b\b\b\b\b\b\b\b\b\b\b\b\b\b\b\b\b\b\b\b\b\b\b\b\b\b\b\b\b\b\b\r\u001b[1m5746/5746\u001b[0m \u001b[32m━━━━━━━━━━━━━━━━━━━━\u001b[0m\u001b[37m\u001b[0m \u001b[1m37s\u001b[0m 7ms/step - accuracy: 0.7562 - loss: 0.5833 - val_accuracy: 0.7450 - val_loss: 0.6073 - learning_rate: 5.0000e-04\n",
            "Epoch 12/20\n",
            "\u001b[1m5743/5746\u001b[0m \u001b[32m━━━━━━━━━━━━━━━━━━━\u001b[0m\u001b[37m━\u001b[0m \u001b[1m0s\u001b[0m 6ms/step - accuracy: 0.7565 - loss: 0.5780\n",
            "Epoch 12: val_accuracy improved from 0.74500 to 0.74747, saving model to best_model.h5\n"
          ]
        },
        {
          "output_type": "stream",
          "name": "stderr",
          "text": [
            "WARNING:absl:You are saving your model as an HDF5 file via `model.save()` or `keras.saving.save_model(model)`. This file format is considered legacy. We recommend using instead the native Keras format, e.g. `model.save('my_model.keras')` or `keras.saving.save_model(model, 'my_model.keras')`. \n"
          ]
        },
        {
          "output_type": "stream",
          "name": "stdout",
          "text": [
            "\b\b\b\b\b\b\b\b\b\b\b\b\b\b\b\b\b\b\b\b\b\b\b\b\b\b\b\b\b\b\b\b\b\b\b\b\b\b\b\b\b\b\b\b\b\b\b\b\b\b\b\b\b\b\b\b\b\b\b\b\b\b\b\b\b\b\b\b\b\b\b\b\b\b\b\b\r\u001b[1m5746/5746\u001b[0m \u001b[32m━━━━━━━━━━━━━━━━━━━━\u001b[0m\u001b[37m\u001b[0m \u001b[1m41s\u001b[0m 7ms/step - accuracy: 0.7565 - loss: 0.5780 - val_accuracy: 0.7475 - val_loss: 0.6040 - learning_rate: 5.0000e-04\n",
            "Epoch 13/20\n",
            "\u001b[1m5742/5746\u001b[0m \u001b[32m━━━━━━━━━━━━━━━━━━━\u001b[0m\u001b[37m━\u001b[0m \u001b[1m0s\u001b[0m 6ms/step - accuracy: 0.7618 - loss: 0.5701\n",
            "Epoch 13: val_accuracy did not improve from 0.74747\n",
            "\u001b[1m5746/5746\u001b[0m \u001b[32m━━━━━━━━━━━━━━━━━━━━\u001b[0m\u001b[37m\u001b[0m \u001b[1m38s\u001b[0m 7ms/step - accuracy: 0.7618 - loss: 0.5701 - val_accuracy: 0.7468 - val_loss: 0.6017 - learning_rate: 5.0000e-04\n",
            "Epoch 14/20\n",
            "\u001b[1m5738/5746\u001b[0m \u001b[32m━━━━━━━━━━━━━━━━━━━\u001b[0m\u001b[37m━\u001b[0m \u001b[1m0s\u001b[0m 6ms/step - accuracy: 0.7633 - loss: 0.5649\n",
            "Epoch 14: val_accuracy did not improve from 0.74747\n",
            "\u001b[1m5746/5746\u001b[0m \u001b[32m━━━━━━━━━━━━━━━━━━━━\u001b[0m\u001b[37m\u001b[0m \u001b[1m38s\u001b[0m 7ms/step - accuracy: 0.7633 - loss: 0.5649 - val_accuracy: 0.7386 - val_loss: 0.6183 - learning_rate: 5.0000e-04\n",
            "Epoch 15/20\n",
            "\u001b[1m5741/5746\u001b[0m \u001b[32m━━━━━━━━━━━━━━━━━━━\u001b[0m\u001b[37m━\u001b[0m \u001b[1m0s\u001b[0m 6ms/step - accuracy: 0.7650 - loss: 0.5613\n",
            "Epoch 15: ReduceLROnPlateau reducing learning rate to 0.0002500000118743628.\n",
            "\n",
            "Epoch 15: val_accuracy did not improve from 0.74747\n",
            "\u001b[1m5746/5746\u001b[0m \u001b[32m━━━━━━━━━━━━━━━━━━━━\u001b[0m\u001b[37m\u001b[0m \u001b[1m40s\u001b[0m 7ms/step - accuracy: 0.7650 - loss: 0.5613 - val_accuracy: 0.7466 - val_loss: 0.6000 - learning_rate: 5.0000e-04\n",
            "Epoch 16/20\n",
            "\u001b[1m5738/5746\u001b[0m \u001b[32m━━━━━━━━━━━━━━━━━━━\u001b[0m\u001b[37m━\u001b[0m \u001b[1m0s\u001b[0m 6ms/step - accuracy: 0.7756 - loss: 0.5368\n",
            "Epoch 16: val_accuracy improved from 0.74747 to 0.75440, saving model to best_model.h5\n"
          ]
        },
        {
          "output_type": "stream",
          "name": "stderr",
          "text": [
            "WARNING:absl:You are saving your model as an HDF5 file via `model.save()` or `keras.saving.save_model(model)`. This file format is considered legacy. We recommend using instead the native Keras format, e.g. `model.save('my_model.keras')` or `keras.saving.save_model(model, 'my_model.keras')`. \n"
          ]
        },
        {
          "output_type": "stream",
          "name": "stdout",
          "text": [
            "\b\b\b\b\b\b\b\b\b\b\b\b\b\b\b\b\b\b\b\b\b\b\b\b\b\b\b\b\b\b\b\b\b\b\b\b\b\b\b\b\b\b\b\b\b\b\b\b\b\b\b\b\b\b\b\b\b\b\b\b\b\b\b\b\b\b\b\b\b\b\b\b\b\b\b\b\r\u001b[1m5746/5746\u001b[0m \u001b[32m━━━━━━━━━━━━━━━━━━━━\u001b[0m\u001b[37m\u001b[0m \u001b[1m40s\u001b[0m 7ms/step - accuracy: 0.7756 - loss: 0.5368 - val_accuracy: 0.7544 - val_loss: 0.5894 - learning_rate: 2.5000e-04\n",
            "Epoch 17/20\n",
            "\u001b[1m5743/5746\u001b[0m \u001b[32m━━━━━━━━━━━━━━━━━━━\u001b[0m\u001b[37m━\u001b[0m \u001b[1m0s\u001b[0m 6ms/step - accuracy: 0.7821 - loss: 0.5222\n",
            "Epoch 17: val_accuracy improved from 0.75440 to 0.75560, saving model to best_model.h5\n"
          ]
        },
        {
          "output_type": "stream",
          "name": "stderr",
          "text": [
            "WARNING:absl:You are saving your model as an HDF5 file via `model.save()` or `keras.saving.save_model(model)`. This file format is considered legacy. We recommend using instead the native Keras format, e.g. `model.save('my_model.keras')` or `keras.saving.save_model(model, 'my_model.keras')`. \n"
          ]
        },
        {
          "output_type": "stream",
          "name": "stdout",
          "text": [
            "\b\b\b\b\b\b\b\b\b\b\b\b\b\b\b\b\b\b\b\b\b\b\b\b\b\b\b\b\b\b\b\b\b\b\b\b\b\b\b\b\b\b\b\b\b\b\b\b\b\b\b\b\b\b\b\b\b\b\b\b\b\b\b\b\b\b\b\b\b\b\b\b\b\b\b\b\r\u001b[1m5746/5746\u001b[0m \u001b[32m━━━━━━━━━━━━━━━━━━━━\u001b[0m\u001b[37m\u001b[0m \u001b[1m39s\u001b[0m 7ms/step - accuracy: 0.7821 - loss: 0.5222 - val_accuracy: 0.7556 - val_loss: 0.5962 - learning_rate: 2.5000e-04\n",
            "Epoch 18/20\n",
            "\u001b[1m5738/5746\u001b[0m \u001b[32m━━━━━━━━━━━━━━━━━━━\u001b[0m\u001b[37m━\u001b[0m \u001b[1m0s\u001b[0m 6ms/step - accuracy: 0.7835 - loss: 0.5177\n",
            "Epoch 18: val_accuracy did not improve from 0.75560\n",
            "\u001b[1m5746/5746\u001b[0m \u001b[32m━━━━━━━━━━━━━━━━━━━━\u001b[0m\u001b[37m\u001b[0m \u001b[1m39s\u001b[0m 7ms/step - accuracy: 0.7835 - loss: 0.5177 - val_accuracy: 0.7549 - val_loss: 0.5951 - learning_rate: 2.5000e-04\n",
            "Epoch 19/20\n",
            "\u001b[1m5742/5746\u001b[0m \u001b[32m━━━━━━━━━━━━━━━━━━━\u001b[0m\u001b[37m━\u001b[0m \u001b[1m0s\u001b[0m 6ms/step - accuracy: 0.7857 - loss: 0.5116\n",
            "Epoch 19: val_accuracy did not improve from 0.75560\n",
            "\u001b[1m5746/5746\u001b[0m \u001b[32m━━━━━━━━━━━━━━━━━━━━\u001b[0m\u001b[37m\u001b[0m \u001b[1m41s\u001b[0m 7ms/step - accuracy: 0.7857 - loss: 0.5116 - val_accuracy: 0.7505 - val_loss: 0.5948 - learning_rate: 2.5000e-04\n",
            "Epoch 20/20\n",
            "\u001b[1m5740/5746\u001b[0m \u001b[32m━━━━━━━━━━━━━━━━━━━\u001b[0m\u001b[37m━\u001b[0m \u001b[1m0s\u001b[0m 6ms/step - accuracy: 0.7898 - loss: 0.5059\n",
            "Epoch 20: ReduceLROnPlateau reducing learning rate to 0.0001250000059371814.\n",
            "\n",
            "Epoch 20: val_accuracy did not improve from 0.75560\n",
            "\u001b[1m5746/5746\u001b[0m \u001b[32m━━━━━━━━━━━━━━━━━━━━\u001b[0m\u001b[37m\u001b[0m \u001b[1m39s\u001b[0m 7ms/step - accuracy: 0.7898 - loss: 0.5059 - val_accuracy: 0.7543 - val_loss: 0.5996 - learning_rate: 2.5000e-04\n",
            "Restoring model weights from the end of the best epoch: 17.\n",
            "\n",
            "======================================================================\n",
            "COMPREHENSIVE EVALUATION ON ALL DATASETS\n",
            "======================================================================\n",
            "\n",
            "FINAL RESULTS:\n",
            "Training Accuracy:   0.8052\n",
            "Validation Accuracy: 0.7556\n",
            "Test Accuracy:       0.7840\n",
            "\n",
            "DETAILED TEST SET EVALUATION:\n",
            "\u001b[1m625/625\u001b[0m \u001b[32m━━━━━━━━━━━━━━━━━━━━\u001b[0m\u001b[37m\u001b[0m \u001b[1m2s\u001b[0m 2ms/step\n",
            "FINAL TEST Accuracy: 0.7840\n",
            "FINAL TEST Macro F1 Score: 0.7167\n",
            "FINAL TEST Macro AUC Score: 0.9060\n",
            "FINAL TEST Classification Report:\n",
            "              precision    recall  f1-score   support\n",
            "\n",
            "           0       0.60      0.80      0.69      3363\n",
            "           1       0.57      0.63      0.60      3416\n",
            "           2       0.92      0.82      0.87     13221\n",
            "\n",
            "    accuracy                           0.78     20000\n",
            "   macro avg       0.70      0.75      0.72     20000\n",
            "weighted avg       0.81      0.78      0.79     20000\n",
            "\n"
          ]
        },
        {
          "output_type": "display_data",
          "data": {
            "text/plain": [
              "<Figure size 800x600 with 2 Axes>"
            ],
            "image/png": "[encoded data removed]"
          },
          "metadata": {}
        },
        {
          "output_type": "stream",
          "name": "stdout",
          "text": [
            "FINAL TEST Class 0 AUC: 0.9302\n",
            "FINAL TEST Class 1 AUC: 0.8644\n",
            "FINAL TEST Class 2 AUC: 0.9235\n"
          ]
        },
        {
          "output_type": "display_data",
          "data": {
            "text/plain": [
              "<Figure size 800x600 with 1 Axes>"
            ],
            "image/png": "[encoded data removed]"
          },
          "metadata": {}
        },
        {
          "output_type": "stream",
          "name": "stderr",
          "text": [
            "WARNING:absl:You are saving your model as an HDF5 file via `model.save()` or `keras.saving.save_model(model)`. This file format is considered legacy. We recommend using instead the native Keras format, e.g. `model.save('my_model.keras')` or `keras.saving.save_model(model, 'my_model.keras')`. \n"
          ]
        },
        {
          "output_type": "stream",
          "name": "stdout",
          "text": [
            "\n",
            "Model, tokenizer, and label encoder saved!\n",
            "\n",
            "======================================================================\n",
            "COMPLETE TRAINING SUMMARY\n",
            "======================================================================\n",
            "Architecture: Non-causal Transformer with 200D frozen Word2Vec\n",
            "Training approach: Systematic hyperparameter optimization\n",
            "Data: Proper train/validation/test splits\n",
            "Final test performance will be displayed above!\n"
          ]
        }
      ]
    },
    {
      "cell_type": "code",
      "source": [
        "final_model.save('final_20epoch.keras')"
      ],
      "metadata": {
        "id": "NtcGqD6SKyhd"
      },
      "id": "NtcGqD6SKyhd",
      "execution_count": null,
      "outputs": []
    },
    {
      "cell_type": "code",
      "source": [
        "def load_all_data():\n",
        "    \"\"\"Load all train, validation, and test CSV files\"\"\"\n",
        "    print(\"Loading all dataset files...\")\n",
        "\n",
        "    # Load training data\n",
        "    X_train_df = pd.read_csv(\"X_train.csv\")\n",
        "    y_train_df = pd.read_csv(\"y_train.csv\")\n",
        "\n",
        "    # Load validation data\n",
        "    X_val_df = pd.read_csv(\"X_val.csv\")\n",
        "    y_val_df = pd.read_csv(\"y_val.csv\")\n",
        "\n",
        "    # Load test data\n",
        "    X_test_df = pd.read_csv(\"X_test.csv\")\n",
        "    y_test_df = pd.read_csv(\"y_test.csv\")\n",
        "\n",
        "    print(f\"Training samples: {len(X_train_df)}\")\n",
        "    print(f\"Validation samples: {len(X_val_df)}\")\n",
        "    print(f\"Test samples: {len(X_test_df)}\")\n",
        "    print(f\"Total samples: {len(X_train_df) + len(X_val_df) + len(X_test_df)}\")\n",
        "\n",
        "    return X_train_df, y_train_df, X_val_df, y_val_df, X_test_df, y_test_df\n",
        "\n",
        "def prepare_all_datasets():\n",
        "    \"\"\"Prepare train, validation, and test datasets\"\"\"\n",
        "\n",
        "    # Load all data\n",
        "    X_train_df, y_train_df, X_val_df, y_val_df, X_test_df, y_test_df = load_all_data()\n",
        "\n",
        "    # Extract texts and labels\n",
        "    train_texts = X_train_df[\"Final_Cleaned_Tweet\"].astype(str).tolist()\n",
        "    train_labels = y_train_df[\"Sentiment\"].tolist()\n",
        "\n",
        "    val_texts = X_val_df[\"Final_Cleaned_Tweet\"].astype(str).tolist()\n",
        "    val_labels = y_val_df[\"Sentiment\"].tolist()\n",
        "\n",
        "    test_texts = X_test_df[\"Final_Cleaned_Tweet\"].astype(str).tolist()\n",
        "    test_labels = y_test_df[\"Sentiment\"].tolist()\n",
        "\n",
        "    print(f\"Unique labels: {np.unique(train_labels)}\")\n",
        "\n",
        "    # Tokenization (fit only on training data)\n",
        "    print(\"Tokenizing sequences...\")\n",
        "    vocab_size = 10000\n",
        "    maxlen = 100\n",
        "\n",
        "    tokenizer = Tokenizer(num_words=vocab_size, oov_token=\"<OOV>\")\n",
        "    tokenizer.fit_on_texts(train_texts)  # Only fit on training data\n",
        "\n",
        "    # Convert all datasets to sequences\n",
        "    train_sequences = tokenizer.texts_to_sequences(train_texts)\n",
        "    val_sequences = tokenizer.texts_to_sequences(val_texts)\n",
        "    test_sequences = tokenizer.texts_to_sequences(test_texts)\n",
        "\n",
        "    # Pad all sequences\n",
        "    train_sequences_padded = pad_sequences(train_sequences, maxlen=maxlen, padding='post', truncating='post')\n",
        "    val_sequences_padded = pad_sequences(val_sequences, maxlen=maxlen, padding='post', truncating='post')\n",
        "    test_sequences_padded = pad_sequences(test_sequences, maxlen=maxlen, padding='post', truncating='post')\n",
        "\n",
        "    print(f\"Train sequences shape: {train_sequences_padded.shape}\")\n",
        "    print(f\"Validation sequences shape: {val_sequences_padded.shape}\")\n",
        "    print(f\"Test sequences shape: {test_sequences_padded.shape}\")\n",
        "\n",
        "    # Encode labels\n",
        "    print(\"Encoding labels...\")\n",
        "    from sklearn.preprocessing import LabelEncoder\n",
        "    label_encoder = LabelEncoder()\n",
        "    train_labels_encoded = label_encoder.fit_transform(train_labels)\n",
        "    val_labels_encoded = label_encoder.transform(val_labels)\n",
        "    test_labels_encoded = label_encoder.transform(test_labels)\n",
        "\n",
        "    print(\"Label mapping:\")\n",
        "    for i, class_name in enumerate(label_encoder.classes_):\n",
        "        print(f\"{class_name}: {i}\")\n",
        "\n",
        "    return (train_sequences_padded, train_labels_encoded,\n",
        "            val_sequences_padded, val_labels_encoded,\n",
        "            test_sequences_padded, test_labels_encoded,\n",
        "            tokenizer, label_encoder, vocab_size, maxlen)\n",
        "\n",
        "def create_optimized_model(vocab_size, embedding_matrix, maxlen):\n",
        "    \"\"\"Create the best performing model architecture\"\"\"\n",
        "    inputs = layers.Input(shape=(maxlen,))\n",
        "    x = PositionalEmbedding(vocab_size, 200, maxlen, embedding_matrix, trainable=False)(inputs)\n",
        "\n",
        "    # Best transformer configuration\n",
        "    attention_output = layers.MultiHeadAttention(\n",
        "        num_heads=8, key_dim=16, dropout=0.15\n",
        "    )(x, x)\n",
        "    x = layers.LayerNormalization(epsilon=1e-6)(x + attention_output)\n",
        "\n",
        "    ff_output = layers.Dense(512, activation='relu')(x)\n",
        "    ff_output = layers.Dropout(0.2)(ff_output)\n",
        "    ff_output = layers.Dense(200)(ff_output)\n",
        "    x = layers.LayerNormalization(epsilon=1e-6)(x + ff_output)\n",
        "\n",
        "    # Best pooling strategy\n",
        "    avg_pool = layers.GlobalAveragePooling1D()(x)\n",
        "    max_pool = layers.GlobalMaxPooling1D()(x)\n",
        "    x = layers.Concatenate()([avg_pool, max_pool])\n",
        "\n",
        "    # Classification head\n",
        "    x = layers.Dropout(0.3)(x)\n",
        "    x = layers.Dense(128, activation='relu')(x)\n",
        "    x = layers.Dropout(0.3)(x)\n",
        "    x = layers.Dense(64, activation='relu')(x)\n",
        "    x = layers.Dropout(0.2)(x)\n",
        "    outputs = layers.Dense(3, activation='softmax')(x)\n",
        "\n",
        "    return models.Model(inputs=inputs, outputs=outputs)\n",
        "\n",
        "def train_complete_model():\n",
        "    \"\"\"Complete training pipeline with proper train/val/test splits\"\"\"\n",
        "\n",
        "    # Prepare all datasets\n",
        "    (train_X, train_y, val_X, val_y, test_X, test_y,\n",
        "     tokenizer, label_encoder, vocab_size, maxlen) = prepare_all_datasets()\n",
        "\n",
        "    # Create embedding matrix\n",
        "    print(\"Creating 200D embedding matrix...\")\n",
        "    import gensim.downloader as api\n",
        "    w2v_model = api.load(\"word2vec-google-news-300\")\n",
        "\n",
        "    embedding_matrix = np.zeros((vocab_size, 200))\n",
        "    hits = 0\n",
        "    for word, idx in tokenizer.word_index.items():\n",
        "        if idx < vocab_size:\n",
        "            if word in w2v_model:\n",
        "                embedding_matrix[idx] = w2v_model[word][:200]\n",
        "                hits += 1\n",
        "            else:\n",
        "                embedding_matrix[idx] = np.random.normal(scale=0.6, size=(200,))\n",
        "\n",
        "    coverage = hits / vocab_size\n",
        "    print(f\"Word2Vec coverage: {coverage:.2%}\")\n",
        "\n",
        "    # Create and compile model\n",
        "    model = create_optimized_model(vocab_size, embedding_matrix, maxlen)\n",
        "    model.compile(\n",
        "        optimizer=tf.keras.optimizers.Adam(learning_rate=0.0005),\n",
        "        loss='sparse_categorical_crossentropy',\n",
        "        metrics=['accuracy']\n",
        "    )\n",
        "\n",
        "    print(f\"Model parameters: {model.count_params():,}\")\n",
        "    print(\"Configuration: 200D frozen word2vec, 8 heads, FFN=512, batch=32, both pooling\")\n",
        "\n",
        "    # Setup callbacks with validation monitoring\n",
        "    callbacks = [\n",
        "        tf.keras.callbacks.ReduceLROnPlateau(\n",
        "            monitor='val_accuracy', factor=0.5, patience=3, min_lr=1e-7, verbose=1\n",
        "        ),\n",
        "        tf.keras.callbacks.EarlyStopping(\n",
        "            monitor='val_accuracy', patience=5, restore_best_weights=True, verbose=1\n",
        "        ),\n",
        "        tf.keras.callbacks.ModelCheckpoint(\n",
        "            'best_model.h5', monitor='val_accuracy', save_best_only=True, verbose=1\n",
        "        )\n",
        "    ]\n",
        "\n",
        "    # Train with validation monitoring\n",
        "    print(f\"\\nStarting training...\")\n",
        "    print(f\"Training samples: {len(train_X):,}\")\n",
        "    print(f\"Validation samples: {len(val_X):,}\")\n",
        "\n",
        "    history = model.fit(\n",
        "        train_X, train_y,\n",
        "        validation_data=(val_X, val_y),\n",
        "        epochs=50,\n",
        "        batch_size=32,\n",
        "        callbacks=callbacks,\n",
        "        verbose=1\n",
        "    )\n",
        "\n",
        "    # Load best model\n",
        "    model.load_weights('best_model.h5')\n",
        "\n",
        "    # Comprehensive evaluation\n",
        "    print(\"\\n\" + \"=\"*70)\n",
        "    print(\"COMPREHENSIVE EVALUATION ON ALL DATASETS\")\n",
        "    print(\"=\"*70)\n",
        "\n",
        "    # Evaluate on all datasets\n",
        "    train_loss, train_acc = model.evaluate(train_X, train_y, verbose=0)\n",
        "    val_loss, val_acc = model.evaluate(val_X, val_y, verbose=0)\n",
        "    test_loss, test_acc = model.evaluate(test_X, test_y, verbose=0)\n",
        "\n",
        "    print(f\"\\nFINAL RESULTS:\")\n",
        "    print(f\"Training Accuracy:   {train_acc:.4f}\")\n",
        "    print(f\"Validation Accuracy: {val_acc:.4f}\")\n",
        "    print(f\"Test Accuracy:       {test_acc:.4f}\")\n",
        "\n",
        "    # Detailed test evaluation\n",
        "    print(f\"\\nDETAILED TEST SET EVALUATION:\")\n",
        "    evaluate_model(model, test_X, test_y, \"FINAL TEST\")\n",
        "\n",
        "    # Save everything\n",
        "    model.save('final_transformer_model.h5')\n",
        "    import pickle\n",
        "    with open('tokenizer.pkl', 'wb') as f:\n",
        "        pickle.dump(tokenizer, f)\n",
        "    with open('label_encoder.pkl', 'wb') as f:\n",
        "        pickle.dump(label_encoder, f)\n",
        "\n",
        "    print(f\"\\nModel, tokenizer, and label encoder saved!\")\n",
        "\n",
        "    return model, tokenizer, label_encoder, history\n",
        "\n",
        "# RUN COMPLETE TRAINING PIPELINE\n",
        "print(\"Starting complete training with separate train/validation/test sets...\")\n",
        "final_model, tokenizer, label_encoder, training_history = train_complete_model()\n",
        "\n",
        "# Performance summary\n",
        "print(f\"\\n\" + \"=\"*70)\n",
        "print(f\"COMPLETE TRAINING SUMMARY\")\n",
        "print(f\"=\"*70)\n",
        "print(f\"Architecture: Non-causal Transformer with 200D frozen Word2Vec\")\n",
        "print(f\"Training approach: Systematic hyperparameter optimization\")\n",
        "print(f\"Data: Proper train/validation/test splits\")\n",
        "print(f\"Final test performance will be displayed above!\")"
      ],
      "metadata": {
        "colab": {
          "base_uri": "https://localhost:8080/",
          "height": 1000
        },
        "id": "BjpkqTMwK_Hv",
        "outputId": "41f0242f-7d00-427a-fc89-07a7b73e85ea"
      },
      "id": "BjpkqTMwK_Hv",
      "execution_count": null,
      "outputs": [
        {
          "output_type": "stream",
          "name": "stdout",
          "text": [
            "Starting complete training with separate train/validation/test sets...\n",
            "Loading all dataset files...\n",
            "Training samples: 183861\n",
            "Validation samples: 15000\n",
            "Test samples: 20000\n",
            "Total samples: 218861\n",
            "Unique labels: ['negative' 'neutral' 'positive']\n",
            "Tokenizing sequences...\n",
            "Train sequences shape: (183861, 100)\n",
            "Validation sequences shape: (15000, 100)\n",
            "Test sequences shape: (20000, 100)\n",
            "Encoding labels...\n",
            "Label mapping:\n",
            "negative: 0\n",
            "neutral: 1\n",
            "positive: 2\n",
            "Creating 200D embedding matrix...\n",
            "Word2Vec coverage: 87.25%\n",
            "Model parameters: 2,369,075\n",
            "Configuration: 200D frozen word2vec, 8 heads, FFN=512, batch=32, both pooling\n",
            "\n",
            "Starting training...\n",
            "Training samples: 183,861\n",
            "Validation samples: 15,000\n",
            "Epoch 1/50\n",
            "\u001b[1m5746/5746\u001b[0m \u001b[32m━━━━━━━━━━━━━━━━━━━━\u001b[0m\u001b[37m\u001b[0m \u001b[1m0s\u001b[0m 8ms/step - accuracy: 0.5818 - loss: 0.8951\n",
            "Epoch 1: val_accuracy improved from -inf to 0.68593, saving model to best_model.h5\n"
          ]
        },
        {
          "output_type": "stream",
          "name": "stderr",
          "text": [
            "WARNING:absl:You are saving your model as an HDF5 file via `model.save()` or `keras.saving.save_model(model)`. This file format is considered legacy. We recommend using instead the native Keras format, e.g. `model.save('my_model.keras')` or `keras.saving.save_model(model, 'my_model.keras')`. \n"
          ]
        },
        {
          "output_type": "stream",
          "name": "stdout",
          "text": [
            "\b\b\b\b\b\b\b\b\b\b\b\b\b\b\b\b\b\b\b\b\b\b\b\b\b\b\b\b\b\b\b\b\b\b\b\b\b\b\b\b\b\b\b\b\b\b\b\b\b\b\b\b\b\b\b\b\b\b\b\b\b\b\b\b\b\b\b\b\b\b\b\b\b\b\b\b\r\u001b[1m5746/5746\u001b[0m \u001b[32m━━━━━━━━━━━━━━━━━━━━\u001b[0m\u001b[37m\u001b[0m \u001b[1m58s\u001b[0m 8ms/step - accuracy: 0.5818 - loss: 0.8951 - val_accuracy: 0.6859 - val_loss: 0.7168 - learning_rate: 5.0000e-04\n",
            "Epoch 2/50\n",
            "\u001b[1m5742/5746\u001b[0m \u001b[32m━━━━━━━━━━━━━━━━━━━\u001b[0m\u001b[37m━\u001b[0m \u001b[1m0s\u001b[0m 6ms/step - accuracy: 0.6827 - loss: 0.7248\n",
            "Epoch 2: val_accuracy improved from 0.68593 to 0.70953, saving model to best_model.h5\n"
          ]
        },
        {
          "output_type": "stream",
          "name": "stderr",
          "text": [
            "WARNING:absl:You are saving your model as an HDF5 file via `model.save()` or `keras.saving.save_model(model)`. This file format is considered legacy. We recommend using instead the native Keras format, e.g. `model.save('my_model.keras')` or `keras.saving.save_model(model, 'my_model.keras')`. \n"
          ]
        },
        {
          "output_type": "stream",
          "name": "stdout",
          "text": [
            "\b\b\b\b\b\b\b\b\b\b\b\b\b\b\b\b\b\b\b\b\b\b\b\b\b\b\b\b\b\b\b\b\b\b\b\b\b\b\b\b\b\b\b\b\b\b\b\b\b\b\b\b\b\b\b\b\b\b\b\b\b\b\b\b\b\b\b\b\b\b\b\b\b\b\b\b\r\u001b[1m5746/5746\u001b[0m \u001b[32m━━━━━━━━━━━━━━━━━━━━\u001b[0m\u001b[37m\u001b[0m \u001b[1m67s\u001b[0m 7ms/step - accuracy: 0.6827 - loss: 0.7248 - val_accuracy: 0.7095 - val_loss: 0.6704 - learning_rate: 5.0000e-04\n",
            "Epoch 3/50\n",
            "\u001b[1m5739/5746\u001b[0m \u001b[32m━━━━━━━━━━━━━━━━━━━\u001b[0m\u001b[37m━\u001b[0m \u001b[1m0s\u001b[0m 6ms/step - accuracy: 0.7034 - loss: 0.6869\n",
            "Epoch 3: val_accuracy improved from 0.70953 to 0.71487, saving model to best_model.h5\n"
          ]
        },
        {
          "output_type": "stream",
          "name": "stderr",
          "text": [
            "WARNING:absl:You are saving your model as an HDF5 file via `model.save()` or `keras.saving.save_model(model)`. This file format is considered legacy. We recommend using instead the native Keras format, e.g. `model.save('my_model.keras')` or `keras.saving.save_model(model, 'my_model.keras')`. \n"
          ]
        },
        {
          "output_type": "stream",
          "name": "stdout",
          "text": [
            "\b\b\b\b\b\b\b\b\b\b\b\b\b\b\b\b\b\b\b\b\b\b\b\b\b\b\b\b\b\b\b\b\b\b\b\b\b\b\b\b\b\b\b\b\b\b\b\b\b\b\b\b\b\b\b\b\b\b\b\b\b\b\b\b\b\b\b\b\b\b\b\b\b\b\b\b\r\u001b[1m5746/5746\u001b[0m \u001b[32m━━━━━━━━━━━━━━━━━━━━\u001b[0m\u001b[37m\u001b[0m \u001b[1m38s\u001b[0m 7ms/step - accuracy: 0.7034 - loss: 0.6869 - val_accuracy: 0.7149 - val_loss: 0.6648 - learning_rate: 5.0000e-04\n",
            "Epoch 4/50\n",
            "\u001b[1m5743/5746\u001b[0m \u001b[32m━━━━━━━━━━━━━━━━━━━\u001b[0m\u001b[37m━\u001b[0m \u001b[1m0s\u001b[0m 6ms/step - accuracy: 0.7173 - loss: 0.6625\n",
            "Epoch 4: val_accuracy improved from 0.71487 to 0.72247, saving model to best_model.h5\n"
          ]
        },
        {
          "output_type": "stream",
          "name": "stderr",
          "text": [
            "WARNING:absl:You are saving your model as an HDF5 file via `model.save()` or `keras.saving.save_model(model)`. This file format is considered legacy. We recommend using instead the native Keras format, e.g. `model.save('my_model.keras')` or `keras.saving.save_model(model, 'my_model.keras')`. \n"
          ]
        },
        {
          "output_type": "stream",
          "name": "stdout",
          "text": [
            "\b\b\b\b\b\b\b\b\b\b\b\b\b\b\b\b\b\b\b\b\b\b\b\b\b\b\b\b\b\b\b\b\b\b\b\b\b\b\b\b\b\b\b\b\b\b\b\b\b\b\b\b\b\b\b\b\b\b\b\b\b\b\b\b\b\b\b\b\b\b\b\b\b\b\b\b\r\u001b[1m5746/5746\u001b[0m \u001b[32m━━━━━━━━━━━━━━━━━━━━\u001b[0m\u001b[37m\u001b[0m \u001b[1m39s\u001b[0m 7ms/step - accuracy: 0.7173 - loss: 0.6625 - val_accuracy: 0.7225 - val_loss: 0.6454 - learning_rate: 5.0000e-04\n",
            "Epoch 5/50\n",
            "\u001b[1m5746/5746\u001b[0m \u001b[32m━━━━━━━━━━━━━━━━━━━━\u001b[0m\u001b[37m\u001b[0m \u001b[1m0s\u001b[0m 6ms/step - accuracy: 0.7262 - loss: 0.6443\n",
            "Epoch 5: val_accuracy improved from 0.72247 to 0.72613, saving model to best_model.h5\n"
          ]
        },
        {
          "output_type": "stream",
          "name": "stderr",
          "text": [
            "WARNING:absl:You are saving your model as an HDF5 file via `model.save()` or `keras.saving.save_model(model)`. This file format is considered legacy. We recommend using instead the native Keras format, e.g. `model.save('my_model.keras')` or `keras.saving.save_model(model, 'my_model.keras')`. \n"
          ]
        },
        {
          "output_type": "stream",
          "name": "stdout",
          "text": [
            "\b\b\b\b\b\b\b\b\b\b\b\b\b\b\b\b\b\b\b\b\b\b\b\b\b\b\b\b\b\b\b\b\b\b\b\b\b\b\b\b\b\b\b\b\b\b\b\b\b\b\b\b\b\b\b\b\b\b\b\b\b\b\b\b\b\b\b\b\b\b\b\b\b\b\b\b\r\u001b[1m5746/5746\u001b[0m \u001b[32m━━━━━━━━━━━━━━━━━━━━\u001b[0m\u001b[37m\u001b[0m \u001b[1m38s\u001b[0m 7ms/step - accuracy: 0.7262 - loss: 0.6443 - val_accuracy: 0.7261 - val_loss: 0.6307 - learning_rate: 5.0000e-04\n",
            "Epoch 6/50\n",
            "\u001b[1m5744/5746\u001b[0m \u001b[32m━━━━━━━━━━━━━━━━━━━\u001b[0m\u001b[37m━\u001b[0m \u001b[1m0s\u001b[0m 6ms/step - accuracy: 0.7321 - loss: 0.6286\n",
            "Epoch 6: val_accuracy improved from 0.72613 to 0.73320, saving model to best_model.h5\n"
          ]
        },
        {
          "output_type": "stream",
          "name": "stderr",
          "text": [
            "WARNING:absl:You are saving your model as an HDF5 file via `model.save()` or `keras.saving.save_model(model)`. This file format is considered legacy. We recommend using instead the native Keras format, e.g. `model.save('my_model.keras')` or `keras.saving.save_model(model, 'my_model.keras')`. \n"
          ]
        },
        {
          "output_type": "stream",
          "name": "stdout",
          "text": [
            "\b\b\b\b\b\b\b\b\b\b\b\b\b\b\b\b\b\b\b\b\b\b\b\b\b\b\b\b\b\b\b\b\b\b\b\b\b\b\b\b\b\b\b\b\b\b\b\b\b\b\b\b\b\b\b\b\b\b\b\b\b\b\b\b\b\b\b\b\b\b\b\b\b\b\b\b\r\u001b[1m5746/5746\u001b[0m \u001b[32m━━━━━━━━━━━━━━━━━━━━\u001b[0m\u001b[37m\u001b[0m \u001b[1m41s\u001b[0m 7ms/step - accuracy: 0.7321 - loss: 0.6286 - val_accuracy: 0.7332 - val_loss: 0.6250 - learning_rate: 5.0000e-04\n",
            "Epoch 7/50\n",
            "\u001b[1m5744/5746\u001b[0m \u001b[32m━━━━━━━━━━━━━━━━━━━\u001b[0m\u001b[37m━\u001b[0m \u001b[1m0s\u001b[0m 6ms/step - accuracy: 0.7369 - loss: 0.6207\n",
            "Epoch 7: val_accuracy improved from 0.73320 to 0.73727, saving model to best_model.h5\n"
          ]
        },
        {
          "output_type": "stream",
          "name": "stderr",
          "text": [
            "WARNING:absl:You are saving your model as an HDF5 file via `model.save()` or `keras.saving.save_model(model)`. This file format is considered legacy. We recommend using instead the native Keras format, e.g. `model.save('my_model.keras')` or `keras.saving.save_model(model, 'my_model.keras')`. \n"
          ]
        },
        {
          "output_type": "stream",
          "name": "stdout",
          "text": [
            "\b\b\b\b\b\b\b\b\b\b\b\b\b\b\b\b\b\b\b\b\b\b\b\b\b\b\b\b\b\b\b\b\b\b\b\b\b\b\b\b\b\b\b\b\b\b\b\b\b\b\b\b\b\b\b\b\b\b\b\b\b\b\b\b\b\b\b\b\b\b\b\b\b\b\b\b\r\u001b[1m5746/5746\u001b[0m \u001b[32m━━━━━━━━━━━━━━━━━━━━\u001b[0m\u001b[37m\u001b[0m \u001b[1m42s\u001b[0m 7ms/step - accuracy: 0.7369 - loss: 0.6207 - val_accuracy: 0.7373 - val_loss: 0.6191 - learning_rate: 5.0000e-04\n",
            "Epoch 8/50\n",
            "\u001b[1m5740/5746\u001b[0m \u001b[32m━━━━━━━━━━━━━━━━━━━\u001b[0m\u001b[37m━\u001b[0m \u001b[1m0s\u001b[0m 6ms/step - accuracy: 0.7440 - loss: 0.6093\n",
            "Epoch 8: val_accuracy improved from 0.73727 to 0.74300, saving model to best_model.h5\n"
          ]
        },
        {
          "output_type": "stream",
          "name": "stderr",
          "text": [
            "WARNING:absl:You are saving your model as an HDF5 file via `model.save()` or `keras.saving.save_model(model)`. This file format is considered legacy. We recommend using instead the native Keras format, e.g. `model.save('my_model.keras')` or `keras.saving.save_model(model, 'my_model.keras')`. \n"
          ]
        },
        {
          "output_type": "stream",
          "name": "stdout",
          "text": [
            "\b\b\b\b\b\b\b\b\b\b\b\b\b\b\b\b\b\b\b\b\b\b\b\b\b\b\b\b\b\b\b\b\b\b\b\b\b\b\b\b\b\b\b\b\b\b\b\b\b\b\b\b\b\b\b\b\b\b\b\b\b\b\b\b\b\b\b\b\b\b\b\b\b\b\b\b\r\u001b[1m5746/5746\u001b[0m \u001b[32m━━━━━━━━━━━━━━━━━━━━\u001b[0m\u001b[37m\u001b[0m \u001b[1m40s\u001b[0m 7ms/step - accuracy: 0.7440 - loss: 0.6093 - val_accuracy: 0.7430 - val_loss: 0.6171 - learning_rate: 5.0000e-04\n",
            "Epoch 9/50\n",
            "\u001b[1m5745/5746\u001b[0m \u001b[32m━━━━━━━━━━━━━━━━━━━\u001b[0m\u001b[37m━\u001b[0m \u001b[1m0s\u001b[0m 6ms/step - accuracy: 0.7491 - loss: 0.5992\n",
            "Epoch 9: val_accuracy did not improve from 0.74300\n",
            "\u001b[1m5746/5746\u001b[0m \u001b[32m━━━━━━━━━━━━━━━━━━━━\u001b[0m\u001b[37m\u001b[0m \u001b[1m41s\u001b[0m 7ms/step - accuracy: 0.7491 - loss: 0.5992 - val_accuracy: 0.7396 - val_loss: 0.6237 - learning_rate: 5.0000e-04\n",
            "Epoch 10/50\n",
            "\u001b[1m5746/5746\u001b[0m \u001b[32m━━━━━━━━━━━━━━━━━━━━\u001b[0m\u001b[37m\u001b[0m \u001b[1m0s\u001b[0m 6ms/step - accuracy: 0.7516 - loss: 0.5924\n",
            "Epoch 10: val_accuracy did not improve from 0.74300\n",
            "\u001b[1m5746/5746\u001b[0m \u001b[32m━━━━━━━━━━━━━━━━━━━━\u001b[0m\u001b[37m\u001b[0m \u001b[1m42s\u001b[0m 7ms/step - accuracy: 0.7516 - loss: 0.5924 - val_accuracy: 0.7415 - val_loss: 0.6069 - learning_rate: 5.0000e-04\n",
            "Epoch 11/50\n",
            "\u001b[1m5746/5746\u001b[0m \u001b[32m━━━━━━━━━━━━━━━━━━━━\u001b[0m\u001b[37m\u001b[0m \u001b[1m0s\u001b[0m 6ms/step - accuracy: 0.7570 - loss: 0.5816\n",
            "Epoch 11: val_accuracy improved from 0.74300 to 0.74400, saving model to best_model.h5\n"
          ]
        },
        {
          "output_type": "stream",
          "name": "stderr",
          "text": [
            "WARNING:absl:You are saving your model as an HDF5 file via `model.save()` or `keras.saving.save_model(model)`. This file format is considered legacy. We recommend using instead the native Keras format, e.g. `model.save('my_model.keras')` or `keras.saving.save_model(model, 'my_model.keras')`. \n"
          ]
        },
        {
          "output_type": "stream",
          "name": "stdout",
          "text": [
            "\b\b\b\b\b\b\b\b\b\b\b\b\b\b\b\b\b\b\b\b\b\b\b\b\b\b\b\b\b\b\b\b\b\b\b\b\b\b\b\b\b\b\b\b\b\b\b\b\b\b\b\b\b\b\b\b\b\b\b\b\b\b\b\b\b\b\b\b\b\b\b\b\b\b\b\b\r\u001b[1m5746/5746\u001b[0m \u001b[32m━━━━━━━━━━━━━━━━━━━━\u001b[0m\u001b[37m\u001b[0m \u001b[1m38s\u001b[0m 7ms/step - accuracy: 0.7570 - loss: 0.5816 - val_accuracy: 0.7440 - val_loss: 0.6084 - learning_rate: 5.0000e-04\n",
            "Epoch 12/50\n",
            "\u001b[1m5746/5746\u001b[0m \u001b[32m━━━━━━━━━━━━━━━━━━━━\u001b[0m\u001b[37m\u001b[0m \u001b[1m0s\u001b[0m 6ms/step - accuracy: 0.7593 - loss: 0.5765\n",
            "Epoch 12: val_accuracy improved from 0.74400 to 0.74907, saving model to best_model.h5\n"
          ]
        },
        {
          "output_type": "stream",
          "name": "stderr",
          "text": [
            "WARNING:absl:You are saving your model as an HDF5 file via `model.save()` or `keras.saving.save_model(model)`. This file format is considered legacy. We recommend using instead the native Keras format, e.g. `model.save('my_model.keras')` or `keras.saving.save_model(model, 'my_model.keras')`. \n"
          ]
        },
        {
          "output_type": "stream",
          "name": "stdout",
          "text": [
            "\b\b\b\b\b\b\b\b\b\b\b\b\b\b\b\b\b\b\b\b\b\b\b\b\b\b\b\b\b\b\b\b\b\b\b\b\b\b\b\b\b\b\b\b\b\b\b\b\b\b\b\b\b\b\b\b\b\b\b\b\b\b\b\b\b\b\b\b\b\b\b\b\b\b\b\b\r\u001b[1m5746/5746\u001b[0m \u001b[32m━━━━━━━━━━━━━━━━━━━━\u001b[0m\u001b[37m\u001b[0m \u001b[1m42s\u001b[0m 7ms/step - accuracy: 0.7593 - loss: 0.5765 - val_accuracy: 0.7491 - val_loss: 0.5985 - learning_rate: 5.0000e-04\n",
            "Epoch 13/50\n",
            "\u001b[1m5744/5746\u001b[0m \u001b[32m━━━━━━━━━━━━━━━━━━━\u001b[0m\u001b[37m━\u001b[0m \u001b[1m0s\u001b[0m 6ms/step - accuracy: 0.7621 - loss: 0.5682\n",
            "Epoch 13: val_accuracy did not improve from 0.74907\n",
            "\u001b[1m5746/5746\u001b[0m \u001b[32m━━━━━━━━━━━━━━━━━━━━\u001b[0m\u001b[37m\u001b[0m \u001b[1m41s\u001b[0m 7ms/step - accuracy: 0.7621 - loss: 0.5682 - val_accuracy: 0.7453 - val_loss: 0.6046 - learning_rate: 5.0000e-04\n",
            "Epoch 14/50\n",
            "\u001b[1m5741/5746\u001b[0m \u001b[32m━━━━━━━━━━━━━━━━━━━\u001b[0m\u001b[37m━\u001b[0m \u001b[1m0s\u001b[0m 6ms/step - accuracy: 0.7639 - loss: 0.5622\n",
            "Epoch 14: val_accuracy improved from 0.74907 to 0.75080, saving model to best_model.h5\n"
          ]
        },
        {
          "output_type": "stream",
          "name": "stderr",
          "text": [
            "WARNING:absl:You are saving your model as an HDF5 file via `model.save()` or `keras.saving.save_model(model)`. This file format is considered legacy. We recommend using instead the native Keras format, e.g. `model.save('my_model.keras')` or `keras.saving.save_model(model, 'my_model.keras')`. \n"
          ]
        },
        {
          "output_type": "stream",
          "name": "stdout",
          "text": [
            "\b\b\b\b\b\b\b\b\b\b\b\b\b\b\b\b\b\b\b\b\b\b\b\b\b\b\b\b\b\b\b\b\b\b\b\b\b\b\b\b\b\b\b\b\b\b\b\b\b\b\b\b\b\b\b\b\b\b\b\b\b\b\b\b\b\b\b\b\b\b\b\b\b\b\b\b\r\u001b[1m5746/5746\u001b[0m \u001b[32m━━━━━━━━━━━━━━━━━━━━\u001b[0m\u001b[37m\u001b[0m \u001b[1m41s\u001b[0m 7ms/step - accuracy: 0.7639 - loss: 0.5622 - val_accuracy: 0.7508 - val_loss: 0.5978 - learning_rate: 5.0000e-04\n",
            "Epoch 15/50\n",
            "\u001b[1m5742/5746\u001b[0m \u001b[32m━━━━━━━━━━━━━━━━━━━\u001b[0m\u001b[37m━\u001b[0m \u001b[1m0s\u001b[0m 6ms/step - accuracy: 0.7690 - loss: 0.5554\n",
            "Epoch 15: val_accuracy did not improve from 0.75080\n",
            "\u001b[1m5746/5746\u001b[0m \u001b[32m━━━━━━━━━━━━━━━━━━━━\u001b[0m\u001b[37m\u001b[0m \u001b[1m39s\u001b[0m 7ms/step - accuracy: 0.7690 - loss: 0.5554 - val_accuracy: 0.7473 - val_loss: 0.6020 - learning_rate: 5.0000e-04\n",
            "Epoch 16/50\n",
            "\u001b[1m5745/5746\u001b[0m \u001b[32m━━━━━━━━━━━━━━━━━━━\u001b[0m\u001b[37m━\u001b[0m \u001b[1m0s\u001b[0m 6ms/step - accuracy: 0.7708 - loss: 0.5515\n",
            "Epoch 16: val_accuracy did not improve from 0.75080\n",
            "\u001b[1m5746/5746\u001b[0m \u001b[32m━━━━━━━━━━━━━━━━━━━━\u001b[0m\u001b[37m\u001b[0m \u001b[1m39s\u001b[0m 7ms/step - accuracy: 0.7708 - loss: 0.5515 - val_accuracy: 0.7429 - val_loss: 0.6146 - learning_rate: 5.0000e-04\n",
            "Epoch 17/50\n",
            "\u001b[1m5744/5746\u001b[0m \u001b[32m━━━━━━━━━━━━━━━━━━━\u001b[0m\u001b[37m━\u001b[0m \u001b[1m0s\u001b[0m 6ms/step - accuracy: 0.7733 - loss: 0.5449\n",
            "Epoch 17: val_accuracy improved from 0.75080 to 0.75113, saving model to best_model.h5\n"
          ]
        },
        {
          "output_type": "stream",
          "name": "stderr",
          "text": [
            "WARNING:absl:You are saving your model as an HDF5 file via `model.save()` or `keras.saving.save_model(model)`. This file format is considered legacy. We recommend using instead the native Keras format, e.g. `model.save('my_model.keras')` or `keras.saving.save_model(model, 'my_model.keras')`. \n"
          ]
        },
        {
          "output_type": "stream",
          "name": "stdout",
          "text": [
            "\b\b\b\b\b\b\b\b\b\b\b\b\b\b\b\b\b\b\b\b\b\b\b\b\b\b\b\b\b\b\b\b\b\b\b\b\b\b\b\b\b\b\b\b\b\b\b\b\b\b\b\b\b\b\b\b\b\b\b\b\b\b\b\b\b\b\b\b\b\b\b\b\b\b\b\b\r\u001b[1m5746/5746\u001b[0m \u001b[32m━━━━━━━━━━━━━━━━━━━━\u001b[0m\u001b[37m\u001b[0m \u001b[1m41s\u001b[0m 7ms/step - accuracy: 0.7733 - loss: 0.5449 - val_accuracy: 0.7511 - val_loss: 0.5951 - learning_rate: 5.0000e-04\n",
            "Epoch 18/50\n",
            "\u001b[1m5744/5746\u001b[0m \u001b[32m━━━━━━━━━━━━━━━━━━━\u001b[0m\u001b[37m━\u001b[0m \u001b[1m0s\u001b[0m 6ms/step - accuracy: 0.7758 - loss: 0.5383\n",
            "Epoch 18: val_accuracy did not improve from 0.75113\n",
            "\u001b[1m5746/5746\u001b[0m \u001b[32m━━━━━━━━━━━━━━━━━━━━\u001b[0m\u001b[37m\u001b[0m \u001b[1m40s\u001b[0m 7ms/step - accuracy: 0.7758 - loss: 0.5383 - val_accuracy: 0.7424 - val_loss: 0.6089 - learning_rate: 5.0000e-04\n",
            "Epoch 19/50\n",
            "\u001b[1m5746/5746\u001b[0m \u001b[32m━━━━━━━━━━━━━━━━━━━━\u001b[0m\u001b[37m\u001b[0m \u001b[1m0s\u001b[0m 6ms/step - accuracy: 0.7763 - loss: 0.5339\n",
            "Epoch 19: val_accuracy did not improve from 0.75113\n",
            "\u001b[1m5746/5746\u001b[0m \u001b[32m━━━━━━━━━━━━━━━━━━━━\u001b[0m\u001b[37m\u001b[0m \u001b[1m39s\u001b[0m 7ms/step - accuracy: 0.7763 - loss: 0.5339 - val_accuracy: 0.7505 - val_loss: 0.6065 - learning_rate: 5.0000e-04\n",
            "Epoch 20/50\n",
            "\u001b[1m5740/5746\u001b[0m \u001b[32m━━━━━━━━━━━━━━━━━━━\u001b[0m\u001b[37m━\u001b[0m \u001b[1m0s\u001b[0m 6ms/step - accuracy: 0.7799 - loss: 0.5247\n",
            "Epoch 20: val_accuracy improved from 0.75113 to 0.75293, saving model to best_model.h5\n"
          ]
        },
        {
          "output_type": "stream",
          "name": "stderr",
          "text": [
            "WARNING:absl:You are saving your model as an HDF5 file via `model.save()` or `keras.saving.save_model(model)`. This file format is considered legacy. We recommend using instead the native Keras format, e.g. `model.save('my_model.keras')` or `keras.saving.save_model(model, 'my_model.keras')`. \n"
          ]
        },
        {
          "output_type": "stream",
          "name": "stdout",
          "text": [
            "\b\b\b\b\b\b\b\b\b\b\b\b\b\b\b\b\b\b\b\b\b\b\b\b\b\b\b\b\b\b\b\b\b\b\b\b\b\b\b\b\b\b\b\b\b\b\b\b\b\b\b\b\b\b\b\b\b\b\b\b\b\b\b\b\b\b\b\b\b\b\b\b\b\b\b\b\r\u001b[1m5746/5746\u001b[0m \u001b[32m━━━━━━━━━━━━━━━━━━━━\u001b[0m\u001b[37m\u001b[0m \u001b[1m39s\u001b[0m 7ms/step - accuracy: 0.7799 - loss: 0.5247 - val_accuracy: 0.7529 - val_loss: 0.5953 - learning_rate: 5.0000e-04\n",
            "Epoch 21/50\n",
            "\u001b[1m5744/5746\u001b[0m \u001b[32m━━━━━━━━━━━━━━━━━━━\u001b[0m\u001b[37m━\u001b[0m \u001b[1m0s\u001b[0m 6ms/step - accuracy: 0.7814 - loss: 0.5238\n",
            "Epoch 21: val_accuracy did not improve from 0.75293\n",
            "\u001b[1m5746/5746\u001b[0m \u001b[32m━━━━━━━━━━━━━━━━━━━━\u001b[0m\u001b[37m\u001b[0m \u001b[1m39s\u001b[0m 7ms/step - accuracy: 0.7814 - loss: 0.5238 - val_accuracy: 0.7458 - val_loss: 0.6165 - learning_rate: 5.0000e-04\n",
            "Epoch 22/50\n",
            "\u001b[1m5741/5746\u001b[0m \u001b[32m━━━━━━━━━━━━━━━━━━━\u001b[0m\u001b[37m━\u001b[0m \u001b[1m0s\u001b[0m 6ms/step - accuracy: 0.7834 - loss: 0.5211\n",
            "Epoch 22: val_accuracy did not improve from 0.75293\n",
            "\u001b[1m5746/5746\u001b[0m \u001b[32m━━━━━━━━━━━━━━━━━━━━\u001b[0m\u001b[37m\u001b[0m \u001b[1m41s\u001b[0m 7ms/step - accuracy: 0.7834 - loss: 0.5211 - val_accuracy: 0.7500 - val_loss: 0.6135 - learning_rate: 5.0000e-04\n",
            "Epoch 23/50\n",
            "\u001b[1m5741/5746\u001b[0m \u001b[32m━━━━━━━━━━━━━━━━━━━\u001b[0m\u001b[37m━\u001b[0m \u001b[1m0s\u001b[0m 6ms/step - accuracy: 0.7859 - loss: 0.5171\n",
            "Epoch 23: val_accuracy improved from 0.75293 to 0.75327, saving model to best_model.h5\n"
          ]
        },
        {
          "output_type": "stream",
          "name": "stderr",
          "text": [
            "WARNING:absl:You are saving your model as an HDF5 file via `model.save()` or `keras.saving.save_model(model)`. This file format is considered legacy. We recommend using instead the native Keras format, e.g. `model.save('my_model.keras')` or `keras.saving.save_model(model, 'my_model.keras')`. \n"
          ]
        },
        {
          "output_type": "stream",
          "name": "stdout",
          "text": [
            "\b\b\b\b\b\b\b\b\b\b\b\b\b\b\b\b\b\b\b\b\b\b\b\b\b\b\b\b\b\b\b\b\b\b\b\b\b\b\b\b\b\b\b\b\b\b\b\b\b\b\b\b\b\b\b\b\b\b\b\b\b\b\b\b\b\b\b\b\b\b\b\b\b\b\b\b\r\u001b[1m5746/5746\u001b[0m \u001b[32m━━━━━━━━━━━━━━━━━━━━\u001b[0m\u001b[37m\u001b[0m \u001b[1m41s\u001b[0m 7ms/step - accuracy: 0.7859 - loss: 0.5171 - val_accuracy: 0.7533 - val_loss: 0.5987 - learning_rate: 5.0000e-04\n",
            "Epoch 24/50\n",
            "\u001b[1m5746/5746\u001b[0m \u001b[32m━━━━━━━━━━━━━━━━━━━━\u001b[0m\u001b[37m\u001b[0m \u001b[1m0s\u001b[0m 6ms/step - accuracy: 0.7864 - loss: 0.5113\n",
            "Epoch 24: val_accuracy improved from 0.75327 to 0.75667, saving model to best_model.h5\n"
          ]
        },
        {
          "output_type": "stream",
          "name": "stderr",
          "text": [
            "WARNING:absl:You are saving your model as an HDF5 file via `model.save()` or `keras.saving.save_model(model)`. This file format is considered legacy. We recommend using instead the native Keras format, e.g. `model.save('my_model.keras')` or `keras.saving.save_model(model, 'my_model.keras')`. \n"
          ]
        },
        {
          "output_type": "stream",
          "name": "stdout",
          "text": [
            "\b\b\b\b\b\b\b\b\b\b\b\b\b\b\b\b\b\b\b\b\b\b\b\b\b\b\b\b\b\b\b\b\b\b\b\b\b\b\b\b\b\b\b\b\b\b\b\b\b\b\b\b\b\b\b\b\b\b\b\b\b\b\b\b\b\b\b\b\b\b\b\b\b\b\b\b\r\u001b[1m5746/5746\u001b[0m \u001b[32m━━━━━━━━━━━━━━━━━━━━\u001b[0m\u001b[37m\u001b[0m \u001b[1m37s\u001b[0m 7ms/step - accuracy: 0.7864 - loss: 0.5113 - val_accuracy: 0.7567 - val_loss: 0.5963 - learning_rate: 5.0000e-04\n",
            "Epoch 25/50\n",
            "\u001b[1m5745/5746\u001b[0m \u001b[32m━━━━━━━━━━━━━━━━━━━\u001b[0m\u001b[37m━\u001b[0m \u001b[1m0s\u001b[0m 6ms/step - accuracy: 0.7874 - loss: 0.5076\n",
            "Epoch 25: val_accuracy did not improve from 0.75667\n",
            "\u001b[1m5746/5746\u001b[0m \u001b[32m━━━━━━━━━━━━━━━━━━━━\u001b[0m\u001b[37m\u001b[0m \u001b[1m41s\u001b[0m 7ms/step - accuracy: 0.7874 - loss: 0.5076 - val_accuracy: 0.7540 - val_loss: 0.6004 - learning_rate: 5.0000e-04\n",
            "Epoch 26/50\n",
            "\u001b[1m5745/5746\u001b[0m \u001b[32m━━━━━━━━━━━━━━━━━━━\u001b[0m\u001b[37m━\u001b[0m \u001b[1m0s\u001b[0m 6ms/step - accuracy: 0.7916 - loss: 0.5008\n",
            "Epoch 26: val_accuracy did not improve from 0.75667\n",
            "\u001b[1m5746/5746\u001b[0m \u001b[32m━━━━━━━━━━━━━━━━━━━━\u001b[0m\u001b[37m\u001b[0m \u001b[1m37s\u001b[0m 6ms/step - accuracy: 0.7916 - loss: 0.5008 - val_accuracy: 0.7490 - val_loss: 0.6116 - learning_rate: 5.0000e-04\n",
            "Epoch 27/50\n",
            "\u001b[1m5745/5746\u001b[0m \u001b[32m━━━━━━━━━━━━━━━━━━━\u001b[0m\u001b[37m━\u001b[0m \u001b[1m0s\u001b[0m 6ms/step - accuracy: 0.7913 - loss: 0.4985\n",
            "Epoch 27: ReduceLROnPlateau reducing learning rate to 0.0002500000118743628.\n",
            "\n",
            "Epoch 27: val_accuracy did not improve from 0.75667\n",
            "\u001b[1m5746/5746\u001b[0m \u001b[32m━━━━━━━━━━━━━━━━━━━━\u001b[0m\u001b[37m\u001b[0m \u001b[1m43s\u001b[0m 7ms/step - accuracy: 0.7913 - loss: 0.4985 - val_accuracy: 0.7532 - val_loss: 0.6136 - learning_rate: 5.0000e-04\n",
            "Epoch 28/50\n",
            "\u001b[1m5746/5746\u001b[0m \u001b[32m━━━━━━━━━━━━━━━━━━━━\u001b[0m\u001b[37m\u001b[0m \u001b[1m0s\u001b[0m 6ms/step - accuracy: 0.8025 - loss: 0.4746\n",
            "Epoch 28: val_accuracy did not improve from 0.75667\n",
            "\u001b[1m5746/5746\u001b[0m \u001b[32m━━━━━━━━━━━━━━━━━━━━\u001b[0m\u001b[37m\u001b[0m \u001b[1m37s\u001b[0m 7ms/step - accuracy: 0.8025 - loss: 0.4746 - val_accuracy: 0.7539 - val_loss: 0.6144 - learning_rate: 2.5000e-04\n",
            "Epoch 29/50\n",
            "\u001b[1m5746/5746\u001b[0m \u001b[32m━━━━━━━━━━━━━━━━━━━━\u001b[0m\u001b[37m\u001b[0m \u001b[1m0s\u001b[0m 6ms/step - accuracy: 0.8048 - loss: 0.4665\n",
            "Epoch 29: val_accuracy did not improve from 0.75667\n",
            "\u001b[1m5746/5746\u001b[0m \u001b[32m━━━━━━━━━━━━━━━━━━━━\u001b[0m\u001b[37m\u001b[0m \u001b[1m39s\u001b[0m 7ms/step - accuracy: 0.8048 - loss: 0.4665 - val_accuracy: 0.7515 - val_loss: 0.6422 - learning_rate: 2.5000e-04\n",
            "Epoch 29: early stopping\n",
            "Restoring model weights from the end of the best epoch: 24.\n",
            "\n",
            "======================================================================\n",
            "COMPREHENSIVE EVALUATION ON ALL DATASETS\n",
            "======================================================================\n",
            "\n",
            "FINAL RESULTS:\n",
            "Training Accuracy:   0.8163\n",
            "Validation Accuracy: 0.7567\n",
            "Test Accuracy:       0.8017\n",
            "\n",
            "DETAILED TEST SET EVALUATION:\n",
            "\u001b[1m625/625\u001b[0m \u001b[32m━━━━━━━━━━━━━━━━━━━━\u001b[0m\u001b[37m\u001b[0m \u001b[1m2s\u001b[0m 2ms/step\n",
            "FINAL TEST Accuracy: 0.8017\n",
            "FINAL TEST Macro F1 Score: 0.7319\n",
            "FINAL TEST Macro AUC Score: 0.9096\n",
            "FINAL TEST Classification Report:\n",
            "              precision    recall  f1-score   support\n",
            "\n",
            "           0       0.63      0.77      0.70      3363\n",
            "           1       0.60      0.63      0.62      3416\n",
            "           2       0.91      0.85      0.88     13221\n",
            "\n",
            "    accuracy                           0.80     20000\n",
            "   macro avg       0.72      0.75      0.73     20000\n",
            "weighted avg       0.81      0.80      0.81     20000\n",
            "\n"
          ]
        },
        {
          "output_type": "display_data",
          "data": {
            "text/plain": [
              "<Figure size 800x600 with 2 Axes>"
            ],
            "image/png": "[encoded data removed]"
          },
          "metadata": {}
        },
        {
          "output_type": "stream",
          "name": "stdout",
          "text": [
            "FINAL TEST Class 0 AUC: 0.9305\n",
            "FINAL TEST Class 1 AUC: 0.8744\n",
            "FINAL TEST Class 2 AUC: 0.9238\n"
          ]
        },
        {
          "output_type": "display_data",
          "data": {
            "text/plain": [
              "<Figure size 800x600 with 1 Axes>"
            ],
            "image/png": "[encoded data removed]"
          },
          "metadata": {}
        },
        {
          "output_type": "stream",
          "name": "stderr",
          "text": [
            "WARNING:absl:You are saving your model as an HDF5 file via `model.save()` or `keras.saving.save_model(model)`. This file format is considered legacy. We recommend using instead the native Keras format, e.g. `model.save('my_model.keras')` or `keras.saving.save_model(model, 'my_model.keras')`. \n"
          ]
        },
        {
          "output_type": "stream",
          "name": "stdout",
          "text": [
            "\n",
            "Model, tokenizer, and label encoder saved!\n",
            "\n",
            "======================================================================\n",
            "COMPLETE TRAINING SUMMARY\n",
            "======================================================================\n",
            "Architecture: Non-causal Transformer with 200D frozen Word2Vec\n",
            "Training approach: Systematic hyperparameter optimization\n",
            "Data: Proper train/validation/test splits\n",
            "Final test performance will be displayed above!\n"
          ]
        }
      ]
    },
    {
      "cell_type": "code",
      "source": [
        "final_model.save('final_50epoch.keras')"
      ],
      "metadata": {
        "id": "84sYpp0mQFRe"
      },
      "id": "84sYpp0mQFRe",
      "execution_count": null,
      "outputs": []
    },
    {
      "cell_type": "markdown",
      "source": [
        "# Lime"
      ],
      "metadata": {
        "id": "NbRoDUOKRQ8U"
      },
      "id": "NbRoDUOKRQ8U"
    },
    {
      "cell_type": "code",
      "source": [
        "!pip install lime"
      ],
      "metadata": {
        "colab": {
          "base_uri": "https://localhost:8080/"
        },
        "id": "573-x9wnRYm0",
        "outputId": "7248a880-09f2-43c4-fa3e-608069415424"
      },
      "id": "573-x9wnRYm0",
      "execution_count": null,
      "outputs": [
        {
          "output_type": "stream",
          "name": "stdout",
          "text": [
            "Collecting lime\n",
            "  Downloading lime-0.2.0.1.tar.gz (275 kB)\n",
            "\u001b[?25l     \u001b[90m━━━━━━━━━━━━━━━━━━━━━━━━━━━━━━━━━━━━━━━━\u001b[0m \u001b[32m0.0/275.7 kB\u001b[0m \u001b[31m?\u001b[0m eta \u001b[36m-:--:--\u001b[0m\r\u001b[2K     \u001b[90m━━━━━━━━━━━━━━━━━━━━━━━━━━━━━━━━━━━━━━━\u001b[0m \u001b[32m275.7/275.7 kB\u001b[0m \u001b[31m8.7 MB/s\u001b[0m eta \u001b[36m0:00:00\u001b[0m\n",
            "\u001b[?25h  Preparing metadata (setup.py) ... \u001b[?25l\u001b[?25hdone\n",
            "Requirement already satisfied: matplotlib in /usr/local/lib/python3.11/dist-packages (from lime) (3.10.0)\n",
            "Requirement already satisfied: numpy in /usr/local/lib/python3.11/dist-packages (from lime) (2.0.2)\n",
            "Requirement already satisfied: scipy in /usr/local/lib/python3.11/dist-packages (from lime) (1.15.3)\n",
            "Requirement already satisfied: tqdm in /usr/local/lib/python3.11/dist-packages (from lime) (4.67.1)\n",
            "Requirement already satisfied: scikit-learn>=0.18 in /usr/local/lib/python3.11/dist-packages (from lime) (1.6.1)\n",
            "Requirement already satisfied: scikit-image>=0.12 in /usr/local/lib/python3.11/dist-packages (from lime) (0.25.2)\n",
            "Requirement already satisfied: networkx>=3.0 in /usr/local/lib/python3.11/dist-packages (from scikit-image>=0.12->lime) (3.5)\n",
            "Requirement already satisfied: pillow>=10.1 in /usr/local/lib/python3.11/dist-packages (from scikit-image>=0.12->lime) (11.2.1)\n",
            "Requirement already satisfied: imageio!=2.35.0,>=2.33 in /usr/local/lib/python3.11/dist-packages (from scikit-image>=0.12->lime) (2.37.0)\n",
            "Requirement already satisfied: tifffile>=2022.8.12 in /usr/local/lib/python3.11/dist-packages (from scikit-image>=0.12->lime) (2025.6.11)\n",
            "Requirement already satisfied: packaging>=21 in /usr/local/lib/python3.11/dist-packages (from scikit-image>=0.12->lime) (24.2)\n",
            "Requirement already satisfied: lazy-loader>=0.4 in /usr/local/lib/python3.11/dist-packages (from scikit-image>=0.12->lime) (0.4)\n",
            "Requirement already satisfied: joblib>=1.2.0 in /usr/local/lib/python3.11/dist-packages (from scikit-learn>=0.18->lime) (1.5.1)\n",
            "Requirement already satisfied: threadpoolctl>=3.1.0 in /usr/local/lib/python3.11/dist-packages (from scikit-learn>=0.18->lime) (3.6.0)\n",
            "Requirement already satisfied: contourpy>=1.0.1 in /usr/local/lib/python3.11/dist-packages (from matplotlib->lime) (1.3.2)\n",
            "Requirement already satisfied: cycler>=0.10 in /usr/local/lib/python3.11/dist-packages (from matplotlib->lime) (0.12.1)\n",
            "Requirement already satisfied: fonttools>=4.22.0 in /usr/local/lib/python3.11/dist-packages (from matplotlib->lime) (4.58.4)\n",
            "Requirement already satisfied: kiwisolver>=1.3.1 in /usr/local/lib/python3.11/dist-packages (from matplotlib->lime) (1.4.8)\n",
            "Requirement already satisfied: pyparsing>=2.3.1 in /usr/local/lib/python3.11/dist-packages (from matplotlib->lime) (3.2.3)\n",
            "Requirement already satisfied: python-dateutil>=2.7 in /usr/local/lib/python3.11/dist-packages (from matplotlib->lime) (2.9.0.post0)\n",
            "Requirement already satisfied: six>=1.5 in /usr/local/lib/python3.11/dist-packages (from python-dateutil>=2.7->matplotlib->lime) (1.17.0)\n",
            "Building wheels for collected packages: lime\n",
            "  Building wheel for lime (setup.py) ... \u001b[?25l\u001b[?25hdone\n",
            "  Created wheel for lime: filename=lime-0.2.0.1-py3-none-any.whl size=283834 sha256=efc2bdd249eaac2fe8e74fbdaffa835940775c1d5a45621c931c6d33e31bf802\n",
            "  Stored in directory: /root/.cache/pip/wheels/85/fa/a3/9c2d44c9f3cd77cf4e533b58900b2bf4487f2a17e8ec212a3d\n",
            "Successfully built lime\n",
            "Installing collected packages: lime\n",
            "Successfully installed lime-0.2.0.1\n"
          ]
        }
      ]
    }
  ],
  "metadata": {
    "environment": {
      "kernel": "conda-base-py",
      "name": "workbench-notebooks.m129",
      "type": "gcloud",
      "uri": "us-docker.pkg.dev/deeplearning-platform-release/gcr.io/workbench-notebooks:m129"
    },
    "kernelspec": {
      "display_name": "Python 3 (ipykernel)",
      "language": "python",
      "name": "conda-base-py"
    },
    "language_info": {
      "codemirror_mode": {
        "name": "ipython",
        "version": 3
      },
      "file_extension": ".py",
      "mimetype": "text/x-python",
      "name": "python",
      "nbconvert_exporter": "python",
      "pygments_lexer": "ipython3",
      "version": "3.10.16"
    },
    "colab": {
      "provenance": [],
      "gpuType": "T4",
      "toc_visible": true
    },
    "accelerator": "GPU"
  },
  "nbformat": 4,
  "nbformat_minor": 5
}